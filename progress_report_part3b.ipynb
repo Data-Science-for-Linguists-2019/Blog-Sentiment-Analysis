{
 "cells": [
  {
   "cell_type": "markdown",
   "metadata": {},
   "source": [
    "# Progress Report #3.5: [Blog-Sentiment Analysis](https://github.com/Data-Science-for-Linguists-2019/Blog-Sentiment-Analysis)\n",
    "\n",
    "*Eva fix the link below*\n",
    "\n",
    "This is the second part of [Progress Report #3](https://github.com/Data-Science-for-Linguists-2019/Blog-Sentiment-Analysis). I am switching Jupyter notebooks so I can do some math stuff in R.\n",
    "\n",
    "# Loading the data again"
   ]
  },
  {
   "cell_type": "code",
   "execution_count": 5,
   "metadata": {},
   "outputs": [
    {
     "name": "stderr",
     "output_type": "stream",
     "text": [
      "Loading required package: carData\n"
     ]
    }
   ],
   "source": [
    "# If you are trying to reproduce this - the Anaconda version of R does not come with lme4 and car installed\n",
    "# install.packages(\"package\") wasn't working for me so I used Anaconda-Navigator\n",
    "library(ggplot2)\n",
    "library(lme4)\n",
    "library(car)"
   ]
  },
  {
   "cell_type": "code",
   "execution_count": 8,
   "metadata": {},
   "outputs": [],
   "source": [
    "filename = '/users/eva/Documents/Data_Science/Blog-Sentiment-Analysis/blog_sentiment_data.csv'"
   ]
  },
  {
   "cell_type": "code",
   "execution_count": null,
   "metadata": {},
   "outputs": [],
   "source": [
    "blogdata <- read.csv(file=filename, header=TRUE, sep=\",\")"
   ]
  },
  {
   "cell_type": "code",
   "execution_count": null,
   "metadata": {},
   "outputs": [],
   "source": []
  }
 ],
 "metadata": {
  "kernelspec": {
   "display_name": "R [conda env:R]",
   "language": "R",
   "name": "conda-env-R-r"
  },
  "language_info": {
   "codemirror_mode": "r",
   "file_extension": ".r",
   "mimetype": "text/x-r-source",
   "name": "R",
   "pygments_lexer": "r",
   "version": "3.5.1"
  }
 },
 "nbformat": 4,
 "nbformat_minor": 2
}
