{
 "cells": [
  {
   "cell_type": "markdown",
   "metadata": {},
   "source": [
    "# Progress Report #3.5: [Blog-Sentiment Analysis](https://github.com/Data-Science-for-Linguists-2019/Blog-Sentiment-Analysis)\n",
    "\n",
    "*Eva fix the link below*\n",
    "\n",
    "This is the second part of [Progress Report #3](https://github.com/Data-Science-for-Linguists-2019/Blog-Sentiment-Analysis). I am switching Jupyter notebooks so I can do some math stuff in R. Most of this code is stolen from my Statistics Research in Linguistics professor, Dr. Melinda Fricke, and our class textbook *How to do Linguistics with R* by Dr. Natalia Levshina. \n",
    "\n",
    "# Loading the data again"
   ]
  },
  {
   "cell_type": "code",
   "execution_count": 5,
   "metadata": {},
   "outputs": [
    {
     "name": "stderr",
     "output_type": "stream",
     "text": [
      "Loading required package: carData\n"
     ]
    }
   ],
   "source": [
    "# If you are trying to reproduce this - the Anaconda version of R does not come with lme4 and car installed\n",
    "# install.packages(\"package\") wasn't working for me so I used Anaconda-Navigator to install\n",
    "library(ggplot2)\n",
    "library(lme4)\n",
    "library(car)"
   ]
  },
  {
   "cell_type": "code",
   "execution_count": 8,
   "metadata": {},
   "outputs": [],
   "source": [
    "filename = '/users/eva/Documents/Data_Science/Blog-Sentiment-Analysis/blog_sentiment_data.csv'"
   ]
  },
  {
   "cell_type": "code",
   "execution_count": 9,
   "metadata": {},
   "outputs": [],
   "source": [
    "blogdata <- read.csv(file=filename, header=TRUE, sep=\",\")"
   ]
  },
  {
   "cell_type": "code",
   "execution_count": 11,
   "metadata": {},
   "outputs": [
    {
     "data": {
      "text/html": [
       "<ol class=list-inline>\n",
       "\t<li>681284</li>\n",
       "\t<li>11</li>\n",
       "</ol>\n"
      ],
      "text/latex": [
       "\\begin{enumerate*}\n",
       "\\item 681284\n",
       "\\item 11\n",
       "\\end{enumerate*}\n"
      ],
      "text/markdown": [
       "1. 681284\n",
       "2. 11\n",
       "\n",
       "\n"
      ],
      "text/plain": [
       "[1] 681284     11"
      ]
     },
     "metadata": {},
     "output_type": "display_data"
    }
   ],
   "source": [
    "dim(blogdata)"
   ]
  },
  {
   "cell_type": "code",
   "execution_count": 12,
   "metadata": {},
   "outputs": [
    {
     "data": {
      "text/plain": [
       "       X                id             gender            age       \n",
       " Min.   :     0   Min.   :   5114   female:336091   Min.   :13.00  \n",
       " 1st Qu.:170321   1st Qu.:1239610   male  :345193   1st Qu.:17.00  \n",
       " Median :340642   Median :2607577                   Median :24.00  \n",
       " Mean   :340642   Mean   :2397802                   Mean   :23.93  \n",
       " 3rd Qu.:510962   3rd Qu.:3525660                   3rd Qu.:26.00  \n",
       " Max.   :681283   Max.   :4337650                   Max.   :48.00  \n",
       "                                                                   \n",
       "                 industry           sign                    date       \n",
       " indUnk              :251015   Cancer : 65048   02,August,2004: 16544  \n",
       " Student             :153903   Aries  : 64979   01,August,2004: 13261  \n",
       " Technology          : 42055   Taurus : 62561   03,August,2004: 11851  \n",
       " Arts                : 32449   Libra  : 62363   05,August,2004:  9297  \n",
       " Education           : 29633   Virgo  : 60399   04,August,2004:  8661  \n",
       " Communications-Media: 20140   Scorpio: 57161   09,August,2004:  7818  \n",
       " (Other)             :152089   (Other):308773   (Other)       :613852  \n",
       "                     text           sentiment     \n",
       "          urlLink      :   445   negative:121508  \n",
       "                       :   395   neutral :188811  \n",
       "                       :   338   positive:370965  \n",
       "                       :   310                    \n",
       "                       :   271                    \n",
       "                       :   255                    \n",
       " (Other)               :679270                    \n",
       "                                                                                                                                tokens      \n",
       " []                                                                                                                                :  6158  \n",
       " ['brought', 'jpservicez', 'com', 'smart', 'bargain', 'shopping', 'please', 'click', 'title', 'take', 'promotions', 'site', 'feed']:   153  \n",
       " ['test']                                                                                                                          :   127  \n",
       " ['sylvain', '40th', 'birthday', 'may', '2004']                                                                                    :    82  \n",
       " ['temple']                                                                                                                        :    71  \n",
       " ['testing']                                                                                                                       :    67  \n",
       " (Other)                                                                                                                           :674626  \n",
       " polarity_score   \n",
       " Min.   :-1.0000  \n",
       " 1st Qu.:-0.0374  \n",
       " Median : 0.6239  \n",
       " Mean   : 0.3416  \n",
       " 3rd Qu.: 0.9456  \n",
       " Max.   : 1.0000  \n",
       "                  "
      ]
     },
     "metadata": {},
     "output_type": "display_data"
    }
   ],
   "source": [
    "summary(blogdata)"
   ]
  },
  {
   "cell_type": "markdown",
   "metadata": {},
   "source": [
    "Looks like everything loaded in correctly. (Note: `head(blogdata)` looks like a mess.)"
   ]
  },
  {
   "cell_type": "markdown",
   "metadata": {},
   "source": [
    "## Analysis questions\n",
    "Now that I have the polarity scores, I would like to investigate potential correlations between polarity score and industry, age, or gender. I also want to see if it's possible to predict polarity score using demographic information (hypothesis: no, but I think it's worth investigating). I realize that since I'm not dropping duplicate blogs and finding the mean for that blogger, that effects my results, but I'm going to disregard that since I don't have a ton of time. I have 3 main aims for this analysis:\n",
    "\n",
    "+ Reveal potential relationships in the data using tables and graphs\n",
    "+ Investigate correlations\n",
    "+ Create a mixed effects regression model in order to discover if any of the demographic info is a significant predictor for polarity\n",
    "\n",
    "Full disclosure, I learned how to create a mixed effects regression model yesterday. Hopefully I'm doing everything correctly.\n",
    "\n",
    "### Looking for relationships in the data"
   ]
  },
  {
   "cell_type": "code",
   "execution_count": 19,
   "metadata": {},
   "outputs": [
    {
     "data": {
      "text/html": [
       "<table>\n",
       "<thead><tr><th scope=col>industry</th><th scope=col>polarity_score</th></tr></thead>\n",
       "<tbody>\n",
       "\t<tr><td>Accounting             </td><td>0.4645508              </td></tr>\n",
       "\t<tr><td>Advertising            </td><td>0.3727675              </td></tr>\n",
       "\t<tr><td>Agriculture            </td><td>0.3754881              </td></tr>\n",
       "\t<tr><td>Architecture           </td><td>0.3044571              </td></tr>\n",
       "\t<tr><td>Arts                   </td><td>0.3376918              </td></tr>\n",
       "\t<tr><td>Automotive             </td><td>0.2363101              </td></tr>\n",
       "\t<tr><td>Banking                </td><td>0.2816877              </td></tr>\n",
       "\t<tr><td>Biotech                </td><td>0.3018659              </td></tr>\n",
       "\t<tr><td>BusinessServices       </td><td>0.3540992              </td></tr>\n",
       "\t<tr><td>Chemicals              </td><td>0.2320878              </td></tr>\n",
       "\t<tr><td>Communications-Media   </td><td>0.3417404              </td></tr>\n",
       "\t<tr><td>Construction           </td><td>0.3419536              </td></tr>\n",
       "\t<tr><td>Consulting             </td><td>0.3559128              </td></tr>\n",
       "\t<tr><td>Education              </td><td>0.3951221              </td></tr>\n",
       "\t<tr><td>Engineering            </td><td>0.3853562              </td></tr>\n",
       "\t<tr><td>Environment            </td><td>0.3516191              </td></tr>\n",
       "\t<tr><td>Fashion                </td><td>0.3355025              </td></tr>\n",
       "\t<tr><td>Government             </td><td>0.3519451              </td></tr>\n",
       "\t<tr><td>HumanResources         </td><td>0.3157235              </td></tr>\n",
       "\t<tr><td>indUnk                 </td><td>0.3356669              </td></tr>\n",
       "\t<tr><td>Internet               </td><td>0.3222351              </td></tr>\n",
       "\t<tr><td>InvestmentBanking      </td><td>0.3097913              </td></tr>\n",
       "\t<tr><td>Law                    </td><td>0.2672299              </td></tr>\n",
       "\t<tr><td>LawEnforcement-Security</td><td>0.3764333              </td></tr>\n",
       "\t<tr><td>Manufacturing          </td><td>0.3712059              </td></tr>\n",
       "\t<tr><td>Maritime               </td><td>0.2165286              </td></tr>\n",
       "\t<tr><td>Marketing              </td><td>0.4364595              </td></tr>\n",
       "\t<tr><td>Military               </td><td>0.2766361              </td></tr>\n",
       "\t<tr><td>Museums-Libraries      </td><td>0.4259154              </td></tr>\n",
       "\t<tr><td>Non-Profit             </td><td>0.3444127              </td></tr>\n",
       "\t<tr><td>Publishing             </td><td>0.3320791              </td></tr>\n",
       "\t<tr><td>RealEstate             </td><td>0.4533177              </td></tr>\n",
       "\t<tr><td>Religion               </td><td>0.4443823              </td></tr>\n",
       "\t<tr><td>Science                </td><td>0.3727429              </td></tr>\n",
       "\t<tr><td>Sports-Recreation      </td><td>0.3547811              </td></tr>\n",
       "\t<tr><td>Student                </td><td>0.3352763              </td></tr>\n",
       "\t<tr><td>Technology             </td><td>0.3335704              </td></tr>\n",
       "\t<tr><td>Telecommunications     </td><td>0.3653331              </td></tr>\n",
       "\t<tr><td>Tourism                </td><td>0.3530035              </td></tr>\n",
       "\t<tr><td>Transportation         </td><td>0.4227209              </td></tr>\n",
       "</tbody>\n",
       "</table>\n"
      ],
      "text/latex": [
       "\\begin{tabular}{r|ll}\n",
       " industry & polarity\\_score\\\\\n",
       "\\hline\n",
       "\t Accounting              & 0.4645508              \\\\\n",
       "\t Advertising             & 0.3727675              \\\\\n",
       "\t Agriculture             & 0.3754881              \\\\\n",
       "\t Architecture            & 0.3044571              \\\\\n",
       "\t Arts                    & 0.3376918              \\\\\n",
       "\t Automotive              & 0.2363101              \\\\\n",
       "\t Banking                 & 0.2816877              \\\\\n",
       "\t Biotech                 & 0.3018659              \\\\\n",
       "\t BusinessServices        & 0.3540992              \\\\\n",
       "\t Chemicals               & 0.2320878              \\\\\n",
       "\t Communications-Media    & 0.3417404              \\\\\n",
       "\t Construction            & 0.3419536              \\\\\n",
       "\t Consulting              & 0.3559128              \\\\\n",
       "\t Education               & 0.3951221              \\\\\n",
       "\t Engineering             & 0.3853562              \\\\\n",
       "\t Environment             & 0.3516191              \\\\\n",
       "\t Fashion                 & 0.3355025              \\\\\n",
       "\t Government              & 0.3519451              \\\\\n",
       "\t HumanResources          & 0.3157235              \\\\\n",
       "\t indUnk                  & 0.3356669              \\\\\n",
       "\t Internet                & 0.3222351              \\\\\n",
       "\t InvestmentBanking       & 0.3097913              \\\\\n",
       "\t Law                     & 0.2672299              \\\\\n",
       "\t LawEnforcement-Security & 0.3764333              \\\\\n",
       "\t Manufacturing           & 0.3712059              \\\\\n",
       "\t Maritime                & 0.2165286              \\\\\n",
       "\t Marketing               & 0.4364595              \\\\\n",
       "\t Military                & 0.2766361              \\\\\n",
       "\t Museums-Libraries       & 0.4259154              \\\\\n",
       "\t Non-Profit              & 0.3444127              \\\\\n",
       "\t Publishing              & 0.3320791              \\\\\n",
       "\t RealEstate              & 0.4533177              \\\\\n",
       "\t Religion                & 0.4443823              \\\\\n",
       "\t Science                 & 0.3727429              \\\\\n",
       "\t Sports-Recreation       & 0.3547811              \\\\\n",
       "\t Student                 & 0.3352763              \\\\\n",
       "\t Technology              & 0.3335704              \\\\\n",
       "\t Telecommunications      & 0.3653331              \\\\\n",
       "\t Tourism                 & 0.3530035              \\\\\n",
       "\t Transportation          & 0.4227209              \\\\\n",
       "\\end{tabular}\n"
      ],
      "text/markdown": [
       "\n",
       "industry | polarity_score | \n",
       "|---|---|---|---|---|---|---|---|---|---|---|---|---|---|---|---|---|---|---|---|---|---|---|---|---|---|---|---|---|---|---|---|---|---|---|---|---|---|---|---|\n",
       "| Accounting              | 0.4645508               | \n",
       "| Advertising             | 0.3727675               | \n",
       "| Agriculture             | 0.3754881               | \n",
       "| Architecture            | 0.3044571               | \n",
       "| Arts                    | 0.3376918               | \n",
       "| Automotive              | 0.2363101               | \n",
       "| Banking                 | 0.2816877               | \n",
       "| Biotech                 | 0.3018659               | \n",
       "| BusinessServices        | 0.3540992               | \n",
       "| Chemicals               | 0.2320878               | \n",
       "| Communications-Media    | 0.3417404               | \n",
       "| Construction            | 0.3419536               | \n",
       "| Consulting              | 0.3559128               | \n",
       "| Education               | 0.3951221               | \n",
       "| Engineering             | 0.3853562               | \n",
       "| Environment             | 0.3516191               | \n",
       "| Fashion                 | 0.3355025               | \n",
       "| Government              | 0.3519451               | \n",
       "| HumanResources          | 0.3157235               | \n",
       "| indUnk                  | 0.3356669               | \n",
       "| Internet                | 0.3222351               | \n",
       "| InvestmentBanking       | 0.3097913               | \n",
       "| Law                     | 0.2672299               | \n",
       "| LawEnforcement-Security | 0.3764333               | \n",
       "| Manufacturing           | 0.3712059               | \n",
       "| Maritime                | 0.2165286               | \n",
       "| Marketing               | 0.4364595               | \n",
       "| Military                | 0.2766361               | \n",
       "| Museums-Libraries       | 0.4259154               | \n",
       "| Non-Profit              | 0.3444127               | \n",
       "| Publishing              | 0.3320791               | \n",
       "| RealEstate              | 0.4533177               | \n",
       "| Religion                | 0.4443823               | \n",
       "| Science                 | 0.3727429               | \n",
       "| Sports-Recreation       | 0.3547811               | \n",
       "| Student                 | 0.3352763               | \n",
       "| Technology              | 0.3335704               | \n",
       "| Telecommunications      | 0.3653331               | \n",
       "| Tourism                 | 0.3530035               | \n",
       "| Transportation          | 0.4227209               | \n",
       "\n",
       "\n"
      ],
      "text/plain": [
       "   industry                polarity_score\n",
       "1  Accounting              0.4645508     \n",
       "2  Advertising             0.3727675     \n",
       "3  Agriculture             0.3754881     \n",
       "4  Architecture            0.3044571     \n",
       "5  Arts                    0.3376918     \n",
       "6  Automotive              0.2363101     \n",
       "7  Banking                 0.2816877     \n",
       "8  Biotech                 0.3018659     \n",
       "9  BusinessServices        0.3540992     \n",
       "10 Chemicals               0.2320878     \n",
       "11 Communications-Media    0.3417404     \n",
       "12 Construction            0.3419536     \n",
       "13 Consulting              0.3559128     \n",
       "14 Education               0.3951221     \n",
       "15 Engineering             0.3853562     \n",
       "16 Environment             0.3516191     \n",
       "17 Fashion                 0.3355025     \n",
       "18 Government              0.3519451     \n",
       "19 HumanResources          0.3157235     \n",
       "20 indUnk                  0.3356669     \n",
       "21 Internet                0.3222351     \n",
       "22 InvestmentBanking       0.3097913     \n",
       "23 Law                     0.2672299     \n",
       "24 LawEnforcement-Security 0.3764333     \n",
       "25 Manufacturing           0.3712059     \n",
       "26 Maritime                0.2165286     \n",
       "27 Marketing               0.4364595     \n",
       "28 Military                0.2766361     \n",
       "29 Museums-Libraries       0.4259154     \n",
       "30 Non-Profit              0.3444127     \n",
       "31 Publishing              0.3320791     \n",
       "32 RealEstate              0.4533177     \n",
       "33 Religion                0.4443823     \n",
       "34 Science                 0.3727429     \n",
       "35 Sports-Recreation       0.3547811     \n",
       "36 Student                 0.3352763     \n",
       "37 Technology              0.3335704     \n",
       "38 Telecommunications      0.3653331     \n",
       "39 Tourism                 0.3530035     \n",
       "40 Transportation          0.4227209     "
      ]
     },
     "metadata": {},
     "output_type": "display_data"
    }
   ],
   "source": [
    "aggregate(polarity_score ~ industry, data=blogdata, mean)"
   ]
  },
  {
   "cell_type": "markdown",
   "metadata": {},
   "source": [
    "Polarity scores across industry don't seem to vary substantially."
   ]
  },
  {
   "cell_type": "code",
   "execution_count": 14,
   "metadata": {},
   "outputs": [
    {
     "data": {
      "text/html": [
       "<table>\n",
       "<thead><tr><th scope=col>age</th><th scope=col>polarity_score</th></tr></thead>\n",
       "<tbody>\n",
       "\t<tr><td>13       </td><td>0.2837880</td></tr>\n",
       "\t<tr><td>14       </td><td>0.3135089</td></tr>\n",
       "\t<tr><td>15       </td><td>0.3238808</td></tr>\n",
       "\t<tr><td>16       </td><td>0.3219215</td></tr>\n",
       "\t<tr><td>17       </td><td>0.3485861</td></tr>\n",
       "\t<tr><td>23       </td><td>0.3662989</td></tr>\n",
       "\t<tr><td>24       </td><td>0.3473385</td></tr>\n",
       "\t<tr><td>25       </td><td>0.3465799</td></tr>\n",
       "\t<tr><td>26       </td><td>0.3553429</td></tr>\n",
       "\t<tr><td>27       </td><td>0.3402514</td></tr>\n",
       "\t<tr><td>33       </td><td>0.3792355</td></tr>\n",
       "\t<tr><td>34       </td><td>0.3546283</td></tr>\n",
       "\t<tr><td>35       </td><td>0.3243976</td></tr>\n",
       "\t<tr><td>36       </td><td>0.3385855</td></tr>\n",
       "\t<tr><td>37       </td><td>0.3873315</td></tr>\n",
       "\t<tr><td>38       </td><td>0.3154596</td></tr>\n",
       "\t<tr><td>39       </td><td>0.3448602</td></tr>\n",
       "\t<tr><td>40       </td><td>0.1752435</td></tr>\n",
       "\t<tr><td>41       </td><td>0.3710151</td></tr>\n",
       "\t<tr><td>42       </td><td>0.2327931</td></tr>\n",
       "\t<tr><td>43       </td><td>0.2642008</td></tr>\n",
       "\t<tr><td>44       </td><td>0.1976421</td></tr>\n",
       "\t<tr><td>45       </td><td>0.3453472</td></tr>\n",
       "\t<tr><td>46       </td><td>0.4951565</td></tr>\n",
       "\t<tr><td>47       </td><td>0.3194266</td></tr>\n",
       "\t<tr><td>48       </td><td>0.4095340</td></tr>\n",
       "</tbody>\n",
       "</table>\n"
      ],
      "text/latex": [
       "\\begin{tabular}{r|ll}\n",
       " age & polarity\\_score\\\\\n",
       "\\hline\n",
       "\t 13        & 0.2837880\\\\\n",
       "\t 14        & 0.3135089\\\\\n",
       "\t 15        & 0.3238808\\\\\n",
       "\t 16        & 0.3219215\\\\\n",
       "\t 17        & 0.3485861\\\\\n",
       "\t 23        & 0.3662989\\\\\n",
       "\t 24        & 0.3473385\\\\\n",
       "\t 25        & 0.3465799\\\\\n",
       "\t 26        & 0.3553429\\\\\n",
       "\t 27        & 0.3402514\\\\\n",
       "\t 33        & 0.3792355\\\\\n",
       "\t 34        & 0.3546283\\\\\n",
       "\t 35        & 0.3243976\\\\\n",
       "\t 36        & 0.3385855\\\\\n",
       "\t 37        & 0.3873315\\\\\n",
       "\t 38        & 0.3154596\\\\\n",
       "\t 39        & 0.3448602\\\\\n",
       "\t 40        & 0.1752435\\\\\n",
       "\t 41        & 0.3710151\\\\\n",
       "\t 42        & 0.2327931\\\\\n",
       "\t 43        & 0.2642008\\\\\n",
       "\t 44        & 0.1976421\\\\\n",
       "\t 45        & 0.3453472\\\\\n",
       "\t 46        & 0.4951565\\\\\n",
       "\t 47        & 0.3194266\\\\\n",
       "\t 48        & 0.4095340\\\\\n",
       "\\end{tabular}\n"
      ],
      "text/markdown": [
       "\n",
       "age | polarity_score | \n",
       "|---|---|---|---|---|---|---|---|---|---|---|---|---|---|---|---|---|---|---|---|---|---|---|---|---|---|\n",
       "| 13        | 0.2837880 | \n",
       "| 14        | 0.3135089 | \n",
       "| 15        | 0.3238808 | \n",
       "| 16        | 0.3219215 | \n",
       "| 17        | 0.3485861 | \n",
       "| 23        | 0.3662989 | \n",
       "| 24        | 0.3473385 | \n",
       "| 25        | 0.3465799 | \n",
       "| 26        | 0.3553429 | \n",
       "| 27        | 0.3402514 | \n",
       "| 33        | 0.3792355 | \n",
       "| 34        | 0.3546283 | \n",
       "| 35        | 0.3243976 | \n",
       "| 36        | 0.3385855 | \n",
       "| 37        | 0.3873315 | \n",
       "| 38        | 0.3154596 | \n",
       "| 39        | 0.3448602 | \n",
       "| 40        | 0.1752435 | \n",
       "| 41        | 0.3710151 | \n",
       "| 42        | 0.2327931 | \n",
       "| 43        | 0.2642008 | \n",
       "| 44        | 0.1976421 | \n",
       "| 45        | 0.3453472 | \n",
       "| 46        | 0.4951565 | \n",
       "| 47        | 0.3194266 | \n",
       "| 48        | 0.4095340 | \n",
       "\n",
       "\n"
      ],
      "text/plain": [
       "   age polarity_score\n",
       "1  13  0.2837880     \n",
       "2  14  0.3135089     \n",
       "3  15  0.3238808     \n",
       "4  16  0.3219215     \n",
       "5  17  0.3485861     \n",
       "6  23  0.3662989     \n",
       "7  24  0.3473385     \n",
       "8  25  0.3465799     \n",
       "9  26  0.3553429     \n",
       "10 27  0.3402514     \n",
       "11 33  0.3792355     \n",
       "12 34  0.3546283     \n",
       "13 35  0.3243976     \n",
       "14 36  0.3385855     \n",
       "15 37  0.3873315     \n",
       "16 38  0.3154596     \n",
       "17 39  0.3448602     \n",
       "18 40  0.1752435     \n",
       "19 41  0.3710151     \n",
       "20 42  0.2327931     \n",
       "21 43  0.2642008     \n",
       "22 44  0.1976421     \n",
       "23 45  0.3453472     \n",
       "24 46  0.4951565     \n",
       "25 47  0.3194266     \n",
       "26 48  0.4095340     "
      ]
     },
     "metadata": {},
     "output_type": "display_data"
    }
   ],
   "source": [
    "aggregate(polarity_score ~ age, data=blogdata, mean)"
   ]
  },
  {
   "cell_type": "markdown",
   "metadata": {},
   "source": [
    "These seem to vary more substantially - but that may be do to variance in data size. Looks like everything still falls within neutral."
   ]
  },
  {
   "cell_type": "code",
   "execution_count": 16,
   "metadata": {},
   "outputs": [
    {
     "data": {
      "text/html": [
       "<table>\n",
       "<thead><tr><th scope=col>sentiment</th><th scope=col>age</th></tr></thead>\n",
       "<tbody>\n",
       "\t<tr><td>negative</td><td>23.56961</td></tr>\n",
       "\t<tr><td>neutral </td><td>24.26917</td></tr>\n",
       "\t<tr><td>positive</td><td>23.87969</td></tr>\n",
       "</tbody>\n",
       "</table>\n"
      ],
      "text/latex": [
       "\\begin{tabular}{r|ll}\n",
       " sentiment & age\\\\\n",
       "\\hline\n",
       "\t negative & 23.56961\\\\\n",
       "\t neutral  & 24.26917\\\\\n",
       "\t positive & 23.87969\\\\\n",
       "\\end{tabular}\n"
      ],
      "text/markdown": [
       "\n",
       "sentiment | age | \n",
       "|---|---|---|\n",
       "| negative | 23.56961 | \n",
       "| neutral  | 24.26917 | \n",
       "| positive | 23.87969 | \n",
       "\n",
       "\n"
      ],
      "text/plain": [
       "  sentiment age     \n",
       "1 negative  23.56961\n",
       "2 neutral   24.26917\n",
       "3 positive  23.87969"
      ]
     },
     "metadata": {},
     "output_type": "display_data"
    }
   ],
   "source": [
    "aggregate(age ~ sentiment, data=blogdata, mean)"
   ]
  },
  {
   "cell_type": "markdown",
   "metadata": {},
   "source": [
    "Neutral blogs have slightly older bloggers."
   ]
  },
  {
   "cell_type": "code",
   "execution_count": 18,
   "metadata": {},
   "outputs": [
    {
     "data": {
      "text/html": [
       "<table>\n",
       "<thead><tr><th scope=col>gender</th><th scope=col>polarity_score</th></tr></thead>\n",
       "<tbody>\n",
       "\t<tr><td>female   </td><td>0.3664453</td></tr>\n",
       "\t<tr><td>male     </td><td>0.3173169</td></tr>\n",
       "</tbody>\n",
       "</table>\n"
      ],
      "text/latex": [
       "\\begin{tabular}{r|ll}\n",
       " gender & polarity\\_score\\\\\n",
       "\\hline\n",
       "\t female    & 0.3664453\\\\\n",
       "\t male      & 0.3173169\\\\\n",
       "\\end{tabular}\n"
      ],
      "text/markdown": [
       "\n",
       "gender | polarity_score | \n",
       "|---|---|\n",
       "| female    | 0.3664453 | \n",
       "| male      | 0.3173169 | \n",
       "\n",
       "\n"
      ],
      "text/plain": [
       "  gender polarity_score\n",
       "1 female 0.3664453     \n",
       "2 male   0.3173169     "
      ]
     },
     "metadata": {},
     "output_type": "display_data"
    }
   ],
   "source": [
    "aggregate(polarity_score ~ gender, data=blogdata, mean)"
   ]
  },
  {
   "cell_type": "markdown",
   "metadata": {},
   "source": [
    "Female bloggers have slightly higher polarity scores, though both fall within the neutral range."
   ]
  },
  {
   "cell_type": "code",
   "execution_count": 21,
   "metadata": {},
   "outputs": [
    {
     "data": {},
     "metadata": {},
     "output_type": "display_data"
    },
    {
     "data": {
      "image/png": "[encoded data removed]",
      "text/plain": [
       "plot without title"
      ]
     },
     "metadata": {},
     "output_type": "display_data"
    }
   ],
   "source": [
    "ggplot(blogdata, aes(industry, polarity_score, color=gender)) + geom_boxplot() "
   ]
  },
  {
   "cell_type": "markdown",
   "metadata": {},
   "source": [
    "For the purpose of data visualization, I'm going to create a subset with only the top 10 industries (excluding indUnk)."
   ]
  },
  {
   "cell_type": "code",
   "execution_count": 24,
   "metadata": {},
   "outputs": [
    {
     "data": {
      "text/plain": [
       "\n",
       "             Accounting             Advertising             Agriculture \n",
       "                   3832                    4676                    1235 \n",
       "           Architecture                    Arts              Automotive \n",
       "                   1638                   32449                    1244 \n",
       "                Banking                 Biotech        BusinessServices \n",
       "                   4049                    2234                    4500 \n",
       "              Chemicals    Communications-Media            Construction \n",
       "                   3928                   20140                    1093 \n",
       "             Consulting               Education             Engineering \n",
       "                   5862                   29633                   11653 \n",
       "            Environment                 Fashion              Government \n",
       "                    592                    4851                    6907 \n",
       "         HumanResources                  indUnk                Internet \n",
       "                   3010                  251015                   16006 \n",
       "      InvestmentBanking                     Law LawEnforcement-Security \n",
       "                   1292                    9040                    1878 \n",
       "          Manufacturing                Maritime               Marketing \n",
       "                   2272                     280                    4769 \n",
       "               Military       Museums-Libraries              Non-Profit \n",
       "                   3128                    3096                   14700 \n",
       "             Publishing              RealEstate                Religion \n",
       "                   7753                    2870                    5235 \n",
       "                Science       Sports-Recreation                 Student \n",
       "                   7269                    3038                  153903 \n",
       "             Technology      Telecommunications                 Tourism \n",
       "                  42055                    3891                    1942 \n",
       "         Transportation \n",
       "                   2326 "
      ]
     },
     "metadata": {},
     "output_type": "display_data"
    }
   ],
   "source": [
    "subset(lexdec, Correct==\"correct\") -> lexdec"
   ]
  },
  {
   "cell_type": "code",
   "execution_count": null,
   "metadata": {},
   "outputs": [],
   "source": []
  }
 ],
 "metadata": {
  "kernelspec": {
   "display_name": "R [conda env:R]",
   "language": "R",
   "name": "conda-env-R-r"
  },
  "language_info": {
   "codemirror_mode": "r",
   "file_extension": ".r",
   "mimetype": "text/x-r-source",
   "name": "R",
   "pygments_lexer": "r",
   "version": "3.5.1"
  }
 },
 "nbformat": 4,
 "nbformat_minor": 2
}
