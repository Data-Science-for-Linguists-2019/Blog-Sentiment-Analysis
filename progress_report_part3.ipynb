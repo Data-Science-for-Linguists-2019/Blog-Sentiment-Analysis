{
 "cells": [
  {
   "cell_type": "markdown",
   "metadata": {},
   "source": [
    "# Progress Report: [Blog-Sentiment Analysis](https://github.com/Data-Science-for-Linguists-2019/Blog-Sentiment-Analysis)\n",
    "\n",
    "To learn more about the data and see my previous analysis, refer to [Progress Report #2](https://github.com/Data-Science-for-Linguists-2019/Blog-Sentiment-Analysis/blob/master/progress_report_part2.ipynb).\n",
    "\n",
    "# Loading the data"
   ]
  },
  {
   "cell_type": "code",
   "execution_count": 1,
   "metadata": {},
   "outputs": [
    {
     "name": "stdout",
     "output_type": "stream",
     "text": [
      "Pretty printing has been turned OFF\n"
     ]
    }
   ],
   "source": [
    "# Import required packages\n",
    "import pandas as pd\n",
    "import numpy as np\n",
    "import matplotlib.pyplot as plt\n",
    "import seaborn as sns\n",
    "import nltk\n",
    "import re\n",
    "%pprint"
   ]
  },
  {
   "cell_type": "code",
   "execution_count": 2,
   "metadata": {},
   "outputs": [],
   "source": [
    "dir = '/users/eva/Documents/Data_Science/Blog-Sentiment-Analysis/'"
   ]
  },
  {
   "cell_type": "code",
   "execution_count": 3,
   "metadata": {},
   "outputs": [],
   "source": [
    "blogdata = pd.read_csv(dir + 'data/blogtext.csv')"
   ]
  },
  {
   "cell_type": "code",
   "execution_count": 4,
   "metadata": {},
   "outputs": [
    {
     "data": {
      "text/html": [
       "<div>\n",
       "<style scoped>\n",
       "    .dataframe tbody tr th:only-of-type {\n",
       "        vertical-align: middle;\n",
       "    }\n",
       "\n",
       "    .dataframe tbody tr th {\n",
       "        vertical-align: top;\n",
       "    }\n",
       "\n",
       "    .dataframe thead th {\n",
       "        text-align: right;\n",
       "    }\n",
       "</style>\n",
       "<table border=\"1\" class=\"dataframe\">\n",
       "  <thead>\n",
       "    <tr style=\"text-align: right;\">\n",
       "      <th></th>\n",
       "      <th>id</th>\n",
       "      <th>gender</th>\n",
       "      <th>age</th>\n",
       "      <th>industry</th>\n",
       "      <th>sign</th>\n",
       "      <th>date</th>\n",
       "      <th>text</th>\n",
       "    </tr>\n",
       "  </thead>\n",
       "  <tbody>\n",
       "    <tr>\n",
       "      <th>0</th>\n",
       "      <td>2059027</td>\n",
       "      <td>male</td>\n",
       "      <td>15</td>\n",
       "      <td>Student</td>\n",
       "      <td>Leo</td>\n",
       "      <td>14,May,2004</td>\n",
       "      <td>Info has been found (+/- 100 pages,...</td>\n",
       "    </tr>\n",
       "    <tr>\n",
       "      <th>1</th>\n",
       "      <td>2059027</td>\n",
       "      <td>male</td>\n",
       "      <td>15</td>\n",
       "      <td>Student</td>\n",
       "      <td>Leo</td>\n",
       "      <td>13,May,2004</td>\n",
       "      <td>These are the team members:   Drewe...</td>\n",
       "    </tr>\n",
       "    <tr>\n",
       "      <th>2</th>\n",
       "      <td>2059027</td>\n",
       "      <td>male</td>\n",
       "      <td>15</td>\n",
       "      <td>Student</td>\n",
       "      <td>Leo</td>\n",
       "      <td>12,May,2004</td>\n",
       "      <td>In het kader van kernfusie op aarde...</td>\n",
       "    </tr>\n",
       "  </tbody>\n",
       "</table>\n",
       "</div>"
      ],
      "text/plain": [
       "        id gender  age industry sign         date  \\\n",
       "0  2059027   male   15  Student  Leo  14,May,2004   \n",
       "1  2059027   male   15  Student  Leo  13,May,2004   \n",
       "2  2059027   male   15  Student  Leo  12,May,2004   \n",
       "\n",
       "                                                text  \n",
       "0             Info has been found (+/- 100 pages,...  \n",
       "1             These are the team members:   Drewe...  \n",
       "2             In het kader van kernfusie op aarde...  "
      ]
     },
     "execution_count": 4,
     "metadata": {},
     "output_type": "execute_result"
    }
   ],
   "source": [
    "newcolumns = ['id', 'gender', 'age', 'industry', 'sign', 'date', 'text']\n",
    "blogdata.columns = newcolumns\n",
    "blogdata.head(3)"
   ]
  },
  {
   "cell_type": "markdown",
   "metadata": {},
   "source": [
    "# Data analysis\n",
    "### Goals of my analysis\n",
    "There are three things I would like to investigate in this data. \n",
    "1. Word frequencies\n",
    "2. Blog topics\n",
    "3. Blog sentiment\n",
    "\n",
    "I already looked at [word frequencies](https://github.com/Data-Science-for-Linguists-2019/Blog-Sentiment-Analysis/blob/master/progress_report_part2.ipynb) in Progress Report #2, though I'm not super happy with my results. I experimented with [topic clustering using LDA (Latent Dirichlet Allocation) and scikit-learn](https://github.com/Data-Science-for-Linguists-2019/Blog-Sentiment-Analysis/blob/master/progress_report_part2.ipynb). \n",
    "\n",
    "For Progress Report #3, I am going to begin by exploring blog sentiment. If I have time, I will revisit the previous two goals of my analysis."
   ]
  },
  {
   "cell_type": "markdown",
   "metadata": {},
   "source": [
    "## Sentiment analysis\n",
    "\n",
    "Ok so, it appears the vast majority of sentiment analysis groups texts into \"positive\" and \"negative\". I would really like to go deeper than that if possible, but I'll try positive and negative classification first.\n",
    "\n",
    "Since I am really not interested in labeling even a portion of the 681,284 blogs in this dataset for sentiment, I think I am going to try using some already trained models or wordlists with sentiment mapping. Many sentiment models were trained on traditional corpus data, using text from news and books. These models don't incorporate things like emoticons :-) and other internet-specific language which would be found in the blog dataset. In order to get the best sentiment judgments, I specifically looked for models trained on more modern corpora.\n",
    "\n",
    "### First try: VADER\n",
    "VADER (Valence Aware Dictionary and sEntiment Reasoner) is \"a lexicon and rule-based sentiment analysis tool that is specifically attuned to sentiments expressed in social media\". It is also part of NLTK, which is convenient. It looks like it can be used on a whole text without tokenization.\n",
    "Credit:\n",
    "> Hutto, C.J. & Gilbert, E.E. (2014). VADER: A Parsimonious Rule-based Model for Sentiment Analysis of Social Media Text. Eighth International Conference on Weblogs and Social Media (ICWSM-14). Ann Arbor, MI, June 2014."
   ]
  },
  {
   "cell_type": "code",
   "execution_count": 97,
   "metadata": {},
   "outputs": [
    {
     "name": "stdout",
     "output_type": "stream",
     "text": [
      "       well another days gone past and a major highlight of today has been two mass nose bleeds, while the blood is an itresting liquid its rather annoting when its streaning from your nose instead of someones neck. also today was the first full veiwing of the transit of venus across the sun whitnessed by mankind so though it may have been a pathetic black dot moving across the sun it was a once in a life time event and I'm slighty happyer that i've seen what some people can never see.  well with two nosebleeds, a mathes exam, a good roasting at the hands of the sun, an inability to focus properly and a ponding headache coming on I'm not feeling particly good tonight. but i've found my way back into hack this site which is a cool website which basicly gives the basics to the advanced on web hacking if your intrested its  urlLink hack-this-site dot org  aI'm quite happy with myself as im now twice as far as i got last time and i read loads of help articals then  well i dont feel like typing anything else tonight as my headaches getting realy bad but i hope anyone who reads this has a better evening than I'm going to and I'm sure you probably will  signing ooff one again its bald, goodnight people         \n"
     ]
    }
   ],
   "source": [
    "print(blogdata.text[30000])\n",
    "text = blogdata.text[30000]"
   ]
  },
  {
   "cell_type": "markdown",
   "metadata": {},
   "source": [
    "After doing some poking around I am going to try this blog - it seems pretty negative, but it also uses a lot of sarcasm and understatement, as well as mispellings, which might be an issue. And though it does focus on the negative it also mentions some happier things. Let's see how VADER classifies this."
   ]
  },
  {
   "cell_type": "code",
   "execution_count": 62,
   "metadata": {},
   "outputs": [],
   "source": [
    "from nltk.sentiment.vader import SentimentIntensityAnalyzer"
   ]
  },
  {
   "cell_type": "code",
   "execution_count": 63,
   "metadata": {},
   "outputs": [],
   "source": [
    "sia = SentimentIntensityAnalyzer()"
   ]
  },
  {
   "cell_type": "code",
   "execution_count": 98,
   "metadata": {},
   "outputs": [
    {
     "data": {
      "text/plain": [
       "{'neg': 0.052, 'neu': 0.798, 'pos': 0.149, 'compound': 0.9709}"
      ]
     },
     "execution_count": 98,
     "metadata": {},
     "output_type": "execute_result"
    }
   ],
   "source": [
    "sia.polarity_scores(text)"
   ]
  },
  {
   "cell_type": "markdown",
   "metadata": {},
   "source": [
    "VADER ranks sentiment using a score between -1 and 1. Greater than 0.5 is positive, less than -0.5 is negative, and anything in between is neutral. `.polarity_scores` returns the percentage of the text considered negative, percentage considered neutral, percentage considered positive, and lastly the overall score for the document (`compound`). VADER did a not super great job, since it returned a very very positive score for a negative-seeming document, as well as categorizing most of the statements as \"neutral\". I considered this to be a pretty emotionally charged blog. Let's keep exploring VADER anyway and see how it does."
   ]
  },
  {
   "cell_type": "code",
   "execution_count": 35,
   "metadata": {},
   "outputs": [
    {
     "data": {
      "text/plain": [
       "\"           I am pondering the idea of attempting to learn XML again, to make the site a bit more consistiant, in terms of tags, text sizes, and styles... Fear-not, it wont cut into the time I spen Dev'ing, just improve the work I do :)         \""
      ]
     },
     "execution_count": 35,
     "metadata": {},
     "output_type": "execute_result"
    }
   ],
   "source": [
    "blogdata.text[412412]"
   ]
  },
  {
   "cell_type": "code",
   "execution_count": 99,
   "metadata": {},
   "outputs": [
    {
     "data": {
      "text/plain": [
       "{'neg': 0.0, 'neu': 0.827, 'pos': 0.173, 'compound': 0.7727}"
      ]
     },
     "execution_count": 99,
     "metadata": {},
     "output_type": "execute_result"
    }
   ],
   "source": [
    "sia.polarity_scores(blogdata.text[412412])"
   ]
  },
  {
   "cell_type": "markdown",
   "metadata": {},
   "source": [
    "This statement seems pretty darn neutral to me, though there is a smiley face. The classifier seems to lean positive."
   ]
  },
  {
   "cell_type": "code",
   "execution_count": 37,
   "metadata": {},
   "outputs": [
    {
     "data": {
      "text/plain": [
       "'       Wat my feeling toward Sheffield??? Cold, cool and a bit of disappointment.   Cold – although now is summer, but the weather was quite cold especially the 1st day. It was a gloomy day and rain late of the day. The temperature was below 10 degree Celsius. Then the other days was like the weather in Genting Highlands and sometime even cooler then Genting… but I quite like the weather here, u can walk for hours with out any sweat in the afternoon. Believe it or not….  Cool – the cars, building, scenery and bla blab la were cool. After a few days here, I can see all my dream cars, Ferrari, Lambogini, Lotus, GTO, FTO, Impreza, BMW (the model tat drove by James Bond) and many many more tat I dunno the name. however, there is proton here also. Oh ya, kancil also got. Taken photo somemore… hahaha : p  oh.. bout the building, most of the building may seem a bit old, but inside the building was very nice and class leh…. E.g. Sheffield Hallam Uni… : )  Disappointment – cant get into the apartment type of accommodation as wat the told us earlier as we are the last batch… okie, dun mind bout it… but some of us (include me) was place in Marshall Hall (it is the name of the block and not a hall) for temporary as need to wait the full time student to move out from Broomgrove Hall – the hostel we suppose to stay in. tat mean cant unpack and buy all the necessities. Then there is not internet connection in our room.  Day 1 – reach the Manchester airport at bout 5.30am. but the sky was very bright liao, now summer mar, hav daylight from 5am till 10 or 11 pm. The airport is much smaller than KLIA…. Dun have much activities for the 1st day.. just that in the afternoon, our senior bring us to the Sheffield City and a Chinese groceries store… didn’t buy anything as still in temporary accommodation. … then most of the shop is close on Sunday. So there is very quiet and dun hav much people around the city. It was a tire day and sleep at 10 pm (I cant remember when is the last time I slept so early… \\uf04a) as I dun have any good sleep in the plane and bus…. Hehe…  Day 2 – wake up very early… bout 5 something in the morning… since my orientation will onli start at 9.30, so force myself into sleep again… hehe… I not pig lar, was still very tire leh…. The worst thing is we have to walk for 30-40 min to my uni. As usual the orientation start ed with a welcome speech, then registration, payment of fees and bla  bla bla…. Nothing much to say bout today….  Day 3 – hav a day off… but still hav to wake up early as need to go to the Hallam Union to get the ticket to Manchester and Bath (which it hav a limited seat).. will post up the photo after visiting those places… : )  After tat, as usual, shop for some necessities… we when to he market, I mean wet market. Just like in Malaysia, there is butcher, fish stalls, fruits…. But the diff is that their market r much more cleaner tat Malaysia n no bargaining….Not far from the market is the Peace Garden, a garden built to remember those warrior from Sheffield tat killed in wars. Many were  sun-bath there as today hav nice sunshine (which wont get this everyday)….. I was so happy leh today as Brian, Su Tsheng, Joyce, Rachel, Li Ping, Jo Anne, Cher Ching and Gim May have a simple celebration for my birthday… the 1st time celebrate my birthday at foreign country… hehehe …  \\uf04a  Day 4 – classes started today… so dun hav activities going on… just tat evening cook our own dinner… tis is the 1st time we have rice since we reached Sheffield…. So cham…. Hehehe… : p  Day 5 – finally we can move into Broomgrove Hall (remember??? The place we will stay for the rest of the time in Sheffield).. now can unpack all my belongings…. I was place in room 504,… okie very satisfy wif it, hav a nice scenery…. Hehehe…. Dun worry… will take photo also… hahahaha…  The is a television room… so watched the Euro 2004 match between England n Portugal… eh, wat happen 2 Beckam (missed 2 penalty kick liao), any so call Beckam fan can tell me… disappointed wif England performance (although I m not an England fan)… however the match was exciting leh….  Day 6 – nothing special… just attend lecture….at nite, we hav study grp…eh, wat wrong, 2day is fri nite n 1st week of class… I start doing my tutorial!!!  Something wrong wif me??? Okie.. I m still okie... just feel a bit weird… : ) … but feel good lar, atleast complete something… hehehe \\uf04a … fri nite mar, so after tat lepak at Brian’s room lar…  Day 7 – 9.45am woke up, should b the latest I woke up since reach Sheffield (not like me leh)…. : p  2day didn’t go for the trip to Warwick Castle, so wat the activities going on, okie, we when to Netto, the cheapest supermarket as told by the seniors…. They mayb right, the goods are quite cheap…so all of us buy quite some stuffs… it look like we torturing ourselves… we hav to carry our stuffs (which is heavy) all the way from Netto back to our room… which took bout 45 mins to 1 hour leh…. I think is the 1st n last time…          '"
      ]
     },
     "execution_count": 37,
     "metadata": {},
     "output_type": "execute_result"
    }
   ],
   "source": [
    "# let's try a longer text\n",
    "blogdata.text[300000]"
   ]
  },
  {
   "cell_type": "code",
   "execution_count": 100,
   "metadata": {},
   "outputs": [
    {
     "data": {
      "text/plain": [
       "{'neg': 0.057, 'neu': 0.84, 'pos': 0.103, 'compound': 0.9921}"
      ]
     },
     "execution_count": 100,
     "metadata": {},
     "output_type": "execute_result"
    }
   ],
   "source": [
    "sia.polarity_scores(blogdata.text[300000])"
   ]
  },
  {
   "cell_type": "markdown",
   "metadata": {},
   "source": [
    "It seems to work pretty good on longer texts. I guess this text is positive overall? It's hard to tell. "
   ]
  },
  {
   "cell_type": "markdown",
   "metadata": {},
   "source": [
    "### Running VADER on 10k blog sample"
   ]
  },
  {
   "cell_type": "markdown",
   "metadata": {},
   "source": [
    "I want to explore some ways to extract information from sentiment analysis. I'm going to do this on a smaller sample of the data before trying them out on the whole dataset."
   ]
  },
  {
   "cell_type": "code",
   "execution_count": 59,
   "metadata": {},
   "outputs": [],
   "source": [
    "sample = blogdata.sample(10000)"
   ]
  },
  {
   "cell_type": "code",
   "execution_count": 60,
   "metadata": {},
   "outputs": [],
   "source": [
    "sample['lines'] = sample.text.map(nltk.sent_tokenize)"
   ]
  },
  {
   "cell_type": "code",
   "execution_count": 61,
   "metadata": {},
   "outputs": [
    {
     "data": {
      "text/html": [
       "<div>\n",
       "<style scoped>\n",
       "    .dataframe tbody tr th:only-of-type {\n",
       "        vertical-align: middle;\n",
       "    }\n",
       "\n",
       "    .dataframe tbody tr th {\n",
       "        vertical-align: top;\n",
       "    }\n",
       "\n",
       "    .dataframe thead th {\n",
       "        text-align: right;\n",
       "    }\n",
       "</style>\n",
       "<table border=\"1\" class=\"dataframe\">\n",
       "  <thead>\n",
       "    <tr style=\"text-align: right;\">\n",
       "      <th></th>\n",
       "      <th>id</th>\n",
       "      <th>gender</th>\n",
       "      <th>age</th>\n",
       "      <th>industry</th>\n",
       "      <th>sign</th>\n",
       "      <th>date</th>\n",
       "      <th>text</th>\n",
       "      <th>lines</th>\n",
       "    </tr>\n",
       "  </thead>\n",
       "  <tbody>\n",
       "    <tr>\n",
       "      <th>608072</th>\n",
       "      <td>572994</td>\n",
       "      <td>male</td>\n",
       "      <td>24</td>\n",
       "      <td>Religion</td>\n",
       "      <td>Libra</td>\n",
       "      <td>14,June,2004</td>\n",
       "      <td>whoever serves me must follo...</td>\n",
       "      <td>[                  whoever serves me must foll...</td>\n",
       "    </tr>\n",
       "    <tr>\n",
       "      <th>63959</th>\n",
       "      <td>3931176</td>\n",
       "      <td>female</td>\n",
       "      <td>14</td>\n",
       "      <td>indUnk</td>\n",
       "      <td>Sagittarius</td>\n",
       "      <td>25,July,2004</td>\n",
       "      <td>I hate my dad. God. Why is he so obsess...</td>\n",
       "      <td>[       I hate my dad., God., Why is he so obs...</td>\n",
       "    </tr>\n",
       "    <tr>\n",
       "      <th>10690</th>\n",
       "      <td>873288</td>\n",
       "      <td>female</td>\n",
       "      <td>23</td>\n",
       "      <td>Arts</td>\n",
       "      <td>Capricorn</td>\n",
       "      <td>04,mars,2004</td>\n",
       "      <td>I just tried to post a monster blog...</td>\n",
       "      <td>[           I just tried to post a monster blo...</td>\n",
       "    </tr>\n",
       "  </tbody>\n",
       "</table>\n",
       "</div>"
      ],
      "text/plain": [
       "             id  gender  age  industry         sign          date  \\\n",
       "608072   572994    male   24  Religion        Libra  14,June,2004   \n",
       "63959   3931176  female   14    indUnk  Sagittarius  25,July,2004   \n",
       "10690    873288  female   23      Arts    Capricorn  04,mars,2004   \n",
       "\n",
       "                                                     text  \\\n",
       "608072                    whoever serves me must follo...   \n",
       "63959          I hate my dad. God. Why is he so obsess...   \n",
       "10690              I just tried to post a monster blog...   \n",
       "\n",
       "                                                    lines  \n",
       "608072  [                  whoever serves me must foll...  \n",
       "63959   [       I hate my dad., God., Why is he so obs...  \n",
       "10690   [           I just tried to post a monster blo...  "
      ]
     },
     "execution_count": 61,
     "metadata": {},
     "output_type": "execute_result"
    }
   ],
   "source": [
    "sample.head(3)"
   ]
  },
  {
   "cell_type": "code",
   "execution_count": 79,
   "metadata": {},
   "outputs": [],
   "source": [
    "score = sia.polarity_scores(sample['text'][608072])"
   ]
  },
  {
   "cell_type": "code",
   "execution_count": 92,
   "metadata": {},
   "outputs": [
    {
     "data": {
      "text/plain": [
       "{'neg': 0.0, 'neu': 0.793, 'pos': 0.207, 'compound': 0.9805}"
      ]
     },
     "execution_count": 92,
     "metadata": {},
     "output_type": "execute_result"
    }
   ],
   "source": [
    "score"
   ]
  },
  {
   "cell_type": "code",
   "execution_count": 80,
   "metadata": {},
   "outputs": [
    {
     "data": {
      "text/plain": [
       "0.9805"
      ]
     },
     "execution_count": 80,
     "metadata": {},
     "output_type": "execute_result"
    }
   ],
   "source": [
    "score['compound']"
   ]
  },
  {
   "cell_type": "code",
   "execution_count": 93,
   "metadata": {},
   "outputs": [],
   "source": [
    "def summarize_sentiment(df):\n",
    "    all_scores = []\n",
    "    for x in df.index:\n",
    "        score = sia.polarity_scores(df['text'][x])\n",
    "        if score['compound'] >= 0.5:\n",
    "            all_scores.append('positive')\n",
    "        elif score['compound'] <= -0.5:\n",
    "            all_scores.append('negative')\n",
    "        else:\n",
    "            all_scores.append('neutral')\n",
    "    return all_scores"
   ]
  },
  {
   "cell_type": "code",
   "execution_count": 94,
   "metadata": {},
   "outputs": [],
   "source": [
    "sample['sentiment'] = summarize_sentiment(sample)"
   ]
  },
  {
   "cell_type": "code",
   "execution_count": 95,
   "metadata": {},
   "outputs": [
    {
     "data": {
      "text/html": [
       "<div>\n",
       "<style scoped>\n",
       "    .dataframe tbody tr th:only-of-type {\n",
       "        vertical-align: middle;\n",
       "    }\n",
       "\n",
       "    .dataframe tbody tr th {\n",
       "        vertical-align: top;\n",
       "    }\n",
       "\n",
       "    .dataframe thead th {\n",
       "        text-align: right;\n",
       "    }\n",
       "</style>\n",
       "<table border=\"1\" class=\"dataframe\">\n",
       "  <thead>\n",
       "    <tr style=\"text-align: right;\">\n",
       "      <th></th>\n",
       "      <th>id</th>\n",
       "      <th>gender</th>\n",
       "      <th>age</th>\n",
       "      <th>industry</th>\n",
       "      <th>sign</th>\n",
       "      <th>date</th>\n",
       "      <th>text</th>\n",
       "      <th>lines</th>\n",
       "      <th>sentiment</th>\n",
       "    </tr>\n",
       "  </thead>\n",
       "  <tbody>\n",
       "    <tr>\n",
       "      <th>608072</th>\n",
       "      <td>572994</td>\n",
       "      <td>male</td>\n",
       "      <td>24</td>\n",
       "      <td>Religion</td>\n",
       "      <td>Libra</td>\n",
       "      <td>14,June,2004</td>\n",
       "      <td>whoever serves me must follo...</td>\n",
       "      <td>[                  whoever serves me must foll...</td>\n",
       "      <td>positive</td>\n",
       "    </tr>\n",
       "    <tr>\n",
       "      <th>63959</th>\n",
       "      <td>3931176</td>\n",
       "      <td>female</td>\n",
       "      <td>14</td>\n",
       "      <td>indUnk</td>\n",
       "      <td>Sagittarius</td>\n",
       "      <td>25,July,2004</td>\n",
       "      <td>I hate my dad. God. Why is he so obsess...</td>\n",
       "      <td>[       I hate my dad., God., Why is he so obs...</td>\n",
       "      <td>negative</td>\n",
       "    </tr>\n",
       "    <tr>\n",
       "      <th>10690</th>\n",
       "      <td>873288</td>\n",
       "      <td>female</td>\n",
       "      <td>23</td>\n",
       "      <td>Arts</td>\n",
       "      <td>Capricorn</td>\n",
       "      <td>04,mars,2004</td>\n",
       "      <td>I just tried to post a monster blog...</td>\n",
       "      <td>[           I just tried to post a monster blo...</td>\n",
       "      <td>neutral</td>\n",
       "    </tr>\n",
       "    <tr>\n",
       "      <th>637557</th>\n",
       "      <td>3190158</td>\n",
       "      <td>female</td>\n",
       "      <td>24</td>\n",
       "      <td>indUnk</td>\n",
       "      <td>Sagittarius</td>\n",
       "      <td>08,July,2004</td>\n",
       "      <td>urlLink You're a bunch of art fags...</td>\n",
       "      <td>[            urlLink You're a bunch of art fags.]</td>\n",
       "      <td>neutral</td>\n",
       "    </tr>\n",
       "    <tr>\n",
       "      <th>456732</th>\n",
       "      <td>798653</td>\n",
       "      <td>male</td>\n",
       "      <td>26</td>\n",
       "      <td>indUnk</td>\n",
       "      <td>Aquarius</td>\n",
       "      <td>20,July,2002</td>\n",
       "      <td>** Moved from Topical Paradise blog:  H...</td>\n",
       "      <td>[       ** Moved from Topical Paradise blog:  ...</td>\n",
       "      <td>positive</td>\n",
       "    </tr>\n",
       "    <tr>\n",
       "      <th>49469</th>\n",
       "      <td>2935223</td>\n",
       "      <td>male</td>\n",
       "      <td>17</td>\n",
       "      <td>Student</td>\n",
       "      <td>Aries</td>\n",
       "      <td>10,May,2004</td>\n",
       "      <td>I don't fit in.... I realized this whil...</td>\n",
       "      <td>[       I don't fit in...., I realized this wh...</td>\n",
       "      <td>positive</td>\n",
       "    </tr>\n",
       "    <tr>\n",
       "      <th>326130</th>\n",
       "      <td>861706</td>\n",
       "      <td>male</td>\n",
       "      <td>24</td>\n",
       "      <td>indUnk</td>\n",
       "      <td>Sagittarius</td>\n",
       "      <td>12,July,2003</td>\n",
       "      <td>I'm off work tomorrow, thank god....</td>\n",
       "      <td>[             I'm off work tomorrow, thank god...</td>\n",
       "      <td>negative</td>\n",
       "    </tr>\n",
       "    <tr>\n",
       "      <th>519668</th>\n",
       "      <td>3619667</td>\n",
       "      <td>male</td>\n",
       "      <td>15</td>\n",
       "      <td>Student</td>\n",
       "      <td>Gemini</td>\n",
       "      <td>15,August,2004</td>\n",
       "      <td>Alright, the damage over her is minimal...</td>\n",
       "      <td>[       Alright, the damage over her is minima...</td>\n",
       "      <td>neutral</td>\n",
       "    </tr>\n",
       "    <tr>\n",
       "      <th>171748</th>\n",
       "      <td>3689737</td>\n",
       "      <td>female</td>\n",
       "      <td>25</td>\n",
       "      <td>indUnk</td>\n",
       "      <td>Leo</td>\n",
       "      <td>29,July,2004</td>\n",
       "      <td>Jackie sucks.&amp;nbsp; She can't give advi...</td>\n",
       "      <td>[       Jackie sucks.&amp;nbsp; She can't give adv...</td>\n",
       "      <td>negative</td>\n",
       "    </tr>\n",
       "    <tr>\n",
       "      <th>589183</th>\n",
       "      <td>1078410</td>\n",
       "      <td>male</td>\n",
       "      <td>16</td>\n",
       "      <td>indUnk</td>\n",
       "      <td>Cancer</td>\n",
       "      <td>23,February,2004</td>\n",
       "      <td>urlLink The Idaho Statesman - Alwa...</td>\n",
       "      <td>[            urlLink The Idaho Statesman - Alw...</td>\n",
       "      <td>positive</td>\n",
       "    </tr>\n",
       "  </tbody>\n",
       "</table>\n",
       "</div>"
      ],
      "text/plain": [
       "             id  gender  age  industry         sign              date  \\\n",
       "608072   572994    male   24  Religion        Libra      14,June,2004   \n",
       "63959   3931176  female   14    indUnk  Sagittarius      25,July,2004   \n",
       "10690    873288  female   23      Arts    Capricorn      04,mars,2004   \n",
       "637557  3190158  female   24    indUnk  Sagittarius      08,July,2004   \n",
       "456732   798653    male   26    indUnk     Aquarius      20,July,2002   \n",
       "49469   2935223    male   17   Student        Aries       10,May,2004   \n",
       "326130   861706    male   24    indUnk  Sagittarius      12,July,2003   \n",
       "519668  3619667    male   15   Student       Gemini    15,August,2004   \n",
       "171748  3689737  female   25    indUnk          Leo      29,July,2004   \n",
       "589183  1078410    male   16    indUnk       Cancer  23,February,2004   \n",
       "\n",
       "                                                     text  \\\n",
       "608072                    whoever serves me must follo...   \n",
       "63959          I hate my dad. God. Why is he so obsess...   \n",
       "10690              I just tried to post a monster blog...   \n",
       "637557              urlLink You're a bunch of art fags...   \n",
       "456732         ** Moved from Topical Paradise blog:  H...   \n",
       "49469          I don't fit in.... I realized this whil...   \n",
       "326130               I'm off work tomorrow, thank god....   \n",
       "519668         Alright, the damage over her is minimal...   \n",
       "171748         Jackie sucks.&nbsp; She can't give advi...   \n",
       "589183              urlLink The Idaho Statesman - Alwa...   \n",
       "\n",
       "                                                    lines sentiment  \n",
       "608072  [                  whoever serves me must foll...  positive  \n",
       "63959   [       I hate my dad., God., Why is he so obs...  negative  \n",
       "10690   [           I just tried to post a monster blo...   neutral  \n",
       "637557  [            urlLink You're a bunch of art fags.]   neutral  \n",
       "456732  [       ** Moved from Topical Paradise blog:  ...  positive  \n",
       "49469   [       I don't fit in...., I realized this wh...  positive  \n",
       "326130  [             I'm off work tomorrow, thank god...  negative  \n",
       "519668  [       Alright, the damage over her is minima...   neutral  \n",
       "171748  [       Jackie sucks.&nbsp; She can't give adv...  negative  \n",
       "589183  [            urlLink The Idaho Statesman - Alw...  positive  "
      ]
     },
     "execution_count": 95,
     "metadata": {},
     "output_type": "execute_result"
    }
   ],
   "source": [
    "sample.head(10)"
   ]
  },
  {
   "cell_type": "markdown",
   "metadata": {},
   "source": [
    "That worked! Let's see what the sentiments look like."
   ]
  },
  {
   "cell_type": "code",
   "execution_count": 96,
   "metadata": {},
   "outputs": [
    {
     "data": {
      "text/plain": [
       "<matplotlib.axes._subplots.AxesSubplot object at 0x1a64f2d940>"
      ]
     },
     "execution_count": 96,
     "metadata": {},
     "output_type": "execute_result"
    },
    {
     "data": {
      "image/png": "[encoded data removed]",
      "text/plain": [
       "<Figure size 432x288 with 1 Axes>"
      ]
     },
     "metadata": {},
     "output_type": "display_data"
    }
   ],
   "source": [
    "sample.sentiment.value_counts().plot(kind=\"pie\")"
   ]
  },
  {
   "cell_type": "code",
   "execution_count": 101,
   "metadata": {},
   "outputs": [],
   "source": [
    "from collections import Counter"
   ]
  },
  {
   "cell_type": "code",
   "execution_count": 132,
   "metadata": {},
   "outputs": [],
   "source": [
    "from nltk.tokenize import RegexpTokenizer\n",
    "tokenizer = RegexpTokenizer(r'\\w+')\n",
    "sample['tokens'] = sample.text.map(tokenizer.tokenize)"
   ]
  },
  {
   "cell_type": "code",
   "execution_count": 103,
   "metadata": {},
   "outputs": [],
   "source": [
    "# stealing my own code from before\n",
    "def Top10CategoryWords(df, column):\n",
    "    # find top 10 words for each category in a column and plot\n",
    "    ax_count = 0\n",
    "    fig, axes = plt.subplots(len(set(df[column].values)), 1)\n",
    "    for category in set(df[column].values):\n",
    "        cnt = Counter()\n",
    "        for blog in df[df[column]==category].tokens:\n",
    "            cnt.update(blog)\n",
    "        pd.DataFrame(cnt.most_common(10)).set_index(0).plot(kind='bar', \n",
    "                                                            figsize=(6,6*len(set(df[column].values))), \n",
    "                                                            ax=axes[ax_count], \n",
    "                                                            title='Top 10 most frequent words for ' + category)\n",
    "        ax_count += 1"
   ]
  },
  {
   "cell_type": "code",
   "execution_count": 105,
   "metadata": {},
   "outputs": [
    {
     "data": {
      "image/png": "[encoded data removed]",
      "text/plain": [
       "<Figure size 432x1296 with 3 Axes>"
      ]
     },
     "metadata": {
      "needs_background": "light"
     },
     "output_type": "display_data"
    }
   ],
   "source": [
    "Top10CategoryWords(sample, 'sentiment')"
   ]
  },
  {
   "cell_type": "markdown",
   "metadata": {},
   "source": [
    "I always forget to remove stopwords."
   ]
  },
  {
   "cell_type": "code",
   "execution_count": 148,
   "metadata": {},
   "outputs": [],
   "source": [
    "from nltk.corpus import stopwords\n",
    "def remove_stuff(toks):\n",
    "    \"\"\"\n",
    "    Lowercases tokens and removes stopwords. Also removes 'urlLink' and 'nbsp'.\n",
    "    \"\"\"\n",
    "    lowered = [w.lower() for w in toks]\n",
    "    stuff = stopwords.words('english')\n",
    "    stuff.extend(['urlLink','nbsp'])\n",
    "    no_stuff = [w for w in lowered if not w in stuff]\n",
    "    return no_stuff"
   ]
  },
  {
   "cell_type": "code",
   "execution_count": 149,
   "metadata": {},
   "outputs": [],
   "source": [
    "sample['tokens'] = sample.tokens.map(remove_stuff)"
   ]
  },
  {
   "cell_type": "code",
   "execution_count": 150,
   "metadata": {},
   "outputs": [
    {
     "data": {
      "text/html": [
       "<div>\n",
       "<style scoped>\n",
       "    .dataframe tbody tr th:only-of-type {\n",
       "        vertical-align: middle;\n",
       "    }\n",
       "\n",
       "    .dataframe tbody tr th {\n",
       "        vertical-align: top;\n",
       "    }\n",
       "\n",
       "    .dataframe thead th {\n",
       "        text-align: right;\n",
       "    }\n",
       "</style>\n",
       "<table border=\"1\" class=\"dataframe\">\n",
       "  <thead>\n",
       "    <tr style=\"text-align: right;\">\n",
       "      <th></th>\n",
       "      <th>id</th>\n",
       "      <th>gender</th>\n",
       "      <th>age</th>\n",
       "      <th>industry</th>\n",
       "      <th>sign</th>\n",
       "      <th>date</th>\n",
       "      <th>text</th>\n",
       "      <th>lines</th>\n",
       "      <th>sentiment</th>\n",
       "      <th>tokens</th>\n",
       "    </tr>\n",
       "  </thead>\n",
       "  <tbody>\n",
       "    <tr>\n",
       "      <th>608072</th>\n",
       "      <td>572994</td>\n",
       "      <td>male</td>\n",
       "      <td>24</td>\n",
       "      <td>Religion</td>\n",
       "      <td>Libra</td>\n",
       "      <td>14,June,2004</td>\n",
       "      <td>whoever serves me must follo...</td>\n",
       "      <td>[                  whoever serves me must foll...</td>\n",
       "      <td>positive</td>\n",
       "      <td>[whoever, serves, must, follow, servant, also,...</td>\n",
       "    </tr>\n",
       "    <tr>\n",
       "      <th>63959</th>\n",
       "      <td>3931176</td>\n",
       "      <td>female</td>\n",
       "      <td>14</td>\n",
       "      <td>indUnk</td>\n",
       "      <td>Sagittarius</td>\n",
       "      <td>25,July,2004</td>\n",
       "      <td>I hate my dad. God. Why is he so obsess...</td>\n",
       "      <td>[       I hate my dad., God., Why is he so obs...</td>\n",
       "      <td>negative</td>\n",
       "      <td>[hate, dad, god, obsessed, trying, kid, forgot...</td>\n",
       "    </tr>\n",
       "    <tr>\n",
       "      <th>10690</th>\n",
       "      <td>873288</td>\n",
       "      <td>female</td>\n",
       "      <td>23</td>\n",
       "      <td>Arts</td>\n",
       "      <td>Capricorn</td>\n",
       "      <td>04,mars,2004</td>\n",
       "      <td>I just tried to post a monster blog...</td>\n",
       "      <td>[           I just tried to post a monster blo...</td>\n",
       "      <td>neutral</td>\n",
       "      <td>[tried, post, monster, blog, doesnt, seem, wor...</td>\n",
       "    </tr>\n",
       "    <tr>\n",
       "      <th>637557</th>\n",
       "      <td>3190158</td>\n",
       "      <td>female</td>\n",
       "      <td>24</td>\n",
       "      <td>indUnk</td>\n",
       "      <td>Sagittarius</td>\n",
       "      <td>08,July,2004</td>\n",
       "      <td>urlLink You're a bunch of art fags...</td>\n",
       "      <td>[            urlLink You're a bunch of art fags.]</td>\n",
       "      <td>neutral</td>\n",
       "      <td>[bunch, art, fags]</td>\n",
       "    </tr>\n",
       "    <tr>\n",
       "      <th>456732</th>\n",
       "      <td>798653</td>\n",
       "      <td>male</td>\n",
       "      <td>26</td>\n",
       "      <td>indUnk</td>\n",
       "      <td>Aquarius</td>\n",
       "      <td>20,July,2002</td>\n",
       "      <td>** Moved from Topical Paradise blog:  H...</td>\n",
       "      <td>[       ** Moved from Topical Paradise blog:  ...</td>\n",
       "      <td>positive</td>\n",
       "      <td>[moved, topical, paradise, blog, hey, pat, wak...</td>\n",
       "    </tr>\n",
       "    <tr>\n",
       "      <th>49469</th>\n",
       "      <td>2935223</td>\n",
       "      <td>male</td>\n",
       "      <td>17</td>\n",
       "      <td>Student</td>\n",
       "      <td>Aries</td>\n",
       "      <td>10,May,2004</td>\n",
       "      <td>I don't fit in.... I realized this whil...</td>\n",
       "      <td>[       I don't fit in...., I realized this wh...</td>\n",
       "      <td>positive</td>\n",
       "      <td>[fit, realized, raking, lawn, free, way, weird...</td>\n",
       "    </tr>\n",
       "    <tr>\n",
       "      <th>326130</th>\n",
       "      <td>861706</td>\n",
       "      <td>male</td>\n",
       "      <td>24</td>\n",
       "      <td>indUnk</td>\n",
       "      <td>Sagittarius</td>\n",
       "      <td>12,July,2003</td>\n",
       "      <td>I'm off work tomorrow, thank god....</td>\n",
       "      <td>[             I'm off work tomorrow, thank god...</td>\n",
       "      <td>negative</td>\n",
       "      <td>[work, tomorrow, thank, god, alicia, finally, ...</td>\n",
       "    </tr>\n",
       "    <tr>\n",
       "      <th>519668</th>\n",
       "      <td>3619667</td>\n",
       "      <td>male</td>\n",
       "      <td>15</td>\n",
       "      <td>Student</td>\n",
       "      <td>Gemini</td>\n",
       "      <td>15,August,2004</td>\n",
       "      <td>Alright, the damage over her is minimal...</td>\n",
       "      <td>[       Alright, the damage over her is minima...</td>\n",
       "      <td>neutral</td>\n",
       "      <td>[alright, damage, minimal, power, restored, 4a...</td>\n",
       "    </tr>\n",
       "    <tr>\n",
       "      <th>171748</th>\n",
       "      <td>3689737</td>\n",
       "      <td>female</td>\n",
       "      <td>25</td>\n",
       "      <td>indUnk</td>\n",
       "      <td>Leo</td>\n",
       "      <td>29,July,2004</td>\n",
       "      <td>Jackie sucks.&amp;nbsp; She can't give advi...</td>\n",
       "      <td>[       Jackie sucks.&amp;nbsp; She can't give adv...</td>\n",
       "      <td>negative</td>\n",
       "      <td>[jackie, sucks, give, advice, everytime, ask, ...</td>\n",
       "    </tr>\n",
       "    <tr>\n",
       "      <th>589183</th>\n",
       "      <td>1078410</td>\n",
       "      <td>male</td>\n",
       "      <td>16</td>\n",
       "      <td>indUnk</td>\n",
       "      <td>Cancer</td>\n",
       "      <td>23,February,2004</td>\n",
       "      <td>urlLink The Idaho Statesman - Alwa...</td>\n",
       "      <td>[            urlLink The Idaho Statesman - Alw...</td>\n",
       "      <td>positive</td>\n",
       "      <td>[idaho, statesman, always, idaho, wait, see, h...</td>\n",
       "    </tr>\n",
       "  </tbody>\n",
       "</table>\n",
       "</div>"
      ],
      "text/plain": [
       "             id  gender  age  industry         sign              date  \\\n",
       "608072   572994    male   24  Religion        Libra      14,June,2004   \n",
       "63959   3931176  female   14    indUnk  Sagittarius      25,July,2004   \n",
       "10690    873288  female   23      Arts    Capricorn      04,mars,2004   \n",
       "637557  3190158  female   24    indUnk  Sagittarius      08,July,2004   \n",
       "456732   798653    male   26    indUnk     Aquarius      20,July,2002   \n",
       "49469   2935223    male   17   Student        Aries       10,May,2004   \n",
       "326130   861706    male   24    indUnk  Sagittarius      12,July,2003   \n",
       "519668  3619667    male   15   Student       Gemini    15,August,2004   \n",
       "171748  3689737  female   25    indUnk          Leo      29,July,2004   \n",
       "589183  1078410    male   16    indUnk       Cancer  23,February,2004   \n",
       "\n",
       "                                                     text  \\\n",
       "608072                    whoever serves me must follo...   \n",
       "63959          I hate my dad. God. Why is he so obsess...   \n",
       "10690              I just tried to post a monster blog...   \n",
       "637557              urlLink You're a bunch of art fags...   \n",
       "456732         ** Moved from Topical Paradise blog:  H...   \n",
       "49469          I don't fit in.... I realized this whil...   \n",
       "326130               I'm off work tomorrow, thank god....   \n",
       "519668         Alright, the damage over her is minimal...   \n",
       "171748         Jackie sucks.&nbsp; She can't give advi...   \n",
       "589183              urlLink The Idaho Statesman - Alwa...   \n",
       "\n",
       "                                                    lines sentiment  \\\n",
       "608072  [                  whoever serves me must foll...  positive   \n",
       "63959   [       I hate my dad., God., Why is he so obs...  negative   \n",
       "10690   [           I just tried to post a monster blo...   neutral   \n",
       "637557  [            urlLink You're a bunch of art fags.]   neutral   \n",
       "456732  [       ** Moved from Topical Paradise blog:  ...  positive   \n",
       "49469   [       I don't fit in...., I realized this wh...  positive   \n",
       "326130  [             I'm off work tomorrow, thank god...  negative   \n",
       "519668  [       Alright, the damage over her is minima...   neutral   \n",
       "171748  [       Jackie sucks.&nbsp; She can't give adv...  negative   \n",
       "589183  [            urlLink The Idaho Statesman - Alw...  positive   \n",
       "\n",
       "                                                   tokens  \n",
       "608072  [whoever, serves, must, follow, servant, also,...  \n",
       "63959   [hate, dad, god, obsessed, trying, kid, forgot...  \n",
       "10690   [tried, post, monster, blog, doesnt, seem, wor...  \n",
       "637557                                 [bunch, art, fags]  \n",
       "456732  [moved, topical, paradise, blog, hey, pat, wak...  \n",
       "49469   [fit, realized, raking, lawn, free, way, weird...  \n",
       "326130  [work, tomorrow, thank, god, alicia, finally, ...  \n",
       "519668  [alright, damage, minimal, power, restored, 4a...  \n",
       "171748  [jackie, sucks, give, advice, everytime, ask, ...  \n",
       "589183  [idaho, statesman, always, idaho, wait, see, h...  "
      ]
     },
     "execution_count": 150,
     "metadata": {},
     "output_type": "execute_result"
    }
   ],
   "source": [
    "sample.head(10)"
   ]
  },
  {
   "cell_type": "code",
   "execution_count": 151,
   "metadata": {},
   "outputs": [
    {
     "data": {
      "image/png": "[encoded data removed]",
      "text/plain": [
       "<Figure size 432x1296 with 3 Axes>"
      ]
     },
     "metadata": {
      "needs_background": "light"
     },
     "output_type": "display_data"
    }
   ],
   "source": [
    "Top10CategoryWords(sample, 'sentiment')"
   ]
  },
  {
   "cell_type": "markdown",
   "metadata": {},
   "source": [
    "These are all very similar... did I do something wrong? Is VADER just not good for my data? Idk."
   ]
  },
  {
   "cell_type": "code",
   "execution_count": 155,
   "metadata": {},
   "outputs": [
    {
     "data": {
      "image/png": "[encoded data removed]",
      "text/plain": [
       "<Figure size 432x288 with 1 Axes>"
      ]
     },
     "metadata": {
      "needs_background": "light"
     },
     "output_type": "display_data"
    }
   ],
   "source": [
    "ax = sns.scatterplot(x=\"industry\", y=\"age\",\n",
    "                     hue=\"sentiment\", data=sample)"
   ]
  },
  {
   "cell_type": "markdown",
   "metadata": {},
   "source": [
    "This isn't informative but like... it kinda looks cool......."
   ]
  },
  {
   "cell_type": "code",
   "execution_count": 156,
   "metadata": {},
   "outputs": [],
   "source": [
    "def polarity_score(df):\n",
    "    pol_scores = []\n",
    "    for x in df.index:\n",
    "        score = sia.polarity_scores(df['text'][x])\n",
    "        pol_scores.append(score)\n",
    "    return pol_scores"
   ]
  },
  {
   "cell_type": "code",
   "execution_count": 163,
   "metadata": {},
   "outputs": [],
   "source": [
    "sample['polarity_score'] = polarity_score(sample)"
   ]
  },
  {
   "cell_type": "code",
   "execution_count": 167,
   "metadata": {},
   "outputs": [
    {
     "data": {
      "text/plain": [
       "0.9805"
      ]
     },
     "execution_count": 167,
     "metadata": {},
     "output_type": "execute_result"
    }
   ],
   "source": [
    "sample.polarity_score[608072]['compound']"
   ]
  },
  {
   "cell_type": "code",
   "execution_count": 169,
   "metadata": {},
   "outputs": [],
   "source": [
    "y = [sample.polarity_score[blog]['compound'] for blog in sample.index]"
   ]
  },
  {
   "cell_type": "code",
   "execution_count": 170,
   "metadata": {},
   "outputs": [
    {
     "data": {
      "text/plain": [
       "[0.9805, -0.8468, 0.0, 0.0, 0.8339, 0.7866, -0.9927, -0.2769, -0.9449, 0.7227]"
      ]
     },
     "execution_count": 170,
     "metadata": {},
     "output_type": "execute_result"
    }
   ],
   "source": [
    "y[:10]"
   ]
  },
  {
   "cell_type": "code",
   "execution_count": null,
   "metadata": {},
   "outputs": [],
   "source": [
    "g = sns.PairGrid(sample, y_vars=y,\n",
    "                 x_vars=[\"gender\", \"age\", \"industry\", \"sign\"],\n",
    "                 height=5, aspect=.5)\n",
    "\n",
    "g.map(sns.pointplot, scale=1.3, errwidth=4, color=\"xkcd:plum\")\n",
    "g.set(ylim=(-1, 1))\n",
    "sns.despine(fig=g.fig, left=True)"
   ]
  },
  {
   "cell_type": "code",
   "execution_count": null,
   "metadata": {},
   "outputs": [],
   "source": []
  }
 ],
 "metadata": {
  "kernelspec": {
   "display_name": "Python 3",
   "language": "python",
   "name": "python3"
  },
  "language_info": {
   "codemirror_mode": {
    "name": "ipython",
    "version": 3
   },
   "file_extension": ".py",
   "mimetype": "text/x-python",
   "name": "python",
   "nbconvert_exporter": "python",
   "pygments_lexer": "ipython3",
   "version": "3.7.1"
  }
 },
 "nbformat": 4,
 "nbformat_minor": 2
}
