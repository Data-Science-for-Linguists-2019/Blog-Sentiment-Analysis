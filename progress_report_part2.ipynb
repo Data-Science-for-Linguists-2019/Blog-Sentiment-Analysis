{
 "cells": [
  {
   "cell_type": "markdown",
   "metadata": {},
   "source": [
    "# Progress Report: [Blog-Sentiment Analysis](https://github.com/Data-Science-for-Linguists-2019/Blog-Sentiment-Analysis)\n",
    "## Table of Contents\n"
   ]
  },
  {
   "cell_type": "code",
   "execution_count": 2,
   "metadata": {},
   "outputs": [],
   "source": [
    "# Import required packages\n",
    "import pandas as pd\n",
    "import numpy as np\n",
    "import matplotlib.pyplot as plt\n",
    "import seaborn as sns\n",
    "import nltk\n",
    "import re"
   ]
  },
  {
   "cell_type": "code",
   "execution_count": 3,
   "metadata": {},
   "outputs": [],
   "source": [
    "dir = '/users/eva/Documents/Data_Science/Blog-Sentiment-Analysis/'"
   ]
  },
  {
   "cell_type": "code",
   "execution_count": 4,
   "metadata": {},
   "outputs": [],
   "source": [
    "blogdata = pd.read_csv(dir + 'data/blogtext.csv')"
   ]
  },
  {
   "cell_type": "code",
   "execution_count": 5,
   "metadata": {},
   "outputs": [
    {
     "data": {
      "text/plain": [
       "Index(['id', 'gender', 'age', 'topic', 'sign', 'date', 'text'], dtype='object')"
      ]
     },
     "execution_count": 5,
     "metadata": {},
     "output_type": "execute_result"
    }
   ],
   "source": [
    "blogdata.columns"
   ]
  },
  {
   "cell_type": "code",
   "execution_count": 6,
   "metadata": {},
   "outputs": [
    {
     "data": {
      "text/html": [
       "<div>\n",
       "<style scoped>\n",
       "    .dataframe tbody tr th:only-of-type {\n",
       "        vertical-align: middle;\n",
       "    }\n",
       "\n",
       "    .dataframe tbody tr th {\n",
       "        vertical-align: top;\n",
       "    }\n",
       "\n",
       "    .dataframe thead th {\n",
       "        text-align: right;\n",
       "    }\n",
       "</style>\n",
       "<table border=\"1\" class=\"dataframe\">\n",
       "  <thead>\n",
       "    <tr style=\"text-align: right;\">\n",
       "      <th></th>\n",
       "      <th>id</th>\n",
       "      <th>gender</th>\n",
       "      <th>age</th>\n",
       "      <th>industry</th>\n",
       "      <th>sign</th>\n",
       "      <th>date</th>\n",
       "      <th>text</th>\n",
       "    </tr>\n",
       "  </thead>\n",
       "  <tbody>\n",
       "    <tr>\n",
       "      <th>0</th>\n",
       "      <td>2059027</td>\n",
       "      <td>male</td>\n",
       "      <td>15</td>\n",
       "      <td>Student</td>\n",
       "      <td>Leo</td>\n",
       "      <td>14,May,2004</td>\n",
       "      <td>Info has been found (+/- 100 pages,...</td>\n",
       "    </tr>\n",
       "    <tr>\n",
       "      <th>1</th>\n",
       "      <td>2059027</td>\n",
       "      <td>male</td>\n",
       "      <td>15</td>\n",
       "      <td>Student</td>\n",
       "      <td>Leo</td>\n",
       "      <td>13,May,2004</td>\n",
       "      <td>These are the team members:   Drewe...</td>\n",
       "    </tr>\n",
       "    <tr>\n",
       "      <th>2</th>\n",
       "      <td>2059027</td>\n",
       "      <td>male</td>\n",
       "      <td>15</td>\n",
       "      <td>Student</td>\n",
       "      <td>Leo</td>\n",
       "      <td>12,May,2004</td>\n",
       "      <td>In het kader van kernfusie op aarde...</td>\n",
       "    </tr>\n",
       "  </tbody>\n",
       "</table>\n",
       "</div>"
      ],
      "text/plain": [
       "        id gender  age industry sign         date  \\\n",
       "0  2059027   male   15  Student  Leo  14,May,2004   \n",
       "1  2059027   male   15  Student  Leo  13,May,2004   \n",
       "2  2059027   male   15  Student  Leo  12,May,2004   \n",
       "\n",
       "                                                text  \n",
       "0             Info has been found (+/- 100 pages,...  \n",
       "1             These are the team members:   Drewe...  \n",
       "2             In het kader van kernfusie op aarde...  "
      ]
     },
     "execution_count": 6,
     "metadata": {},
     "output_type": "execute_result"
    }
   ],
   "source": [
    "newcolumns = ['id', 'gender', 'age', 'industry', 'sign', 'date', 'text']\n",
    "blogdata.columns = newcolumns\n",
    "blogdata.head(3)"
   ]
  },
  {
   "cell_type": "markdown",
   "metadata": {},
   "source": [
    "## Overview\n",
    "Each line in `blogdata` is equal to one blog. \n",
    "+ `id` = number representing the individual blogger\n",
    "+ `gender` = gender of the blogger\n",
    "+ `age` = age of the blogger\n",
    "+ `industry` = self-identified industry of the blogger\n",
    "    + Note: Some bloggers are listed as IndUnk, meaning industry unknown\n",
    "+ `sign` = astrolological sign of the blogger\n",
    "+ `date` = date of that blog's posting\n",
    "+ `text` = the text of the blog\n",
    "\n",
    "In order to look at demographic statistics, I will create a new dataframe called `per_blogger` with only one blog per blogger."
   ]
  },
  {
   "cell_type": "code",
   "execution_count": 8,
   "metadata": {},
   "outputs": [
    {
     "data": {
      "text/plain": [
       "681284"
      ]
     },
     "execution_count": 8,
     "metadata": {},
     "output_type": "execute_result"
    }
   ],
   "source": [
    "len(blogdata)"
   ]
  },
  {
   "cell_type": "code",
   "execution_count": 9,
   "metadata": {},
   "outputs": [
    {
     "data": {
      "text/plain": [
       "19320"
      ]
     },
     "execution_count": 9,
     "metadata": {},
     "output_type": "execute_result"
    }
   ],
   "source": [
    "len(blogdata.id.value_counts())"
   ]
  },
  {
   "cell_type": "markdown",
   "metadata": {},
   "source": [
    "The dataset contains 681284 blogs written by 19320 bloggers."
   ]
  },
  {
   "cell_type": "code",
   "execution_count": 10,
   "metadata": {},
   "outputs": [],
   "source": [
    "per_blogger = blogdata.drop_duplicates(\"id\")"
   ]
  },
  {
   "cell_type": "code",
   "execution_count": 11,
   "metadata": {},
   "outputs": [
    {
     "data": {
      "text/plain": [
       "19320"
      ]
     },
     "execution_count": 11,
     "metadata": {},
     "output_type": "execute_result"
    }
   ],
   "source": [
    "len(per_blogger)"
   ]
  },
  {
   "cell_type": "code",
   "execution_count": 12,
   "metadata": {},
   "outputs": [
    {
     "data": {
      "text/plain": [
       "<matplotlib.axes._subplots.AxesSubplot at 0x1a1b967860>"
      ]
     },
     "execution_count": 12,
     "metadata": {},
     "output_type": "execute_result"
    },
    {
     "data": {
      "image/png": "[encoded data removed]",
      "text/plain": [
       "<Figure size 432x288 with 1 Axes>"
      ]
     },
     "metadata": {},
     "output_type": "display_data"
    }
   ],
   "source": [
    "per_blogger.gender.value_counts().plot(kind=\"pie\")"
   ]
  },
  {
   "cell_type": "code",
   "execution_count": 13,
   "metadata": {},
   "outputs": [
    {
     "data": {
      "text/plain": [
       "female    0.5\n",
       "male      0.5\n",
       "Name: gender, dtype: float64"
      ]
     },
     "execution_count": 13,
     "metadata": {},
     "output_type": "execute_result"
    }
   ],
   "source": [
    "per_blogger.gender.value_counts(normalize=True)"
   ]
  },
  {
   "cell_type": "code",
   "execution_count": 20,
   "metadata": {},
   "outputs": [
    {
     "data": {
      "text/plain": [
       "<matplotlib.axes._subplots.AxesSubplot at 0x1a1e1c39e8>"
      ]
     },
     "execution_count": 20,
     "metadata": {},
     "output_type": "execute_result"
    },
    {
     "data": {
      "image/png": "[encoded data removed]",
      "text/plain": [
       "<Figure size 432x288 with 1 Axes>"
      ]
     },
     "metadata": {
      "needs_background": "light"
     },
     "output_type": "display_data"
    }
   ],
   "source": [
    "per_blogger.age.value_counts().plot(kind='bar',title='Ages of bloggers')"
   ]
  },
  {
   "cell_type": "code",
   "execution_count": 21,
   "metadata": {},
   "outputs": [
    {
     "data": {
      "text/plain": [
       "count    19320.000000\n",
       "mean        22.833799\n",
       "std          7.975490\n",
       "min         13.000000\n",
       "25%         16.000000\n",
       "50%         23.000000\n",
       "75%         26.000000\n",
       "max         48.000000\n",
       "Name: age, dtype: float64"
      ]
     },
     "execution_count": 21,
     "metadata": {},
     "output_type": "execute_result"
    }
   ],
   "source": [
    "per_blogger.age.describe()"
   ]
  },
  {
   "cell_type": "code",
   "execution_count": 22,
   "metadata": {},
   "outputs": [
    {
     "data": {
      "text/plain": [
       "<seaborn.axisgrid.FacetGrid at 0x1a1e1b8320>"
      ]
     },
     "execution_count": 22,
     "metadata": {},
     "output_type": "execute_result"
    },
    {
     "data": {
      "image/png": "[encoded data removed]",
      "text/plain": [
       "<Figure size 216x432 with 2 Axes>"
      ]
     },
     "metadata": {
      "needs_background": "light"
     },
     "output_type": "display_data"
    }
   ],
   "source": [
    "g = sns.FacetGrid(per_blogger, row=\"gender\", margin_titles=True)\n",
    "bins = np.linspace(0, 50, 20)\n",
    "g.map(plt.hist, \"age\", color=\"steelblue\", bins=bins)"
   ]
  },
  {
   "cell_type": "code",
   "execution_count": 27,
   "metadata": {},
   "outputs": [
    {
     "data": {
      "image/png": "[encoded data removed]",
      "text/plain": [
       "<Figure size 720x1440 with 1 Axes>"
      ]
     },
     "metadata": {
      "needs_background": "light"
     },
     "output_type": "display_data"
    }
   ],
   "source": [
    "industry_by_gender = per_blogger.groupby('industry').gender.value_counts(normalize=True)\n",
    "industry_by_gender.unstack(level=1).plot.barh(figsize=(10,20), stacked=True, title=\"Blogger gender by industry\")\n",
    "plt.legend(loc='center left', bbox_to_anchor=(1, 0.5))\n",
    "plt.show()"
   ]
  },
  {
   "cell_type": "code",
   "execution_count": 28,
   "metadata": {},
   "outputs": [
    {
     "data": {
      "image/png": "[encoded data removed]",
      "text/plain": [
       "<Figure size 1080x360 with 1 Axes>"
      ]
     },
     "metadata": {
      "needs_background": "light"
     },
     "output_type": "display_data"
    }
   ],
   "source": [
    "age_by_gender = per_blogger.groupby('age').gender.value_counts(normalize=True)\n",
    "age_by_gender.unstack(level=1).plot.bar(figsize=(15,5), stacked=True, title=\"Blogger gender by age\")\n",
    "plt.legend(loc='center left', bbox_to_anchor=(1, 0.5))\n",
    "plt.show()"
   ]
  },
  {
   "cell_type": "code",
   "execution_count": 29,
   "metadata": {},
   "outputs": [
    {
     "name": "stdout",
     "output_type": "stream",
     "text": [
      "['seaborn-dark', 'seaborn-darkgrid', 'seaborn-ticks', 'fivethirtyeight', 'seaborn-whitegrid', 'classic', '_classic_test', 'fast', 'seaborn-talk', 'seaborn-dark-palette', 'seaborn-bright', 'seaborn-pastel', 'grayscale', 'seaborn-notebook', 'ggplot', 'seaborn-colorblind', 'seaborn-muted', 'seaborn', 'Solarize_Light2', 'seaborn-paper', 'bmh', 'tableau-colorblind10', 'seaborn-white', 'dark_background', 'seaborn-poster', 'seaborn-deep']\n"
     ]
    }
   ],
   "source": [
    "print(plt.style.available)"
   ]
  },
  {
   "cell_type": "markdown",
   "metadata": {},
   "source": [
    "# Data analysis\n",
    "### Goals of my analysis\n",
    "There are three things I would like to investigate in this data. \n",
    "1. Word frequencies\n",
    "2. Blog topics\n",
    "3. Blog sentiment\n",
    "\n",
    "In this section, I will begin investigating all three, and hopefully get an idea of analyses to further explore.\n",
    "## Data analysis: Word frequencies\n",
    "\n",
    "### Methods\n",
    "First, I'll tokenize all the blogs. Then I'll use NLTK to build some frequency distributions."
   ]
  },
  {
   "cell_type": "code",
   "execution_count": 31,
   "metadata": {},
   "outputs": [],
   "source": [
    "blogdata['tokens'] = blogdata.text.map(nltk.word_tokenize)"
   ]
  },
  {
   "cell_type": "code",
   "execution_count": 32,
   "metadata": {},
   "outputs": [
    {
     "data": {
      "text/html": [
       "<div>\n",
       "<style scoped>\n",
       "    .dataframe tbody tr th:only-of-type {\n",
       "        vertical-align: middle;\n",
       "    }\n",
       "\n",
       "    .dataframe tbody tr th {\n",
       "        vertical-align: top;\n",
       "    }\n",
       "\n",
       "    .dataframe thead th {\n",
       "        text-align: right;\n",
       "    }\n",
       "</style>\n",
       "<table border=\"1\" class=\"dataframe\">\n",
       "  <thead>\n",
       "    <tr style=\"text-align: right;\">\n",
       "      <th></th>\n",
       "      <th>id</th>\n",
       "      <th>gender</th>\n",
       "      <th>age</th>\n",
       "      <th>industry</th>\n",
       "      <th>sign</th>\n",
       "      <th>date</th>\n",
       "      <th>text</th>\n",
       "      <th>tokens</th>\n",
       "    </tr>\n",
       "  </thead>\n",
       "  <tbody>\n",
       "    <tr>\n",
       "      <th>0</th>\n",
       "      <td>2059027</td>\n",
       "      <td>male</td>\n",
       "      <td>15</td>\n",
       "      <td>Student</td>\n",
       "      <td>Leo</td>\n",
       "      <td>14,May,2004</td>\n",
       "      <td>Info has been found (+/- 100 pages,...</td>\n",
       "      <td>[Info, has, been, found, (, +/-, 100, pages, ,...</td>\n",
       "    </tr>\n",
       "    <tr>\n",
       "      <th>1</th>\n",
       "      <td>2059027</td>\n",
       "      <td>male</td>\n",
       "      <td>15</td>\n",
       "      <td>Student</td>\n",
       "      <td>Leo</td>\n",
       "      <td>13,May,2004</td>\n",
       "      <td>These are the team members:   Drewe...</td>\n",
       "      <td>[These, are, the, team, members, :, Drewes, va...</td>\n",
       "    </tr>\n",
       "    <tr>\n",
       "      <th>2</th>\n",
       "      <td>2059027</td>\n",
       "      <td>male</td>\n",
       "      <td>15</td>\n",
       "      <td>Student</td>\n",
       "      <td>Leo</td>\n",
       "      <td>12,May,2004</td>\n",
       "      <td>In het kader van kernfusie op aarde...</td>\n",
       "      <td>[In, het, kader, van, kernfusie, op, aarde, :,...</td>\n",
       "    </tr>\n",
       "    <tr>\n",
       "      <th>3</th>\n",
       "      <td>2059027</td>\n",
       "      <td>male</td>\n",
       "      <td>15</td>\n",
       "      <td>Student</td>\n",
       "      <td>Leo</td>\n",
       "      <td>12,May,2004</td>\n",
       "      <td>testing!!!  testing!!!</td>\n",
       "      <td>[testing, !, !, !, testing, !, !, !]</td>\n",
       "    </tr>\n",
       "    <tr>\n",
       "      <th>4</th>\n",
       "      <td>3581210</td>\n",
       "      <td>male</td>\n",
       "      <td>33</td>\n",
       "      <td>InvestmentBanking</td>\n",
       "      <td>Aquarius</td>\n",
       "      <td>11,June,2004</td>\n",
       "      <td>Thanks to Yahoo!'s Toolbar I can ...</td>\n",
       "      <td>[Thanks, to, Yahoo, !, 's, Toolbar, I, can, no...</td>\n",
       "    </tr>\n",
       "  </tbody>\n",
       "</table>\n",
       "</div>"
      ],
      "text/plain": [
       "        id gender  age           industry      sign          date  \\\n",
       "0  2059027   male   15            Student       Leo   14,May,2004   \n",
       "1  2059027   male   15            Student       Leo   13,May,2004   \n",
       "2  2059027   male   15            Student       Leo   12,May,2004   \n",
       "3  2059027   male   15            Student       Leo   12,May,2004   \n",
       "4  3581210   male   33  InvestmentBanking  Aquarius  11,June,2004   \n",
       "\n",
       "                                                text  \\\n",
       "0             Info has been found (+/- 100 pages,...   \n",
       "1             These are the team members:   Drewe...   \n",
       "2             In het kader van kernfusie op aarde...   \n",
       "3                   testing!!!  testing!!!             \n",
       "4               Thanks to Yahoo!'s Toolbar I can ...   \n",
       "\n",
       "                                              tokens  \n",
       "0  [Info, has, been, found, (, +/-, 100, pages, ,...  \n",
       "1  [These, are, the, team, members, :, Drewes, va...  \n",
       "2  [In, het, kader, van, kernfusie, op, aarde, :,...  \n",
       "3               [testing, !, !, !, testing, !, !, !]  \n",
       "4  [Thanks, to, Yahoo, !, 's, Toolbar, I, can, no...  "
      ]
     },
     "execution_count": 32,
     "metadata": {},
     "output_type": "execute_result"
    }
   ],
   "source": [
    "blogdata.head()"
   ]
  },
  {
   "cell_type": "code",
   "execution_count": 41,
   "metadata": {},
   "outputs": [],
   "source": [
    "example_fd = nltk.FreqDist(blogdata.tokens[0])"
   ]
  },
  {
   "cell_type": "code",
   "execution_count": 42,
   "metadata": {},
   "outputs": [
    {
     "data": {
      "text/plain": [
       "[('has', 2),\n",
       " ('and', 2),\n",
       " ('Info', 1),\n",
       " ('been', 1),\n",
       " ('found', 1),\n",
       " ('(', 1),\n",
       " ('+/-', 1),\n",
       " ('100', 1),\n",
       " ('pages', 1),\n",
       " (',', 1)]"
      ]
     },
     "execution_count": 42,
     "metadata": {},
     "output_type": "execute_result"
    }
   ],
   "source": [
    "example_fd.most_common(10)"
   ]
  },
  {
   "cell_type": "markdown",
   "metadata": {},
   "source": [
    "Well, I wish I'd sorted out removing punctuation beforehand, but this is pretty good nonetheless. I tried making some conditional frequency distributions using industry, but it seems the code from the [NLTK book](http://www.nltk.org/book_1ed/ch02.html) doesn't work anymore. (Or maybe I'm just doing it wrong.) I'm going to try a different method to compare word frequencies across groups."
   ]
  },
  {
   "cell_type": "code",
   "execution_count": 54,
   "metadata": {},
   "outputs": [
    {
     "data": {
      "text/plain": [
       "{'Accounting',\n",
       " 'Advertising',\n",
       " 'Agriculture',\n",
       " 'Architecture',\n",
       " 'Arts',\n",
       " 'Automotive',\n",
       " 'Banking',\n",
       " 'Biotech',\n",
       " 'BusinessServices',\n",
       " 'Chemicals',\n",
       " 'Communications-Media',\n",
       " 'Construction',\n",
       " 'Consulting',\n",
       " 'Education',\n",
       " 'Engineering',\n",
       " 'Environment',\n",
       " 'Fashion',\n",
       " 'Government',\n",
       " 'HumanResources',\n",
       " 'Internet',\n",
       " 'InvestmentBanking',\n",
       " 'Law',\n",
       " 'LawEnforcement-Security',\n",
       " 'Manufacturing',\n",
       " 'Maritime',\n",
       " 'Marketing',\n",
       " 'Military',\n",
       " 'Museums-Libraries',\n",
       " 'Non-Profit',\n",
       " 'Publishing',\n",
       " 'RealEstate',\n",
       " 'Religion',\n",
       " 'Science',\n",
       " 'Sports-Recreation',\n",
       " 'Student',\n",
       " 'Technology',\n",
       " 'Telecommunications',\n",
       " 'Tourism',\n",
       " 'Transportation',\n",
       " 'indUnk'}"
      ]
     },
     "execution_count": 54,
     "metadata": {},
     "output_type": "execute_result"
    }
   ],
   "source": [
    "set(blogdata.industry.values)"
   ]
  },
  {
   "cell_type": "code",
   "execution_count": 71,
   "metadata": {},
   "outputs": [],
   "source": [
    "minidf = blogdata.head(3)"
   ]
  },
  {
   "cell_type": "code",
   "execution_count": 72,
   "metadata": {},
   "outputs": [
    {
     "data": {
      "text/html": [
       "<div>\n",
       "<style scoped>\n",
       "    .dataframe tbody tr th:only-of-type {\n",
       "        vertical-align: middle;\n",
       "    }\n",
       "\n",
       "    .dataframe tbody tr th {\n",
       "        vertical-align: top;\n",
       "    }\n",
       "\n",
       "    .dataframe thead th {\n",
       "        text-align: right;\n",
       "    }\n",
       "</style>\n",
       "<table border=\"1\" class=\"dataframe\">\n",
       "  <thead>\n",
       "    <tr style=\"text-align: right;\">\n",
       "      <th></th>\n",
       "      <th>id</th>\n",
       "      <th>gender</th>\n",
       "      <th>age</th>\n",
       "      <th>industry</th>\n",
       "      <th>sign</th>\n",
       "      <th>date</th>\n",
       "      <th>text</th>\n",
       "      <th>tokens</th>\n",
       "    </tr>\n",
       "  </thead>\n",
       "  <tbody>\n",
       "    <tr>\n",
       "      <th>0</th>\n",
       "      <td>2059027</td>\n",
       "      <td>male</td>\n",
       "      <td>15</td>\n",
       "      <td>Student</td>\n",
       "      <td>Leo</td>\n",
       "      <td>14,May,2004</td>\n",
       "      <td>Info has been found (+/- 100 pages,...</td>\n",
       "      <td>[Info, has, been, found, (, +/-, 100, pages, ,...</td>\n",
       "    </tr>\n",
       "    <tr>\n",
       "      <th>1</th>\n",
       "      <td>2059027</td>\n",
       "      <td>male</td>\n",
       "      <td>15</td>\n",
       "      <td>Student</td>\n",
       "      <td>Leo</td>\n",
       "      <td>13,May,2004</td>\n",
       "      <td>These are the team members:   Drewe...</td>\n",
       "      <td>[These, are, the, team, members, :, Drewes, va...</td>\n",
       "    </tr>\n",
       "    <tr>\n",
       "      <th>2</th>\n",
       "      <td>2059027</td>\n",
       "      <td>male</td>\n",
       "      <td>15</td>\n",
       "      <td>Student</td>\n",
       "      <td>Leo</td>\n",
       "      <td>12,May,2004</td>\n",
       "      <td>In het kader van kernfusie op aarde...</td>\n",
       "      <td>[In, het, kader, van, kernfusie, op, aarde, :,...</td>\n",
       "    </tr>\n",
       "  </tbody>\n",
       "</table>\n",
       "</div>"
      ],
      "text/plain": [
       "        id gender  age industry sign         date  \\\n",
       "0  2059027   male   15  Student  Leo  14,May,2004   \n",
       "1  2059027   male   15  Student  Leo  13,May,2004   \n",
       "2  2059027   male   15  Student  Leo  12,May,2004   \n",
       "\n",
       "                                                text  \\\n",
       "0             Info has been found (+/- 100 pages,...   \n",
       "1             These are the team members:   Drewe...   \n",
       "2             In het kader van kernfusie op aarde...   \n",
       "\n",
       "                                              tokens  \n",
       "0  [Info, has, been, found, (, +/-, 100, pages, ,...  \n",
       "1  [These, are, the, team, members, :, Drewes, va...  \n",
       "2  [In, het, kader, van, kernfusie, op, aarde, :,...  "
      ]
     },
     "execution_count": 72,
     "metadata": {},
     "output_type": "execute_result"
    }
   ],
   "source": [
    "minidf"
   ]
  },
  {
   "cell_type": "code",
   "execution_count": 78,
   "metadata": {},
   "outputs": [],
   "source": [
    "def Testing(df, column):\n",
    "    for category in set(df[column].values):\n",
    "        for blog in df[df[column]==category].tokens:\n",
    "            print(blog)"
   ]
  },
  {
   "cell_type": "code",
   "execution_count": 79,
   "metadata": {},
   "outputs": [
    {
     "name": "stdout",
     "output_type": "stream",
     "text": [
      "['Info', 'has', 'been', 'found', '(', '+/-', '100', 'pages', ',', 'and', '4.5', 'MB', 'of', '.pdf', 'files', ')', 'Now', 'i', 'have', 'to', 'wait', 'untill', 'our', 'team', 'leader', 'has', 'processed', 'it', 'and', 'learns', 'html', '.']\n",
      "['These', 'are', 'the', 'team', 'members', ':', 'Drewes', 'van', 'der', 'Laag', 'urlLink', 'mail', 'Ruiyu', 'Xie', 'urlLink', 'mail', 'Bryan', 'Aaldering', '(', 'me', ')', 'urlLink', 'mail']\n",
      "['In', 'het', 'kader', 'van', 'kernfusie', 'op', 'aarde', ':', 'MAAK', 'JE', 'EIGEN', 'WATERSTOFBOM', 'How', 'to', 'build', 'an', 'H-Bomb', 'From', ':', 'ascott', '@', 'tartarus.uwa.edu.au', '(', 'Andrew', 'Scott', ')', 'Newsgroups', ':', 'rec.humor', 'Subject', ':', 'How', 'To', 'Build', 'An', 'H-Bomb', '(', 'humorous', '!', ')', 'Date', ':', '7', 'Feb', '1994', '07:41:14', 'GMT', 'Organization', ':', 'The', 'University', 'of', 'Western', 'Australia', 'Original', 'file', 'dated', '12th', 'November', '1990', '.', 'Seemed', 'to', 'be', 'a', 'transcript', 'of', 'a', \"'Seven\", 'Days', \"'\", 'article', '.', 'Poorly', 'formatted', 'and', 'corrupted', '.', 'I', 'have', 'added', 'the', 'text', 'between', \"'examine\", 'under', 'a', 'microscope', \"'\", 'and', \"'malleable\", ',', 'like', 'gold', ',', \"'\", 'as', 'it', 'was', 'missing', '.', 'If', 'anyone', 'has', 'the', 'full', 'text', ',', 'please', 'distribute', '.', 'I', 'am', 'not', 'responsible', 'for', 'the', 'accuracy', 'of', 'this', 'information', '.', 'Converted', 'to', 'HTML', 'by', 'Dionisio', '@', 'InfiNet.com', '11/13/98', '.', '(', 'Did', 'a', 'little', 'spell-checking', 'and', 'some', 'minor', 'edits', 'too', '.', ')', 'Stolen', 'from', 'urlLink', 'http', ':', '//my.ohio.voyager.net/~dionisio/fun/m', '...', 'own-h-bomb.html', 'and', 'reformatted', 'the', 'HTML', '.', 'It', 'now', 'validates', 'to', 'XHTML', '1.0', 'Strict', '.', 'How', 'to', 'Build', 'an', 'H-Bomb', 'Making', 'and', 'owning', 'an', 'H-bomb', 'is', 'the', 'kind', 'of', 'challenge', 'real', 'Americans', 'seek', '.', 'Who', 'wants', 'to', 'be', 'a', 'passive', 'victim', 'of', 'nuclear', 'war', 'when', ',', 'with', 'a', 'little', 'effort', ',', 'you', 'can', 'be', 'an', 'active', 'participant', '?', 'Bomb', 'shelters', 'are', 'for', 'losers', '.', 'Who', 'wants', 'to', 'huddle', 'together', 'underground', 'eating', 'canned', 'Spam', '?', 'Winners', 'want', 'to', 'push', 'the', 'button', 'themselves', '.', 'Making', 'your', 'own', 'H-bomb', 'is', 'a', 'big', 'step', 'in', 'nuclear', 'assertiveness', 'training', '--', 'it', \"'s\", 'called', 'Taking', 'Charge', '.', 'We', \"'re\", 'sure', 'you', \"'ll\", 'enjoy', 'the', 'risks', 'and', 'the', 'heady', 'thrill', 'of', 'playing', 'nuclear', 'chicken', '.', 'Introduction', 'When', 'the', 'Feds', 'clamped', 'down', 'on', 'The', 'Progressive', 'magazine', 'for', 'attempting', 'to', 'publish', 'an', 'article', 'on', 'the', 'manufacture', 'of', 'the', 'hydrogen', 'bomb', ',', 'it', 'piqued', 'our', 'curiosity', '.', 'Was', 'it', 'really', 'true', 'that', 'atomic', 'and', 'hydrogen', 'bomb', 'technology', 'was', 'so', 'simple', 'you', 'could', 'build', 'an', 'H-bomb', 'in', 'your', 'own', 'kitchen', '?', 'Seven', 'Days', 'decided', 'to', 'find', 'out', '.', 'Food', 'editor', 'Barbara', 'Ehrenreich', ',', 'investigative', 'reporter', 'Peter', 'Biskind', ',', 'Photographer', 'Jane', 'Melnick', 'and', 'nuclear', 'scientist', 'Michio', 'Kaku', 'were', 'given', 'three', 'days', 'to', 'cook', 'up', 'a', 'workable', 'H-bomb', '.', 'They', 'did', 'and', 'we', 'have', 'decided', 'to', 'share', 'their', 'culinary', 'secrets', 'with', 'you', '.', 'Not', 'that', 'Seven', 'Days', 'supports', 'nuclear', 'terrorism', '.', 'We', 'do', \"n't\", '.', 'We', 'would', 'prefer', 'to', 'die', 'slowly', 'from', 'familiar', 'poisons', 'like', 'low-level', 'radiation', ',', 'microwaves', ',', 'DDT', ',', 'DBCP', ',', 'aflatoxins', ',', 'PBBs', ',', 'PBCs', ',', 'or', 'food', 'dyes', ',', 'rather', 'than', 'unexpectedly', ',', 'say', 'as', 'hostage', 'to', 'a', 'Latvian', 'nationalist', 'brandishing', 'a', 'homemade', 'bomb', '.', 'In', 'our', 'view', 'the', 'real', 'terrorists', 'are', 'the', 'governments', ',', 'American', ',', 'Soviet', ',', 'French', ',', 'Chinese', ',', 'and', 'British', ',', 'that', 'are', 'hoarding', 'H-bombs', 'for', 'their', 'own', 'use', ',', 'and', 'worse', 'still', ',', 'those', 'governments', '(', 'U.S.', ',', 'French', 'and', 'German', ')', 'that', 'are', 'eagerly', 'peddling', 'advanced', 'nuclear', 'technology', 'to', 'countries', 'like', 'South', 'Africa', ',', 'Brazil', ',', 'and', 'Argentina', 'so', 'that', 'they', 'can', 'make', 'their', 'own', 'bombs', '.', 'When', 'these', 'bombs', 'are', 'used', ',', 'and', 'they', 'will', 'be', ',', 'it', 'will', 'be', 'the', 'world', \"'s\", 'big-time', 'nuclear', 'peddlers', ',', 'along', 'with', 'corporate', 'suppliers', 'like', 'General', 'Electric', ',', 'Westinghouse', ',', 'and', 'Gulf', 'Oil', ',', 'that', 'we', 'can', 'thank', 'for', 'it', '.', 'Gagging', 'The', 'Progressive', 'will', 'do', 'no', 'more', 'for', 'national', 'security', 'than', 'backyard', 'bomb', 'shelters', 'because', 'like', 'it', 'or', 'not', 'the', 'news', 'is', 'out', '.', 'The', 'heart', 'of', 'the', 'successful', 'H-bomb', 'is', 'the', 'successful', 'A-bomb', '.', 'Once', 'you', \"'ve\", 'got', 'your', 'A-bombs', 'made', 'the', 'rest', 'is', 'frosting', 'on', 'the', 'cake', '.', 'All', 'you', 'have', 'to', 'do', 'is', 'set', 'them', 'up', 'so', 'that', 'when', 'they', 'detonate', 'they', \"'ll\", 'start', 'off', 'a', 'hydrogen-fusion', 'reaction', '.', 'Part', '1', ':', 'Making', 'Your', 'Bomb', 'Step', '1', ':', 'Getting', 'the', 'Ingredients', 'Uranium', 'is', 'the', 'basic', 'ingredient', 'of', 'the', 'A-bomb', '.', 'When', 'a', 'uranium', 'atom', \"'s\", 'nucleus', 'splits', 'apart', ',', 'it', 'releases', 'a', 'tremendous', 'amount', 'of', 'energy', '(', 'for', 'its', 'size', ')', ',', 'and', 'it', 'emits', 'neutrons', 'which', 'go', 'on', 'to', 'split', 'other', 'nearby', 'uranium', 'nuclei', ',', 'releasing', 'more', 'energy', ',', 'in', 'what', 'is', 'called', 'a', \"'chain\", 'reaction', \"'\", '.', '(', 'When', 'atoms', 'split', ',', 'matter', 'is', 'converted', 'into', 'energy', 'according', 'to', 'Einstein', \"'s\", 'equation', 'E=MC2', '.', 'What', 'better', 'way', 'to', 'mark', 'his', 'birthday', 'than', 'with', 'your', 'own', 'atomic', 'fireworks', '?', ')', 'There', 'are', 'two', 'kinds', '(', 'isotopes', ')', 'of', 'uranium', ':', 'the', 'rare', 'U-235', ',', 'used', 'in', 'bombs', ',', 'and', 'the', 'more', 'common', ',', 'heavier', ',', 'but', 'useless', 'U-238', '.', 'Natural', 'uranium', 'contains', 'less', 'than', '1', 'percent', 'U-235', 'and', 'in', 'order', 'to', 'be', 'usable', 'in', 'bombs', 'it', 'has', 'to', 'be', \"'enriched\", \"'\", 'to', '90', 'percent', 'U-235', 'and', 'only', '10', 'percent', 'U-238', '.', 'Plutonium-239', 'can', 'also', 'be', 'used', 'in', 'bombs', 'as', 'a', 'substitute', 'for', 'U-235', '.', 'Ten', 'pounds', 'of', 'U-235', '(', 'or', 'slightly', 'less', 'plutonium', ')', 'is', 'all', 'that', 'is', 'necessary', 'for', 'a', 'bomb', '.', 'Less', 'than', 'ten', 'pounds', 'wo', \"n't\", 'give', 'you', 'a', 'critical', 'mass', '.', 'So', 'purifying', 'or', 'enriching', 'naturally', 'occurring', 'uranium', 'is', 'likely', 'to', 'be', 'your', 'first', 'big', 'hurdle', '.', 'It', 'is', 'infinitely', 'easy', 'to', 'steal', 'ready-to-use', 'enriched', 'uranium', 'or', 'plutonium', 'than', 'to', 'enrich', 'some', 'yourself', '.', 'And', 'stealing', 'uranium', 'is', 'not', 'as', 'hard', 'as', 'it', 'sounds', '.', 'There', 'are', 'at', 'least', 'three', 'sources', 'of', 'enriched', 'uranium', 'or', 'plutonium', '...', 'Enriched', 'uranium', 'is', 'manufactured', 'at', 'a', 'gaseous', 'diffusion', 'plant', 'in', 'Portsmouth', ',', 'Ohio', '.', 'From', 'there', 'it', 'is', 'shipped', 'in', '10', 'liter', 'bottles', 'by', 'airplane', 'and', 'trucks', 'to', 'conversion', 'plants', 'that', 'turn', 'it', 'into', 'uranium', 'oxide', 'or', 'uranium', 'metal', '.', 'Each', '10', 'liter', 'bottle', 'contains', '7', 'kilograms', 'of', 'U-235', ',', 'and', 'there', 'are', '20', 'bottles', 'to', 'a', 'typical', 'shipment', '.', 'Conversion', 'facilities', 'exist', 'at', 'Hematite', ',', 'Missouri', ';', 'Apollo', ',', 'Pennsylvania', ';', 'and', 'Erwin', ',', 'Tennessee', '.', 'The', 'Kerr-McGee', 'plant', 'at', 'Crescent', 'Oklahoma', '--', 'where', 'Karen', 'Silkwood', 'worked', '--', 'was', 'a', 'conversion', 'plant', 'that', \"'lost\", \"'\", '40', 'lbs', 'of', 'plutonium', '.', 'Enriched', 'uranium', 'can', 'be', 'stolen', 'from', 'these', 'plants', 'or', 'from', 'fuel-fabricating', 'plants', 'like', 'those', 'in', 'New', 'Haven', ',', 'San', 'Diego', ';', 'or', 'Lynchburg', ',', 'Virginia', '.', '(', 'A', 'former', 'Kerr-McGee', 'supervisor', ',', 'James', 'V.', 'Smith', ',', 'when', 'asked', 'at', 'the', 'Silkwood', 'trial', 'if', 'there', 'were', 'any', 'security', 'precautions', 'at', 'the', 'plant', 'to', 'prevent', 'theft', ',', 'testified', 'that', \"'There\", 'were', 'none', 'of', 'any', 'kind', ',', 'no', 'guards', ',', 'no', 'fences', ',', 'no', 'nothing', '.', \"'\", ')', 'Plutonium', 'can', 'be', 'obtained', 'from', 'places', 'like', 'United', 'Nuclear', 'in', 'Pawling', ',', 'New', 'York', ';', 'Nuclear', 'Fuel', 'Services', 'in', 'Erwin', ',', 'Tennessee', ';', 'General', 'Electric', 'in', 'Pleasanton', ',', 'California', ';', 'Westinghouse', 'in', 'Cheswick', ',', 'Pennsylvania', ';', 'Nuclear', 'Materials', 'and', 'Equipment', 'Corporation', '(', 'NUMEC', ')', 'in', 'Leechburg', ',', 'Pennsylvania', ';', 'and', 'plants', 'in', 'Hanfford', ',', 'Washington', 'and', 'Morris', ',', 'Illinois', '.', 'According', 'to', 'Rolling', 'Stone', 'magazine', 'the', 'Israelis', 'were', 'involved', 'in', 'the', 'theft', 'of', 'plutonium', 'from', 'NUMEC', '.', 'Finally', 'you', 'can', 'steal', 'enriched', 'uranium', 'or', 'plutonium', 'while', 'it', \"'s\", 'en-route', 'from', 'conversion', 'plants', 'to', 'fuel', 'fabricating', 'plants', '.', 'It', 'is', 'usually', 'transported', '(', 'by', 'air', 'or', 'truck', ')', 'in', 'the', 'form', 'of', 'uranium', 'oxide', ',', 'a', 'brownish', 'powder', 'resembling', 'instant', 'coffee', ',', 'or', 'as', 'a', 'metal', ',', 'coming', 'in', 'small', 'chunks', 'called', \"'broken\", 'buttons', '.', \"'\", 'Both', 'forms', 'are', 'shipped', 'in', 'small', 'cans', 'stacked', 'in', '5-inch', 'cylinders', 'braced', 'with', 'welded', 'struts', 'in', 'the', 'center', 'of', 'ordinary', '55', 'gallon', 'steel', 'drums', '.', 'The', 'drums', 'weigh', 'about', '100', 'pounds', 'and', 'are', 'clearly', 'marked', \"'Fissible\", 'Material', \"'\", 'or', \"'Danger\", ',', 'Plutonium', '.', \"'\", 'A', 'typical', 'shipment', 'might', 'go', 'from', 'the', 'enrichment', 'plant', 'at', 'Portsmouth', ',', 'Ohio', 'to', 'the', 'conversion', 'plant', 'in', 'Hematite', 'Missouri', 'then', 'to', 'Kansas', 'City', 'by', 'truck', 'where', 'it', 'would', 'be', 'flown', 'to', 'Los', 'Angeles', 'and', 'then', 'trucked', 'down', 'to', 'the', 'General', 'Atomic', 'plant', 'in', 'San', 'Diego', '.', 'The', 'plans', 'for', 'the', 'General', 'Atomic', 'plant', 'are', 'on', 'file', 'at', 'the', 'Nuclear', 'Regulatory', 'Commission', \"'s\", 'reading', 'room', 'at', '1717', 'H', 'Street', 'NW', 'Washington', '.', 'A', 'Xerox', 'machine', 'is', 'provided', 'for', 'the', 'convenience', 'of', 'the', 'public', '.', 'If', 'you', 'ca', \"n't\", 'get', 'hold', 'of', 'any', 'enriched', 'uranium', 'you', \"'ll\", 'have', 'to', 'settle', 'for', 'commercial', 'grade', '(', '20', 'percent', 'U-235', ')', '.', 'This', 'can', 'be', 'stolen', 'from', 'university', 'reactors', 'of', 'a', 'type', 'called', 'TRIGA', 'Mark', 'II', ',', 'where', 'security', 'is', 'even', 'more', 'casual', 'than', 'at', 'commercial', 'plants', '.', 'If', 'stealing', 'uranium', 'seems', 'too', 'tacky', 'you', 'can', 'buy', 'it', '.', 'Unenriched', 'uranium', 'is', 'available', 'at', 'any', 'chemical', 'supply', 'house', 'for', '$', '23', 'a', 'pound', '.', 'Commercial', 'grade', '(', '3', 'to', '20', 'percent', 'enriched', ')', 'is', 'available', 'for', '$', '40', 'a', 'pound', 'from', 'Gulf', 'Atomic', '.', 'You', \"'ll\", 'have', 'to', 'enrich', 'it', 'further', 'yourself', '.', 'Quite', 'frankly', 'this', 'can', 'be', 'something', 'of', 'a', 'pain', 'in', 'the', 'ass', '.', 'You', \"'ll\", 'need', 'to', 'start', 'with', 'a', 'little', 'more', 'than', '50', 'pounds', 'of', 'commercial-grade', 'uranium', '.', '(', 'It', \"'s\", 'only', '20', 'percent', 'U-235', 'at', 'best', ',', 'and', 'you', 'need', '10', 'pounds', 'of', 'U-235', 'so', '...', ')', 'But', 'with', 'a', 'little', 'kitchen-table', 'chemistry', 'you', \"'ll\", 'be', 'able', 'to', 'convert', 'the', 'solid', 'uranium', 'oxide', 'you', \"'ve\", 'purchased', 'into', 'a', 'liquid', 'form', '.', 'Once', 'you', \"'ve\", 'done', 'that', ',', 'you', \"'ll\", 'be', 'able', 'to', 'separate', 'the', 'U-235', 'that', 'you', \"'ll\", 'need', 'from', 'the', 'U-238', '.', 'First', 'pour', 'a', 'few', 'gallons', 'of', 'concentrated', 'hydrofluoric', 'acid', 'into', 'your', 'uranium', 'oxide', ',', 'converting', 'it', 'to', 'uranium', 'tetrafluoride', '.', '(', 'Safety', 'note', ':', 'Concentrated', 'hydrofluoric', 'acid', 'is', 'so', 'corrosive', 'that', 'it', 'will', 'eat', 'its', 'way', 'through', 'glass', ',', 'so', 'store', 'it', 'only', 'in', 'plastic', '.', 'Used', '1-gallon', 'plastic', 'milk', 'containers', 'will', 'do', '.', ')', 'Now', 'you', 'have', 'to', 'convert', 'your', 'uranium', 'tetrafluoride', 'to', 'uranium', 'hexafluoride', ',', 'the', 'gaseous', 'form', 'of', 'uranium', ',', 'which', 'is', 'convenient', 'for', 'separating', 'out', 'the', 'isotope', 'U-235', 'from', 'U-238', '.', 'To', 'get', 'the', 'hexafluoride', 'form', ',', 'bubble', 'fluorine', 'gas', 'into', 'your', 'container', 'of', 'uranium', 'tetrafluoride', '.', 'Fluorine', 'is', 'available', 'in', 'pressurized', 'tanks', 'from', 'chemical-supply', 'firms', '.', 'Be', 'careful', 'how', 'you', 'use', 'it', 'though', 'because', 'fluorine', 'is', 'several', 'times', 'more', 'deadly', 'than', 'chlorine', ',', 'the', 'classic', 'World', 'War', 'I', 'poison', 'gas', '.', 'Chemists', 'recommend', 'that', 'you', 'carry', 'out', 'this', 'step', 'under', 'a', 'stove', 'hood', '(', 'the', 'kind', 'used', 'to', 'remove', 'unpleasant', 'cooking', 'odors', ')', '.', 'If', 'you', \"'ve\", 'done', 'your', 'chemistry', 'right', 'you', 'should', 'now', 'have', 'a', 'generous', 'supply', 'of', 'uranium', 'hexafluoride', 'ready', 'for', 'enriching', '.', 'In', 'the', 'old', 'horse-and-buggy', 'days', 'of', 'A-bomb', 'manufacture', 'the', 'enrichment', 'was', 'carried', 'out', 'by', 'passing', 'the', 'uranium', 'hexafluoride', 'through', 'hundreds', 'of', 'miles', 'of', 'pipes', ',', 'tubes', ',', 'and', 'membranes', ',', 'until', 'the', 'U-235', 'was', 'eventually', 'separated', 'from', 'the', 'U-238', '.', 'This', 'gaseous-diffusion', 'process', ',', 'as', 'it', 'was', 'called', 'is', 'difficult', ',', 'time-consuming', ',', 'and', 'expensive', '.', 'Gaseous-diffusion', 'plants', 'cover', 'hundreds', 'of', 'acres', 'and', 'cost', 'in', 'the', 'neighborhood', 'of', '$', '2-billion', 'each', '.', 'So', 'forget', 'it', '.', 'There', 'are', 'easier', ',', 'and', 'cheaper', ',', 'ways', 'to', 'enrich', 'your', 'uranium', '.', 'First', 'transform', 'the', 'gas', 'into', 'a', 'liquid', 'by', 'subjecting', 'it', 'to', 'pressure', '.', 'You', 'can', 'use', 'a', 'bicycle', 'pump', 'for', 'this', '.', 'Then', 'make', 'a', 'simple', 'home', 'centrifuge', '.', 'Fill', 'a', 'standard-size', 'bucket', 'one-quarter', 'full', 'of', 'liquid', 'uranium', 'hexafluoride', '.', 'Attach', 'a', 'six-foot', 'rope', 'to', 'the', 'bucket', 'handle', '.', 'Now', 'swing', 'the', 'rope', '(', 'and', 'attached', 'bucket', ')', 'around', 'your', 'head', 'as', 'fast', 'as', 'possible', '.', 'Keep', 'this', 'up', 'for', 'about', '45', 'minutes', '.', 'Slow', 'down', 'gradually', ',', 'and', 'very', 'gently', 'put', 'the', 'bucket', 'on', 'the', 'floor', '.', 'The', 'U-235', ',', 'which', 'is', 'lighter', ',', 'will', 'have', 'risen', 'to', 'the', 'top', ',', 'where', 'it', 'can', 'be', 'skimmed', 'off', 'like', 'cream', '.', 'Repeat', 'this', 'step', 'until', 'you', 'have', 'the', 'required', '10', 'pounds', 'of', 'uranium', '.', '(', 'Safety', 'note', ':', 'Do', \"n't\", 'put', 'all', 'your', 'enriched', 'uranium', 'hexafluoride', 'in', 'one', 'bucket', '.', 'Use', 'at', 'least', 'two', 'or', 'three', 'buckets', 'and', 'keep', 'them', 'in', 'separate', 'corners', 'of', 'the', 'room', '.', 'This', 'will', 'prevent', 'the', 'premature', 'build-up', 'of', 'a', 'critical', 'mass', '.', ')', 'Now', 'it', \"'s\", 'time', 'to', 'convert', 'your', 'enriched', 'uranium', 'back', 'to', 'metal', 'form', '.', 'This', 'is', 'easily', 'enough', 'accomplished', 'by', 'spooning', 'several', 'ladlefuls', 'of', 'calcium', '(', 'available', 'in', 'tablet', 'form', 'from', 'your', 'drugstore', ')', 'into', 'each', 'bucket', 'of', 'uranium', '.', 'The', 'calcium', 'will', 'react', 'with', 'the', 'uranium', 'hexafluoride', 'to', 'produce', 'calcium', 'fluoride', ',', 'a', 'colorless', 'salt', 'which', 'can', 'be', 'easily', 'be', 'separated', 'from', 'your', 'pure', 'enriched', 'uranium', 'metal', '.', 'A', 'few', 'precautions', ':', '•', 'While', 'uranium', 'is', 'not', 'dangerously', 'radioactive', 'in', 'the', 'amounts', 'you', \"'ll\", 'be', 'handling', ',', 'if', 'you', 'plan', 'to', 'make', 'more', 'than', 'one', 'bomb', 'it', 'might', 'be', 'wise', 'to', 'wear', 'gloves', 'and', 'a', 'lead', 'apron', ',', 'the', 'kind', 'you', 'can', 'buy', 'in', 'dental', 'supply', 'stores', '.', '•', 'Plutonium', 'is', 'one', 'of', 'the', 'most', 'toxic', 'substances', 'known', '.', 'If', 'inhaled', ',', 'a', 'thousandth', 'of', 'a', 'gram', 'can', 'cause', 'massive', 'fibrosis', 'of', 'the', 'lungs', ',', 'a', 'painful', 'way', 'to', 'go', '.', 'Even', 'a', 'millionth', 'of', 'a', 'gram', 'in', 'the', 'lungs', 'will', 'cause', 'cancer', '.', 'If', 'eaten', 'plutonium', 'is', 'metabolized', 'like', 'calcium', '.', 'It', 'goes', 'straight', 'to', 'the', 'bones', 'where', 'it', 'gives', 'out', 'alpha', 'particles', 'preventing', 'bone', 'marrow', 'from', 'manufacturing', 'red', 'blood', 'cells', '.', 'The', 'best', 'way', 'to', 'avoid', 'inhaling', 'plutonium', 'is', 'to', 'hold', 'your', 'breath', 'while', 'handling', 'it', '.', 'If', 'this', 'is', 'too', 'difficult', 'wear', 'a', 'mask', '.', 'To', 'avoid', 'ingesting', 'plutonium', 'orally', 'follow', 'this', 'simple', 'rule', ':', 'never', 'make', 'an', 'A-bomb', 'on', 'an', 'empty', 'stomach', '.', '•', 'If', 'you', 'find', 'yourself', 'dozing', 'off', 'while', 'you', \"'re\", 'working', ',', 'or', 'if', 'you', 'begin', 'to', 'glow', 'in', 'the', 'dark', ',', 'it', 'might', 'be', 'wise', 'to', 'take', 'a', 'blood', 'count', '.', 'Prick', 'your', 'finger', 'with', 'a', 'sterile', 'pin', ',', 'place', 'a', 'drop', 'of', 'blood', 'on', 'a', 'microscope', 'slide', ',', 'cover', 'it', 'with', 'a', 'cover', 'slip', ',', 'and', 'examine', 'under', 'a', 'microscope', '.', '(', 'Best', 'results', 'are', 'obtained', 'in', 'the', 'early', 'morning', '.', ')', 'When', 'you', 'get', 'leukemia', ',', 'immature', 'cells', 'are', 'released', 'into', 'the', 'bloodstream', ',', 'and', 'usually', 'the', 'number', 'of', 'white', 'cells', 'increases', '(', 'though', 'this', 'increase', 'might', 'take', 'almost', '2', 'weeks', ')', '.', 'Red', 'blood', 'cells', 'look', 'kind', 'of', 'like', 'donuts', '(', 'without', 'the', 'hole', ')', ',', 'and', 'are', 'slightly', 'smaller', 'than', 'the', 'white', 'cells', ',', 'each', 'of', 'which', 'has', 'a', 'nucleus', '.', 'Immature', 'red', 'cells', 'look', 'similar', 'to', 'white', 'cells', '(', 'i.e..', 'slightly', 'larger', 'and', 'have', 'a', 'nucleus', ')', '.', 'If', 'you', 'have', 'more', 'than', 'about', '1', 'white', 'cell', '(', 'including', 'immature', 'ones', ')', 'to', '400', 'red', 'cells', 'then', 'start', 'to', 'worry', '.', 'But', ',', 'depending', 'upon', 'your', 'plans', 'for', 'the', 'eventual', 'use', 'of', 'the', 'bomb', ',', 'a', 'short', 'life', 'expectancy', 'might', 'not', 'be', 'a', 'problem', '.', 'Step', '2', ':', 'Assembling', 'the', 'A-Bomb', 'Now', 'that', 'you', \"'ve\", 'acquired', 'the', 'enriched', 'uranium', ',', 'all', 'that', \"'s\", 'left', 'is', 'to', 'assemble', 'your', 'A-bomb', '.', 'Go', 'find', 'a', 'couple', 'of', 'stainless', 'steel', 'salad', 'bowls', '.', 'You', 'also', 'want', 'to', 'separate', 'your', '10', 'pounds', 'of', 'U-235', 'into', 'two', 'hunks', '.', '(', 'Keep', 'them', 'apart', '!', ')', 'The', 'idea', 'is', 'to', 'push', 'each', 'half', 'your', 'uranium', 'into', 'the', 'inside', 'of', 'a', 'bowl', '.', 'Take', 'one', 'hunk', 'of', 'your', 'uranium', 'and', 'beat', 'it', 'into', 'the', 'inside', 'of', 'the', 'first', 'bowl', '.', 'Uranium', 'is', 'malleable', ',', 'like', 'gold', ',', 'so', 'you', 'should', 'have', 'no', 'trouble', 'hammering', 'it', 'into', 'the', 'bowl', 'to', 'get', 'a', 'good', 'fit', '.', 'Take', 'another', 'five-pound', 'hunk', 'of', 'uranium', 'and', 'fit', 'it', 'into', 'a', 'second', 'stainless', 'steel', 'bowl', '.', 'These', 'two', 'bowls', 'of', 'U-235', 'are', 'the', \"'subcritical\", 'masses', \"'\", 'which', ',', 'when', 'brought', 'together', 'forcefully', ',', 'will', 'provide', 'the', 'critical', 'mass', 'that', 'makes', 'your', 'A-bomb', 'go', '.', 'Keep', 'them', 'a', 'respectful', 'distance', 'apart', 'while', 'working', 'because', 'you', 'do', \"n't\", 'want', 'them', 'to', \"'go\", 'critical', \"'\", 'on', 'you', '...', 'At', 'least', 'not', 'yet', '.', 'Now', 'hollow', 'out', 'the', 'body', 'of', 'an', 'old', 'vacuum', 'cleaner', 'and', 'place', 'your', 'two', 'hemispherical', 'bowls', 'inside', ',', 'open', 'ends', 'facing', 'each', 'other', ',', 'no', 'less', 'than', 'seven', 'inches', 'apart', ',', 'using', 'masking', 'tape', 'to', 'set', 'them', 'up', 'in', 'position', '.', 'The', 'reason', 'for', 'the', 'steel', 'bowls', 'and', 'the', 'vacuum', 'cleaner', ',', 'in', 'case', 'you', \"'re\", 'wondering', ',', 'is', 'that', 'these', 'help', 'reflect', 'the', 'neutrons', 'back', 'into', 'the', 'uranium', 'for', 'a', 'more', 'efficient', 'explosion', '.', \"'\", 'A', 'loose', 'neutron', 'is', 'a', 'useless', 'neutron', \"'\", 'as', 'the', 'A-bomb', 'pioneers', 'used', 'to', 'say', '.', 'As', 'far', 'as', 'the', 'A-bomb', 'goes', ',', 'you', \"'re\", 'almost', 'done', '.', 'The', 'final', 'problem', 'is', 'to', 'figure', 'out', 'how', 'to', 'get', 'the', 'two', 'U-235', 'hemispheres', 'to', 'smash', 'into', 'each', 'other', 'with', 'sufficient', 'force', 'to', 'set', 'off', 'a', 'truly', 'effective', 'fission', 'reaction', '.', 'Almost', 'any', 'type', 'of', 'explosive', 'can', 'be', 'used', 'to', 'drive', 'them', 'together', '.', 'Gunpowder', ',', 'for', 'example', ',', 'is', 'easily', 'made', 'at', 'home', 'from', 'potassium', 'nitrate', ',', 'sulfur', ',', 'and', 'carbon', '.', 'Or', ',', 'you', 'can', 'get', 'some', 'blasting', 'caps', 'or', 'TNT', '.', '(', 'Buy', 'them', 'or', 'steal', 'them', 'from', 'a', 'construction', 'site', '.', ')', 'Best', 'of', 'all', 'is', 'C4', 'plastic', 'explosive', '.', 'You', 'can', 'mold', 'it', 'around', 'your', 'bowls', ',', 'and', 'it', \"'s\", 'fairly', 'safe', 'to', 'work', 'with', '.', '(', 'But', ',', 'it', 'might', 'be', 'wise', 'to', 'shape', 'it', 'around', 'an', 'extra', 'salad', 'bowl', 'in', 'another', 'room', ',', 'and', 'THEN', 'fit', 'it', 'to', 'your', 'uranium-packed', 'bowls', '.', 'This', 'is', 'particularly', 'true', 'in', 'winter', ',', 'when', 'a', 'stray', 'static', 'electrical', 'charge', 'might', 'induce', 'ignition', 'in', 'the', 'C4', '.', 'A', 'responsible', 'bomb', 'maker', 'considers', 'it', 'impolite', 'to', 'accidentally', 'destroy', 'more', 'of', 'the', 'neighborhood', 'than', 'absolutely', 'necessary', '.', ')', 'Once', 'the', 'explosives', 'are', 'in', 'place', 'all', 'you', 'need', 'to', 'do', 'is', 'hook', 'up', 'a', 'simple', 'detonation', 'device', 'with', 'a', 'few', 'batteries', ',', 'a', 'switch', ',', 'and', 'some', 'wire', '.', 'Remember', 'though', 'that', 'it', 'is', 'essential', 'that', 'the', 'two', 'charges', '--', 'one', 'on', 'each', 'side', 'of', 'the', 'casing', '--', 'go', 'off', 'simultaneously', '.', 'Now', 'put', 'the', 'whole', 'thing', 'in', 'the', 'casing', 'of', 'an', 'old', 'Hoover', 'vacuum', 'cleaner', 'and', 'you', \"'re\", 'finished', 'with', 'this', 'part', 'of', 'the', 'process', '.', 'The', 'rest', 'is', 'easy', '.', 'Step', '3', ':', 'Make', 'More', 'A-Bombs', 'Following', 'the', 'Directions', 'Above', 'A', 'Word', 'to', 'the', 'Wise', 'About', 'Wastes', 'After', 'your', 'A-bomb', 'is', 'completed', 'you', \"'ll\", 'have', 'a', 'pile', 'of', 'moderately', 'fatal', 'radioactive', 'wastes', 'like', 'U-238', '.', 'These', 'are', 'not', 'dangerous', ',', 'but', 'you', 'do', 'have', 'to', 'get', 'rid', 'of', 'them', '.', 'You', 'can', 'flush', 'leftovers', 'down', 'the', 'toilet', '.', '(', 'Do', \"n't\", 'worry', 'about', 'polluting', 'the', 'ocean', ',', 'there', 'is', 'already', 'so', 'much', 'radioactive', 'waste', 'there', ',', 'a', 'few', 'more', 'bucketfuls', 'wo', \"n't\", 'make', 'any', 'waves', 'whatsoever', '.', ')', 'If', 'you', \"'re\", 'the', 'fastidious', 'type', '--', 'the', 'kind', 'who', 'never', 'leaves', 'gum', 'under', 'their', 'seat', 'at', 'the', 'movies', '--', 'you', 'can', 'seal', 'the', 'nasty', 'stuff', 'in', 'coffee', 'cans', 'and', 'bury', 'it', 'in', 'the', 'backyard', ',', 'just', 'like', 'Uncle', 'Sam', 'does', '.', 'If', 'the', 'neighbor', 'kids', 'have', 'a', 'habit', 'of', 'trampling', 'the', 'lawn', ',', 'tell', 'them', 'to', 'play', 'over', 'by', 'the', 'waste', '.', 'You', \"'ll\", 'soon', 'find', 'that', 'they', \"'re\", 'spending', 'most', 'of', 'their', 'time', 'in', 'bed', '.', 'Going', 'First', 'Class', 'If', 'you', \"'re\", 'like', 'us', ',', 'you', \"'re\", 'feeling', 'the', 'economic', 'pinch', ',', 'and', 'you', \"'ll\", 'want', 'to', 'make', 'your', 'bomb', 'as', 'inexpensively', 'as', 'possible', ',', 'consonant', 'of', 'course', 'with', 'reasonable', 'yield', '.', 'The', 'recipe', 'we', \"'ve\", 'given', 'is', 'for', 'a', 'budget-pleasing', 'H-bomb', ',', 'no', 'frills', ',', 'no', 'flourishes', ';', 'it', \"'s\", 'just', 'a', 'simple', '5-megaton', 'bomb', ',', 'capable', 'of', 'wiping', 'out', 'the', 'New', 'York', 'metropolitan', 'area', ',', 'the', 'San', 'Francisco', 'Bay', 'area', ',', 'or', 'Boston', '.', 'But', 'do', \"n't\", 'forget', ',', 'your', 'H-bomb', 'will', 'only', 'be', 'as', 'good', 'as', 'the', 'A-bombs', 'in', 'it', '.', 'If', 'you', 'want', 'to', 'spend', 'a', 'little', 'more', 'money', 'you', 'can', 'punch-up', 'your', 'A-bomb', 'considerably', '.', 'Instead', 'of', 'centrifuging', 'your', 'uranium', 'by', 'hand', ',', 'you', 'can', 'buy', 'a', 'commercial', 'centrifuge', '.', '(', 'Fisher', 'Scientific', 'sells', 'one', 'for', 'about', '$', '1000', '.', ')', 'You', 'also', 'might', 'want', 'to', 'be', 'fussier', 'about', 'your', 'design', '.', 'The', 'Hiroshima', 'bomb', ',', 'a', 'relatively', 'crude', 'one', ',', 'only', 'fissioned', '1', 'percent', 'of', 'it', \"'s\", 'uranium', 'and', 'yielded', 'only', '13', 'kilotons', '.', 'In', 'order', 'to', 'fission', 'more', 'of', 'the', 'uranium', ',', 'the', 'force', 'of', 'your', 'explosive', \"'trigger\", \"'\", 'needs', 'to', 'be', 'evenly', 'diffused', 'around', 'the', 'sphere', ';', 'the', 'same', 'pressure', 'has', 'to', 'be', 'exerted', 'on', 'every', 'point', 'of', 'the', 'sphere', 'simultaneously', '.', '(', 'It', 'was', 'a', 'technique', 'for', 'producing', 'this', 'sort', 'of', 'simultaneous', 'detonation', 'by', 'fashioning', 'the', 'explosives', 'into', 'lenses', 'that', 'the', 'government', 'accused', 'Julius', 'and', 'Ethel', 'Rosenberg', 'of', 'trying', 'to', 'steal', ')', '.', 'Part', '2', ':', 'Putting', 'Your', 'H-Bomb', 'Together', 'The', 'heart', 'of', 'the', 'H-bomb', 'is', 'the', 'fusion', 'process', '.', 'Several', 'A-bombs', 'are', 'detonated', 'in', 'such', 'a', 'way', 'as', 'to', 'create', 'the', 'extremely', 'high', 'temperature', '(', '100', 'million', 'degrees', 'C', ')', 'necessary', 'to', 'fuse', 'lithium', 'deuteride', '(', 'LiD', ')', 'into', 'helium', '.', 'When', 'the', 'lithium', 'nucleus', 'slams', 'into', 'the', 'deuterium', 'nucleus', ',', 'two', 'helium', 'nuclei', 'are', 'created', ',', 'and', 'if', 'this', 'happens', 'to', 'enough', 'deuterium', 'nuclei', 'rapidly', 'enough', ',', 'the', 'result', 'is', 'an', 'enormous', 'amount', 'of', 'energy', ':', 'the', 'energy', 'of', 'the', 'H-bomb', '.', 'You', 'do', \"n't\", 'have', 'to', 'worry', 'about', 'stealing', 'lithium', 'deuteride', ',', 'it', 'can', 'be', 'purchased', 'from', 'any', 'chemical-supply', 'house', '.', 'It', 'costs', '$', '1000', 'a', 'pound', '.', 'If', 'your', 'budget', 'wo', \"n't\", 'allow', 'it', 'you', 'can', 'substitute', 'lithium', 'hydride', 'at', '$', '40', 'a', 'pound', '.', 'You', 'will', 'need', 'at', 'least', '100', 'pounds', '.', 'It', \"'s\", 'a', 'corrosive', 'and', 'toxic', 'powder', 'so', 'be', 'careful', '.', 'Place', 'the', 'lithium', 'deuteride', 'or', 'hydride', 'in', 'glass', 'jars', 'and', 'surround', 'it', 'with', 'four', 'A-bombs', 'in', 'their', 'casings', '.', 'Attach', 'them', 'to', 'the', 'same', 'detonator', 'so', 'that', 'they', 'will', 'go', 'off', 'simultaneously', '.', 'The', 'container', 'for', 'the', 'whole', 'thing', 'is', 'no', 'problem', '.', 'They', 'can', 'be', 'placed', 'anywhere', ':', 'Inside', 'an', 'old', 'stereo', 'console', ',', 'a', 'discarded', 'refrigerator', ',', 'etc', '...', 'When', 'the', 'detonator', 'sets', 'off', 'the', 'four', 'A-bombs', 'all', 'eight', 'hemispheres', 'of', 'fissionable', 'material', 'will', 'slam', 'into', 'each', 'other', 'at', 'the', 'same', 'time', 'creating', 'four', 'critical', 'masses', 'and', 'four', 'detonations', '.', 'This', 'will', 'raise', 'the', 'temperature', 'of', 'the', 'lithium', 'deuteride', 'to', '100', 'million', 'degrees', 'C', 'fast', 'enough', '(', 'a', 'few', 'billionths', 'of', 'a', 'second', ')', 'so', 'that', 'the', 'lithium', 'will', 'not', 'be', 'blown', 'all', 'over', 'the', 'neighborhood', 'before', 'the', 'nuclei', 'have', 'time', 'to', 'fuse', '.', 'The', 'result', ',', 'at', 'least', '1000', 'times', 'the', 'punch', 'of', 'the', 'puny', 'A-bomb', 'that', 'leveled', 'Hiroshima', '(', '20', 'million', 'tons', 'of', 'TNT', 'vs.', '20', 'thousand', 'tons', '.', ')', 'Part', '3', ':', 'What', 'to', 'do', 'With', 'Your', 'Bomb', 'Now', 'that', 'you', 'have', 'a', 'fully', 'assembled', 'H-bomb', 'housed', 'in', 'an', 'attractive', 'console', 'of', 'your', 'choice', 'you', 'may', 'be', 'wondering', ',', \"'What\", 'should', 'I', 'do', 'with', 'it', '?', \"'\", 'Every', 'family', 'will', 'have', 'to', 'answer', 'this', 'question', 'according', 'to', 'its', 'own', 'tastes', 'and', 'preferences', ',', 'but', 'you', 'may', 'want', 'to', 'explore', 'some', 'possibilities', 'which', 'have', 'been', 'successfully', 'pioneered', 'by', 'the', 'American', 'government', '.', '1', '.', 'Sell', 'Your', 'Bomb', 'and', 'Make', 'a', 'Pile', 'of', 'Money', 'In', 'these', 'days', 'of', 'rising', 'inflation', ',', 'increasing', 'unemployment', ',', 'and', 'an', 'uncertain', 'economic', 'outlook', ',', 'few', 'businesses', 'make', 'as', 'much', 'sense', 'as', 'weapons', 'production', '.', 'If', 'your', 'career', 'forecast', 'is', 'cloudy', ',', 'bomb', 'sales', 'may', 'be', 'the', 'only', 'sure', 'way', 'to', 'avoid', 'the', 'humiliation', 'of', 'receiving', 'welfare', ',', 'or', 'unemployment', '.', 'Regardless', 'of', 'your', 'present', 'income', 'level', ',', 'a', 'home', 'H-bomb', 'business', 'can', 'be', 'an', 'invaluable', 'income', 'supplement', ',', 'and', 'certainly', 'a', 'profitable', 'alternative', 'to', 'selling', 'Tupperware', 'or', 'pirated', 'Girl', 'Scout', 'cookies', '.', 'Unfortunately', 'for', 'the', 'family', 'bomb', 'business', ',', 'big', 'government', 'has', 'already', 'cornered', 'a', 'large', 'part', 'of', 'the', 'world', 'market', '.', 'But', 'this', 'does', 'not', 'mean', 'that', 'there', 'is', 'a', 'shortage', 'of', 'potential', 'customers', '.', 'The', 'raid', 'on', 'Entebee', 'was', 'the', 'Waterloo', 'of', 'hijacking', ',', 'and', 'many', 'nationalist', 'groups', 'are', 'now', 'on', 'the', 'alert', 'for', 'new', 'means', 'to', 'get', 'their', 'message', 'across', '.', 'They', \"'d\", 'jump', 'at', 'the', 'chance', 'to', 'get', 'hold', 'of', 'an', 'H-bomb', '.', 'Emerging', 'nations', 'which', 'ca', \"n't\", 'ante', 'up', 'enough', 'rice', 'or', 'sugar', 'to', 'buy', 'themselves', 'a', 'reactor', 'from', 'G.E', '.', 'or', 'Westinghouse', 'are', 'also', 'shopping', 'around', '.', 'You', 'may', 'wonder', 'about', 'the', 'ethics', 'of', 'selling', 'to', 'nations', ',', 'or', 'groups', ',', 'whose', 'goals', 'you', 'may', 'disapprove', 'of', '.', 'But', 'here', 'again', ',', 'take', 'a', 'tip', 'from', 'our', 'government', ':', 'forget', 'ideology', '--', 'it', \"'s\", 'cash', 'that', 'counts', '.', 'And', 'remember', ',', 'H-bomb', 'sales', 'have', 'a', 'way', 'of', 'escalating', ',', 'almost', 'like', 'a', 'chain', 'reaction', '.', 'Suppose', 'you', 'make', 'a', 'sale', 'to', 'South', 'Yemen', 'which', 'you', 'believe', 'to', 'be', 'a', 'Soviet', 'puppet', '.', 'Well', 'within', 'a', 'few', 'days', 'some', 'discrete', 'inquiries', 'from', 'North', 'Yemen', 'and', 'possibly', 'the', 'Saudis', ',', 'the', 'Egyptians', 'and', 'the', 'Ethiopians', 'as', 'well', 'can', 'be', 'expected', '.', 'Similarly', ',', 'a', 'sale', 'to', 'the', 'IRA', 'will', 'generate', 'a', 'sale', 'to', 'the', 'Ulster', 'government', ';', 'and', 'a', 'sale', 'to', 'the', 'Tanzanians', 'will', 'bring', 'the', 'Ugandans', 'running', ',', 'and', 'so', 'forth', '.', 'It', 'does', \"n't\", 'matter', 'WHICH', 'side', 'you', \"'re\", 'on', ',', 'only', 'how', 'many', 'sides', 'there', 'are', '.', 'Do', \"n't\", 'forget', 'about', 'the', 'possibility', 'of', 'repeat', 'sales', 'to', 'the', 'same', 'customer', '.', 'As', 'the', 'experience', 'of', 'both', 'the', 'U.S.', 'and', 'the', 'U.S.S.R.', 'has', 'shown', ',', 'each', 'individual', 'nation', 'has', 'a', 'potentially', 'infinite', 'need', 'for', 'H-bombs', '.', 'No', 'customer', '--', 'no', 'matter', 'how', 'small', '--', 'can', 'ever', 'have', 'too', 'many', '.', '2', '.', 'Use', 'Your', 'Bomb', 'at', 'Home', 'Many', 'families', 'are', 'attracted', 'to', 'the', 'H-bomb', 'simply', 'as', 'a', \"'deterrent\", '.', \"'\", 'A', 'discrete', 'sticker', 'on', 'the', 'door', 'or', 'on', 'the', 'living', 'room', 'window', 'saying', \"'This\", 'Home', 'Protected', 'by', 'H-bomb', \"'\", 'will', 'discourage', 'IRS', 'investigators', ',', 'census', 'takers', ',', 'and', 'Jehovah', \"'s\", 'Witnesses', '.', 'You', \"'ll\", 'be', 'surprised', 'how', 'fast', 'the', 'crime', 'rate', 'will', 'go', 'down', 'and', 'property', 'values', 'will', 'go', 'up', '.', 'And', 'once', 'the', 'news', 'gets', 'out', 'that', 'you', 'are', 'a', 'home', 'H-bomb', 'owner', 'you', \"'ll\", 'find', 'that', 'you', 'have', 'unexpected', 'leverage', 'in', 'neighborhood', 'disputes', 'over', 'everything', 'from', 'parking', 'places', 'and', 'stereo', 'noise', 'levels', 'to', 'school', 'tax', 'rates', '.', 'So', 'relax', 'and', 'enjoy', 'the', 'pride', 'and', 'excitement', 'of', 'home', 'H-bomb', 'ownership', '!', 'Is', 'It', 'For', 'You', '?', 'Let', \"'s\", 'be', 'honest', '.', 'The', 'H-bomb', 'is', \"n't\", 'for', 'everyone', '.', 'Frankly', 'there', 'are', 'people', 'who', 'ca', \"n't\", 'handle', 'it', '.', 'They', 'break', 'out', 'in', 'hives', 'at', 'the', 'very', 'mention', 'of', 'mega-death', ',', 'fallout', ',', 'or', 'radiation', 'sickness', '.', 'The', 'following', 'quiz', 'will', 'help', 'you', 'find', 'out', 'whether', 'you', 'have', 'what', 'it', 'takes', 'for', 'home', 'H-bomb', 'ownership', '.', 'If', 'you', 'can', 'answer', \"'yes\", \"'\", 'to', 'six', 'or', 'more', 'of', 'these', 'questions', ',', 'then', 'you', \"'re\", 'emotionally', 'eligible', 'to', 'join', 'the', 'nuclear', 'club', '.', 'If', 'not', ',', 'a', 'more', 'conventional', 'weapon', 'may', 'be', 'more', 'your', 'cup', 'of', 'tea', ',', 'try', 'botulism-toxin', ',', 'laser', 'rays', ',', 'or', 'nerve', 'gas', '.', '1', '.', 'I', 'ignore', 'the', 'demands', 'of', 'others', '.', '2', '.', 'I', 'subscribe', 'to', 'one', 'or', 'more', 'of', 'the', 'following', ':', 'Soldier', 'of', 'Fortune', ',', 'Hustler', ',', 'Popular', 'Mechanics', ',', 'Self', '.', '3', '.', 'Though', 'I', 'have', 'many', 'interesting', 'acquaintances', ',', 'I', 'am', 'my', 'own', 'best', 'friend', '.', '4', '.', 'I', 'know', 'what', 'to', 'say', 'after', 'you', 'say', \"'Hello\", ',', \"'\", 'but', 'I', 'am', 'seldom', 'interested', 'in', 'pursuing', 'the', 'conversation', '.', '5', '.', 'I', 'have', 'seen', 'the', 'movie', \"'The\", 'Deer', 'Hunter', \"'\", 'more', 'than', 'once', '.', '6', '.', 'I', 'know', 'that', 'everyone', 'can', 'be', 'a', 'winner', 'if', 'they', 'want', 'to', ',', 'and', 'I', 'resent', 'whiners', '.', '7', '.', 'I', 'own', 'one', 'or', 'more', 'of', 'the', 'following', ':', 'handgun', ',', 'video', 'game', ',', 'trash', 'compactor', ',', 'snowmobile', '.', '8', '.', 'I', 'am', 'convinced', 'that', 'leukemia', 'is', 'psychosomatic', '.', '9', '.', 'I', 'am', 'aware', 'that', 'most', 'vegetarians', 'are', 'sexually', 'impotent', '.', '10', '.', 'I', 'have', 'read', 'evidence', 'that', 'solar', 'energy', 'is', 'a', 'Communist', 'conspiracy', '.', 'Myths', 'About', 'Nuclear', 'War', 'Ever', 'since', 'the', 'first', 'mushroom', 'cloud', 'over', 'Hiroshima', 'ushered', 'in', 'the', 'atomic', 'age', ',', 'a', 'small', 'group', 'of', 'nay-sayers', 'and', 'doom-mongers', 'has', 'lobbied', ',', 'campaigned', 'and', 'demonstrated', 'to', 'convince', 'Americans', 'that', 'H-bomb', 'ownership', ',', 'along', 'with', 'nuclear', 'power', ',', 'is', 'dangerous', 'and', 'unhealthy', '.', 'Using', 'their', 'virtual', 'stranglehold', 'over', 'the', 'media', ',', 'these', 'people', 'have', 'tried', 'to', 'discredit', 'everything', 'nuclear', 'from', 'energy', 'to', 'war', '.', 'They', 'have', 'vastly', 'overrated', 'the', 'risks', 'of', 'nuclear', 'bombs', 'and', 'left', 'many', 'Americans', 'feeling', 'demoralized', 'and', 'indecisive', ';', 'not', 'sure', 'where', 'the', 'truth', 'lies', '.', 'Well', ',', 'here', 'are', 'the', 'myths', ',', 'and', 'here', 'are', 'the', 'facts', '.', 'Myth', ':', 'After', 'a', 'nuclear', 'exchange', 'the', 'earth', 'will', 'no', 'longer', 'be', 'suitable', 'for', 'human', 'habitation', '.', 'Fact', ':', 'This', 'is', 'completely', 'false', '.', 'According', 'to', 'one', 'scientist', '(', 'quoted', 'in', 'John', 'McPee', \"'s\", 'The', 'Curve', 'of', 'Binding', 'Energy', ')', \"'The\", 'largest', 'bomb', 'that', 'has', 'ever', 'been', 'exploded', 'anywhere', 'was', '60', 'megatons', ',', 'and', 'that', 'is', 'one-thousandth', 'the', 'force', 'of', 'an', 'earthquake', ',', 'one-thousandth', 'the', 'force', 'of', 'a', 'hurricane', '.', 'We', 'have', 'lived', 'with', 'earthquakes', 'and', 'hurricanes', 'for', 'a', 'long', 'time', '.', \"'\", 'Another', 'scientist', 'adds', ',', \"'It\", 'is', 'often', 'assumed', 'that', 'a', 'full', 'blown', 'nuclear', 'war', 'would', 'be', 'the', 'end', 'of', 'life', 'on', 'earth', '.', 'That', 'is', 'far', 'from', 'the', 'truth', '.', 'To', 'end', 'life', 'on', 'earth', 'would', 'take', 'at', 'least', 'a', 'thousand', 'times', 'the', 'total', 'yield', 'of', 'all', 'the', 'nuclear', 'explosives', 'existing', 'in', 'the', 'world', ',', 'and', 'probably', 'a', 'lot', 'more', '.', \"'\", 'Even', 'if', 'humans', 'succumbed', ',', 'many', 'forms', 'of', 'life', 'would', 'survive', 'a', 'nuclear', 'free-for-all', ',', 'cockroaches', ',', 'certain', 'forms', 'of', 'bacteria', ',', 'and', 'lichens', ',', 'for', 'instance', '.', 'Myth', ':', 'Radiation', 'is', 'bad', 'for', 'you', '.', 'Fact', ':', 'Everything', 'is', 'bad', 'for', 'you', 'if', 'you', 'have', 'too', 'much', 'of', 'it', '.', 'If', 'you', 'eat', 'too', 'many', 'bananas', 'you', \"'ll\", 'get', 'a', 'stomach-ache', '.', 'If', 'you', 'get', 'too', 'much', 'sun', 'you', 'can', 'get', 'sunburned', '(', 'or', 'even', 'skin', 'cancer', ')', '.', 'Same', 'thing', 'with', 'radiation', '.', 'Too', 'much', 'may', 'make', 'you', 'feel', 'under', 'the', 'weather', ',', 'but', 'nuclear', 'industry', 'officials', 'insist', 'that', 'there', 'is', 'no', 'evidence', 'that', 'low-level', 'radiation', 'has', 'any', 'really', 'serious', 'adverse', 'effects', '.', 'And', ',', 'high-level', 'radiation', 'may', 'bring', 'unexpected', 'benefits', '.', 'It', 'speeds', 'up', 'evolution', 'by', 'weeding', 'out', 'unwanted', 'genetic', 'types', 'and', 'creating', 'new', 'ones', '.', '(', 'Remember', 'the', 'old', 'saying', ',', \"'Two\", 'heads', 'are', 'better', 'than', 'one', '.', \"'\", ')', 'Nearer', 'to', 'home', ',', 'it', \"'s\", 'plain', 'that', 'radiation', 'will', 'get', 'rid', 'of', 'pesky', 'crab', 'grass', 'and', 'weeds', ',', 'and', 'teenagers', 'will', 'find', 'that', 'brief', 'exposure', 'to', 'a', 'nuclear', 'burst', 'vaporizes', 'acne', 'and', 'other', 'skin', 'blemishes', '.', '(', 'Many', 'survivors', 'of', 'the', 'Hiroshima', 'bomb', 'found', 'that', 'they', 'were', 'free', 'from', 'skin', 'and', 'it', \"'s\", 'attendant', 'problems', 'forever', '.', ')', 'We', 'hope', 'this', 'clears', 'up', 'any', 'misconceptions', 'you', 'may', 'have', 'had', '.', 'Enjoy', 'your', 'H-Bomb', '!']\n"
     ]
    }
   ],
   "source": [
    "Testing(minidf, 'industry')"
   ]
  },
  {
   "cell_type": "code",
   "execution_count": 64,
   "metadata": {},
   "outputs": [],
   "source": [
    "from collections import Counter"
   ]
  },
  {
   "cell_type": "code",
   "execution_count": 80,
   "metadata": {},
   "outputs": [],
   "source": [
    "def Top10CategoryWords(df, column):\n",
    "    # find top 10 words for each category in a column and plot\n",
    "    ax_count = 0\n",
    "    fig, axes = plt.subplots(len(set(df[column].values)), 1)\n",
    "    for category in set(df[column].values):\n",
    "        cnt = Counter()\n",
    "        for blog in df[df[column]==category].tokens:\n",
    "            for word in blog:\n",
    "                cnt[word] += 1\n",
    "        cnt.most_common(10).plot(kind='bar', x='10 most frequent words', y=category, ax=axes[ax_count])\n",
    "        ax_count += 1"
   ]
  },
  {
   "cell_type": "code",
   "execution_count": null,
   "metadata": {},
   "outputs": [],
   "source": [
    "cnt"
   ]
  },
  {
   "cell_type": "code",
   "execution_count": 81,
   "metadata": {},
   "outputs": [
    {
     "ename": "AttributeError",
     "evalue": "'list' object has no attribute 'plot'",
     "output_type": "error",
     "traceback": [
      "\u001b[0;31m---------------------------------------------------------------------------\u001b[0m",
      "\u001b[0;31mAttributeError\u001b[0m                            Traceback (most recent call last)",
      "\u001b[0;32m<ipython-input-81-b2315d132ecb>\u001b[0m in \u001b[0;36m<module>\u001b[0;34m\u001b[0m\n\u001b[0;32m----> 1\u001b[0;31m \u001b[0mTop10CategoryWords\u001b[0m\u001b[0;34m(\u001b[0m\u001b[0mblogdata\u001b[0m\u001b[0;34m,\u001b[0m \u001b[0;34m'industry'\u001b[0m\u001b[0;34m)\u001b[0m\u001b[0;34m\u001b[0m\u001b[0;34m\u001b[0m\u001b[0m\n\u001b[0m",
      "\u001b[0;32m<ipython-input-80-bea55d7d88aa>\u001b[0m in \u001b[0;36mTop10CategoryWords\u001b[0;34m(df, column)\u001b[0m\n\u001b[1;32m      8\u001b[0m             \u001b[0;32mfor\u001b[0m \u001b[0mword\u001b[0m \u001b[0;32min\u001b[0m \u001b[0mblog\u001b[0m\u001b[0;34m:\u001b[0m\u001b[0;34m\u001b[0m\u001b[0;34m\u001b[0m\u001b[0m\n\u001b[1;32m      9\u001b[0m                 \u001b[0mcnt\u001b[0m\u001b[0;34m[\u001b[0m\u001b[0mword\u001b[0m\u001b[0;34m]\u001b[0m \u001b[0;34m+=\u001b[0m \u001b[0;36m1\u001b[0m\u001b[0;34m\u001b[0m\u001b[0;34m\u001b[0m\u001b[0m\n\u001b[0;32m---> 10\u001b[0;31m         \u001b[0mcnt\u001b[0m\u001b[0;34m.\u001b[0m\u001b[0mmost_common\u001b[0m\u001b[0;34m(\u001b[0m\u001b[0;36m10\u001b[0m\u001b[0;34m)\u001b[0m\u001b[0;34m.\u001b[0m\u001b[0mplot\u001b[0m\u001b[0;34m(\u001b[0m\u001b[0mkind\u001b[0m\u001b[0;34m=\u001b[0m\u001b[0;34m'bar'\u001b[0m\u001b[0;34m,\u001b[0m \u001b[0mx\u001b[0m\u001b[0;34m=\u001b[0m\u001b[0;34m'10 most frequent words'\u001b[0m\u001b[0;34m,\u001b[0m \u001b[0my\u001b[0m\u001b[0;34m=\u001b[0m\u001b[0mcategory\u001b[0m\u001b[0;34m,\u001b[0m \u001b[0max\u001b[0m\u001b[0;34m=\u001b[0m\u001b[0maxes\u001b[0m\u001b[0;34m[\u001b[0m\u001b[0max_count\u001b[0m\u001b[0;34m]\u001b[0m\u001b[0;34m)\u001b[0m\u001b[0;34m\u001b[0m\u001b[0;34m\u001b[0m\u001b[0m\n\u001b[0m\u001b[1;32m     11\u001b[0m         \u001b[0max_count\u001b[0m \u001b[0;34m+=\u001b[0m \u001b[0;36m1\u001b[0m\u001b[0;34m\u001b[0m\u001b[0;34m\u001b[0m\u001b[0m\n",
      "\u001b[0;31mAttributeError\u001b[0m: 'list' object has no attribute 'plot'"
     ]
    },
    {
     "data": {
      "image/png": "[encoded data removed]",
      "text/plain": [
       "<Figure size 432x288 with 40 Axes>"
      ]
     },
     "metadata": {
      "needs_background": "light"
     },
     "output_type": "display_data"
    }
   ],
   "source": [
    "Top10CategoryWords(blogdata, 'industry')"
   ]
  },
  {
   "cell_type": "markdown",
   "metadata": {},
   "source": [
    "## Data analysis: Topic clustering\n",
    "I would like to look at what topics are discussed in different blogs, and whether those topics vary according to demographic group. I imagine the topics will be have clear differences when grouped by blogger industry, though even within industry blogs may vary widely - just because two people both work in \"Banking\" does not mean they both blog about banking.\n",
    "\n",
    "I did not originally intend to look at blog topics, but I have been reading a lot about topic modelling and it is really interesting to me. I wanted to give it a try using this data.\n",
    "### Methods\n",
    "I have absolutely no interest in going through all or even a portion of the 681,000 blogs in this dataset and hand-labelling them for topics. So, supervised learning is not going to work here. I am going to try my hand at unsupervised learning. Specifically, I am going to try **Latent Dirichlet allocation (LDA)** using scikit-learn. LDA performs topic detection on large, unlabelled document sets. In order to use LDA, I need to convert the texts to vectors. \n",
    "\n",
    "I learned this model from the DataCamp project [\"The Hottest Topics in Machine Learning\"](https://projects.datacamp.com/projects/158). I edited the code in that tutorial to fit my own data.\n",
    "### Preprocessing the data\n",
    "First, I'm going to remove punctuation and lowercase all blog texts. Then, I will convert the blog texts into vectors."
   ]
  },
  {
   "cell_type": "code",
   "execution_count": 6,
   "metadata": {},
   "outputs": [
    {
     "name": "stdout",
     "output_type": "stream",
     "text": [
      "0               Info has been found (+/- 100 pages,...\n",
      "1               These are the team members:   Drewe...\n",
      "2               In het kader van kernfusie op aarde...\n",
      "3                     testing!!!  testing!!!          \n",
      "4                 Thanks to Yahoo!'s Toolbar I can ...\n",
      "Name: text, dtype: object\n"
     ]
    }
   ],
   "source": [
    "print(blogdata['text'].head())"
   ]
  },
  {
   "cell_type": "code",
   "execution_count": 7,
   "metadata": {},
   "outputs": [
    {
     "name": "stdout",
     "output_type": "stream",
     "text": [
      "!\"#$%&'()*+,-./:;<=>?@[\\]^_`{|}~\n"
     ]
    }
   ],
   "source": [
    "from string import punctuation\n",
    "print(punctuation)"
   ]
  },
  {
   "cell_type": "code",
   "execution_count": 8,
   "metadata": {},
   "outputs": [
    {
     "name": "stdout",
     "output_type": "stream",
     "text": [
      "0    info has been found 100 pages and 45 mb of pdf...\n",
      "1    these are the team members drewes van der laag...\n",
      "2    in het kader van kernfusie op aarde maak je ei...\n",
      "3                                      testing testing\n",
      "4    thanks to yahoos toolbar i can now capture the...\n",
      "Name: text_processed, dtype: object\n"
     ]
    }
   ],
   "source": [
    "# Remove punctuation\n",
    "blogdata['text_processed'] = blogdata['text'].map(lambda x: re.sub('[!\"#$%&\\'()*+,-./:;<=>?@[\\]^_`{|}~]', '', x))\n",
    "\n",
    "# Lowercase\n",
    "blogdata['text_processed'] = blogdata['text_processed'].map(lambda x: x.lower())\n",
    "\n",
    "# Remove extra white space. Not sure if it messes with the vectorization process in any way but just to be sure\n",
    "blogdata['text_processed'] = blogdata['text_processed'].map(lambda x: ' '.join(x.split()))\n",
    "\n",
    "print(blogdata['text_processed'].head())"
   ]
  },
  {
   "cell_type": "code",
   "execution_count": 13,
   "metadata": {},
   "outputs": [],
   "source": [
    "# I originally did this with CountVectorizer but it didn't load, leaving this code in just in case\n",
    "\n",
    "# from sklearn.feature_extraction.text import CountVectorizer\n",
    "# Create count vectorizer with English stop words\n",
    "# count_vectorizer = CountVectorizer(max_features=500, stop_words = \"english\")\n",
    "# blog_vec = count_vectorizer.fit_transform(blogdata['text_processed'])"
   ]
  },
  {
   "cell_type": "code",
   "execution_count": 9,
   "metadata": {},
   "outputs": [],
   "source": [
    "from sklearn.feature_extraction.text import TfidfVectorizer\n",
    "tfidf_vectorizer = TfidfVectorizer(max_df=0.5, min_df=2, max_features = 1500, stop_words='english') "
   ]
  },
  {
   "cell_type": "code",
   "execution_count": 10,
   "metadata": {},
   "outputs": [],
   "source": [
    "blog_tfidf = tfidf_vectorizer.fit_transform(blogdata['text_processed'])"
   ]
  },
  {
   "cell_type": "code",
   "execution_count": 11,
   "metadata": {},
   "outputs": [
    {
     "name": "stdout",
     "output_type": "stream",
     "text": [
      "Topics found via LDA:\n"
     ]
    },
    {
     "ename": "NameError",
     "evalue": "name 'count_vectorizer' is not defined",
     "output_type": "error",
     "traceback": [
      "\u001b[0;31m---------------------------------------------------------------------------\u001b[0m",
      "\u001b[0;31mNameError\u001b[0m                                 Traceback (most recent call last)",
      "\u001b[0;32m<ipython-input-11-8779fce35935>\u001b[0m in \u001b[0;36m<module>\u001b[0;34m\u001b[0m\n\u001b[1;32m     16\u001b[0m \u001b[0;34m\u001b[0m\u001b[0m\n\u001b[1;32m     17\u001b[0m \u001b[0mprint\u001b[0m\u001b[0;34m(\u001b[0m\u001b[0;34m\"Topics found via LDA:\"\u001b[0m\u001b[0;34m)\u001b[0m\u001b[0;34m\u001b[0m\u001b[0;34m\u001b[0m\u001b[0m\n\u001b[0;32m---> 18\u001b[0;31m \u001b[0mprint_topics\u001b[0m\u001b[0;34m(\u001b[0m\u001b[0mlda\u001b[0m\u001b[0;34m,\u001b[0m \u001b[0mcount_vectorizer\u001b[0m\u001b[0;34m,\u001b[0m \u001b[0mnumber_words\u001b[0m\u001b[0;34m)\u001b[0m\u001b[0;34m\u001b[0m\u001b[0;34m\u001b[0m\u001b[0m\n\u001b[0m",
      "\u001b[0;31mNameError\u001b[0m: name 'count_vectorizer' is not defined"
     ]
    }
   ],
   "source": [
    "from sklearn.decomposition import LatentDirichletAllocation as LDA\n",
    "\n",
    "def print_topics(model, tfidf_vectorizer, n_top_words):\n",
    "    words = tfidf_vectorizer.get_feature_names()\n",
    "    for topic_idx, topic in enumerate(model.components_):\n",
    "        print(\"\\nTopic #%d:\" % topic_idx)\n",
    "        print(\" \".join([words[i]\n",
    "                        for i in topic.argsort()[:-n_top_words - 1:-1]]))\n",
    "\n",
    "# Picking number of topics and number of words\n",
    "number_topics = 50\n",
    "number_words = 5\n",
    "\n",
    "lda = LDA(n_components=number_topics)\n",
    "lda.fit(blog_tfidf)"
   ]
  },
  {
   "cell_type": "code",
   "execution_count": 12,
   "metadata": {
    "scrolled": true
   },
   "outputs": [
    {
     "name": "stdout",
     "output_type": "stream",
     "text": [
      "Topics found via LDA:\n",
      "\n",
      "Topic #0:\n",
      "na la ko sa da\n",
      "\n",
      "Topic #1:\n",
      "snow exam weather ben cold\n",
      "\n",
      "Topic #2:\n",
      "youre dont like im just\n",
      "\n",
      "Topic #3:\n",
      "urllink google search information art\n",
      "\n",
      "Topic #4:\n",
      "dont im just know want\n",
      "\n",
      "Topic #5:\n",
      "love life know heart just\n",
      "\n",
      "Topic #6:\n",
      "school class im teacher just\n",
      "\n",
      "Topic #7:\n",
      "book read books reading im\n",
      "\n",
      "Topic #8:\n",
      "pm break spring im ah\n",
      "\n",
      "Topic #9:\n",
      "site urllink page web website\n",
      "\n",
      "Topic #10:\n",
      "wedding beach im apartment lake\n",
      "\n",
      "Topic #11:\n",
      "baby women dave child woman\n",
      "\n",
      "Topic #12:\n",
      "god jesus lord life christ\n",
      "\n",
      "Topic #13:\n",
      "birthday happy party day im\n",
      "\n",
      "Topic #14:\n",
      "dun den juz wat tt\n",
      "\n",
      "Topic #15:\n",
      "movie movies film watch urllink\n",
      "\n",
      "Topic #16:\n",
      "test don questions ve question\n",
      "\n",
      "Topic #17:\n",
      "car road bike just driving\n",
      "\n",
      "Topic #18:\n",
      "hair black color red like\n",
      "\n",
      "Topic #19:\n",
      "hello dance kiss fly say\n",
      "\n",
      "Topic #20:\n",
      "im boring nick going really\n",
      "\n",
      "Topic #21:\n",
      "dad mom im paul just\n",
      "\n",
      "Topic #22:\n",
      "bush urllink kerry war president\n",
      "\n",
      "Topic #23:\n",
      "dog photos dogs concert tickets\n",
      "\n",
      "Topic #24:\n",
      "lol im like ur gonna\n",
      "\n",
      "Topic #25:\n",
      "bye welcome jumper991 im vacation\n",
      "\n",
      "Topic #26:\n",
      "nbsp urllink pictures photo picture\n",
      "\n",
      "Topic #27:\n",
      "fucking fuck shit im like\n",
      "\n",
      "Topic #28:\n",
      "game team games win play\n",
      "\n",
      "Topic #29:\n",
      "email hate im just dont\n",
      "\n",
      "Topic #30:\n",
      "eyes like just sun sky\n",
      "\n",
      "Topic #31:\n",
      "went got home like fun\n",
      "\n",
      "Topic #32:\n",
      "said just like got went\n",
      "\n",
      "Topic #33:\n",
      "blog post blogger im comments\n",
      "\n",
      "Topic #34:\n",
      "weekend night saturday friday went\n",
      "\n",
      "Topic #35:\n",
      "music song band songs urllink\n",
      "\n",
      "Topic #36:\n",
      "yay im homework today math\n",
      "\n",
      "Topic #37:\n",
      "im lunch eat today day\n",
      "\n",
      "Topic #38:\n",
      "ha haha hi im oh\n",
      "\n",
      "Topic #39:\n",
      "cheese 12 chocolate cream like\n",
      "\n",
      "Topic #40:\n",
      "urllink people government states world\n",
      "\n",
      "Topic #41:\n",
      "christmas phone hotel cell im\n",
      "\n",
      "Topic #42:\n",
      "pants suck ball im clothes\n",
      "\n",
      "Topic #43:\n",
      "urllink 2004 2003 july june\n",
      "\n",
      "Topic #44:\n",
      "urllink brought link click check\n",
      "\n",
      "Topic #45:\n",
      "job im doctor hospital work\n",
      "\n",
      "Topic #46:\n",
      "im listening mood beer just\n",
      "\n",
      "Topic #47:\n",
      "sleep im bed tired night\n",
      "\n",
      "Topic #48:\n",
      "account card money internet computer\n",
      "\n",
      "Topic #49:\n",
      "church group youth christian anybody\n"
     ]
    }
   ],
   "source": [
    "print(\"Topics found via LDA:\")\n",
    "print_topics(lda, tfidf_vectorizer, number_words)"
   ]
  },
  {
   "cell_type": "markdown",
   "metadata": {},
   "source": [
    "Some topics and my thoughts:\n",
    "\n",
    "+ **Topic #11: baby women dave child woman**\n",
    "  + What. What is this.\n",
    "+ **Topic #12: god jesus lord life christ**\n",
    "  + Found the Christian bloggers.\n",
    "+ **Topic #14: dun den juz wat tt**\n",
    "  + I *think* this might actually be early 2000s textspeak, and I am super excited the model clustered these together.\n",
    "+ **Topic #17: car road bike just driving**\n",
    "  + ... transportation bloggers?\n",
    "+ **Topic #20: im boring nick going really** & also **Topic #21: dad mom im paul just**\n",
    "  + Here's what confuses me: Some of these have NAMES in them. How is that possible? How can the model cluster 682k blogs and have top words include people's names? Maybe I should find some way to exclude names from the data, because they might be clustering blogs that otherwise have nothing to do with each other.\n",
    "+ **Topic #22: bush urllink kerry war president**\n",
    "  + Found the political bloggers.\n",
    "+ **Topic #23: dog photos dogs concert tickets**\n",
    "  + These bloggers live a simple life: they love dogs and concerts. I respect that.\n",
    "+ **Topic #24: lol im like ur gonna**\n",
    "  + More! teen! bloggers! (I think.)\n",
    "+ **Topic #27: fucking fuck shit im like**\n",
    "  + People who curse a lot!\n",
    "+ **Topic #30: eyes like just sun sky**\n",
    "  + Poets?\n",
    "+ **Topic #38: ha haha hi im oh**\n",
    "  + More teens? Adults who use haha too much? \n",
    "+ **Topic #39: cheese 12 chocolate cream like**\n",
    "  + Found the food bloggers.\n",
    "+ **Topic #47: sleep im bed tired night**\n",
    "  + Me currently. Also probably me in 2004.\n",
    "  \n",
    "#### Things I should change\n",
    "\n",
    "I'm going to hold on off on changing the model / preprocessed text, since that took around 35 minutes to load and made my computer approximately twice as hot as the sun. But when I re-do this, I will: remove urllink, since it is not useful; use a better tokenizer, there are way too many tokens of \"im\"; figure out if I can remove non-English text without completely removing multilingual blogs. One cluster seems to be entirely non-English blogs: **Topic #0:\n",
    "na la ko sa da***."
   ]
  },
  {
   "cell_type": "code",
   "execution_count": null,
   "metadata": {},
   "outputs": [],
   "source": []
  }
 ],
 "metadata": {
  "kernelspec": {
   "display_name": "Python 3",
   "language": "python",
   "name": "python3"
  },
  "language_info": {
   "codemirror_mode": {
    "name": "ipython",
    "version": 3
   },
   "file_extension": ".py",
   "mimetype": "text/x-python",
   "name": "python",
   "nbconvert_exporter": "python",
   "pygments_lexer": "ipython3",
   "version": "3.7.1"
  }
 },
 "nbformat": 4,
 "nbformat_minor": 2
}
