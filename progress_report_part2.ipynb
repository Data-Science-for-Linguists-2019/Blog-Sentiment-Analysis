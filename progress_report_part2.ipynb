{
 "cells": [
  {
   "cell_type": "markdown",
   "metadata": {},
   "source": [
    "# Progress Report: [Blog-Sentiment Analysis](https://github.com/Data-Science-for-Linguists-2019/Blog-Sentiment-Analysis)\n",
    "## Table of Contents\n"
   ]
  },
  {
   "cell_type": "code",
   "execution_count": 1,
   "metadata": {},
   "outputs": [],
   "source": [
    "# Import required packages\n",
    "import pandas as pd\n",
    "import numpy as np\n",
    "import matplotlib.pyplot as plt\n",
    "import seaborn as sns\n",
    "import nltk\n",
    "import re"
   ]
  },
  {
   "cell_type": "code",
   "execution_count": 2,
   "metadata": {},
   "outputs": [],
   "source": [
    "dir = '/users/eva/Documents/Data_Science/Blog-Sentiment-Analysis/'"
   ]
  },
  {
   "cell_type": "code",
   "execution_count": 3,
   "metadata": {},
   "outputs": [],
   "source": [
    "blogdata = pd.read_csv(dir + 'data/blogtext.csv')"
   ]
  },
  {
   "cell_type": "code",
   "execution_count": 4,
   "metadata": {},
   "outputs": [
    {
     "data": {
      "text/plain": [
       "Index(['id', 'gender', 'age', 'topic', 'sign', 'date', 'text'], dtype='object')"
      ]
     },
     "execution_count": 4,
     "metadata": {},
     "output_type": "execute_result"
    }
   ],
   "source": [
    "blogdata.columns"
   ]
  },
  {
   "cell_type": "code",
   "execution_count": 5,
   "metadata": {},
   "outputs": [
    {
     "data": {
      "text/html": [
       "<div>\n",
       "<style scoped>\n",
       "    .dataframe tbody tr th:only-of-type {\n",
       "        vertical-align: middle;\n",
       "    }\n",
       "\n",
       "    .dataframe tbody tr th {\n",
       "        vertical-align: top;\n",
       "    }\n",
       "\n",
       "    .dataframe thead th {\n",
       "        text-align: right;\n",
       "    }\n",
       "</style>\n",
       "<table border=\"1\" class=\"dataframe\">\n",
       "  <thead>\n",
       "    <tr style=\"text-align: right;\">\n",
       "      <th></th>\n",
       "      <th>id</th>\n",
       "      <th>gender</th>\n",
       "      <th>age</th>\n",
       "      <th>industry</th>\n",
       "      <th>sign</th>\n",
       "      <th>date</th>\n",
       "      <th>text</th>\n",
       "    </tr>\n",
       "  </thead>\n",
       "  <tbody>\n",
       "    <tr>\n",
       "      <th>0</th>\n",
       "      <td>2059027</td>\n",
       "      <td>male</td>\n",
       "      <td>15</td>\n",
       "      <td>Student</td>\n",
       "      <td>Leo</td>\n",
       "      <td>14,May,2004</td>\n",
       "      <td>Info has been found (+/- 100 pages,...</td>\n",
       "    </tr>\n",
       "    <tr>\n",
       "      <th>1</th>\n",
       "      <td>2059027</td>\n",
       "      <td>male</td>\n",
       "      <td>15</td>\n",
       "      <td>Student</td>\n",
       "      <td>Leo</td>\n",
       "      <td>13,May,2004</td>\n",
       "      <td>These are the team members:   Drewe...</td>\n",
       "    </tr>\n",
       "    <tr>\n",
       "      <th>2</th>\n",
       "      <td>2059027</td>\n",
       "      <td>male</td>\n",
       "      <td>15</td>\n",
       "      <td>Student</td>\n",
       "      <td>Leo</td>\n",
       "      <td>12,May,2004</td>\n",
       "      <td>In het kader van kernfusie op aarde...</td>\n",
       "    </tr>\n",
       "  </tbody>\n",
       "</table>\n",
       "</div>"
      ],
      "text/plain": [
       "        id gender  age industry sign         date  \\\n",
       "0  2059027   male   15  Student  Leo  14,May,2004   \n",
       "1  2059027   male   15  Student  Leo  13,May,2004   \n",
       "2  2059027   male   15  Student  Leo  12,May,2004   \n",
       "\n",
       "                                                text  \n",
       "0             Info has been found (+/- 100 pages,...  \n",
       "1             These are the team members:   Drewe...  \n",
       "2             In het kader van kernfusie op aarde...  "
      ]
     },
     "execution_count": 5,
     "metadata": {},
     "output_type": "execute_result"
    }
   ],
   "source": [
    "newcolumns = ['id', 'gender', 'age', 'industry', 'sign', 'date', 'text']\n",
    "blogdata.columns = newcolumns\n",
    "blogdata.head(3)"
   ]
  },
  {
   "cell_type": "markdown",
   "metadata": {},
   "source": [
    "## Overview"
   ]
  },
  {
   "cell_type": "code",
   "execution_count": 8,
   "metadata": {},
   "outputs": [],
   "source": [
    "blogdata_per_blogger = blogdata.groupby('id')"
   ]
  },
  {
   "cell_type": "code",
   "execution_count": 10,
   "metadata": {},
   "outputs": [
    {
     "data": {
      "text/plain": [
       "id       gender\n",
       "5114     male       197\n",
       "7596     male        14\n",
       "8173     male      1007\n",
       "8349     male        70\n",
       "9289     male        89\n",
       "9470     male       360\n",
       "11253    male         7\n",
       "11762    female      20\n",
       "15365    female     844\n",
       "17944    female     128\n",
       "21828    male        69\n",
       "23166    female       1\n",
       "23191    female       5\n",
       "23676    male        12\n",
       "24336    male       849\n",
       "26357    male        41\n",
       "27603    male        52\n",
       "28417    female      73\n",
       "28451    male        13\n",
       "40964    female       5\n",
       "46465    male        19\n",
       "47519    male       179\n",
       "48428    female       5\n",
       "48923    female     128\n",
       "49663    male      1252\n",
       "61176    male         3\n",
       "63420    male        26\n",
       "64145    male       204\n",
       "66895    female      18\n",
       "67459    male        27\n",
       "                   ... \n",
       "4330772  female       3\n",
       "4331205  male         1\n",
       "4331261  male         4\n",
       "4331320  male         6\n",
       "4331590  female       1\n",
       "4331863  male         2\n",
       "4332271  male         1\n",
       "4332352  male         3\n",
       "4332599  female       1\n",
       "4333053  female       1\n",
       "4333070  male         1\n",
       "4333477  male         2\n",
       "4333502  female       1\n",
       "4333708  female       2\n",
       "4333855  male         2\n",
       "4334270  female       1\n",
       "4334761  female      56\n",
       "4334776  male         4\n",
       "4334802  female       2\n",
       "4334925  female       1\n",
       "4334954  female       1\n",
       "4335239  female       2\n",
       "4335412  female       2\n",
       "4335684  male         2\n",
       "4336267  male         6\n",
       "4336547  male         1\n",
       "4336651  female       1\n",
       "4336871  male         1\n",
       "4337133  female       2\n",
       "4337650  male         1\n",
       "Name: gender, Length: 19320, dtype: int64"
      ]
     },
     "execution_count": 10,
     "metadata": {},
     "output_type": "execute_result"
    }
   ],
   "source": [
    "blogdata_per_blogger['gender'].value_counts()"
   ]
  },
  {
   "cell_type": "code",
   "execution_count": 13,
   "metadata": {},
   "outputs": [
    {
     "data": {
      "text/plain": [
       "681284"
      ]
     },
     "execution_count": 13,
     "metadata": {},
     "output_type": "execute_result"
    }
   ],
   "source": [
    "len(blogdata)"
   ]
  },
  {
   "cell_type": "code",
   "execution_count": 15,
   "metadata": {},
   "outputs": [
    {
     "data": {
      "text/plain": [
       "19320"
      ]
     },
     "execution_count": 15,
     "metadata": {},
     "output_type": "execute_result"
    }
   ],
   "source": [
    "len(blogdata.id.value_counts())"
   ]
  },
  {
   "cell_type": "code",
   "execution_count": 11,
   "metadata": {},
   "outputs": [],
   "source": [
    "per_blogger = blogdata.drop_duplicates(\"id\")"
   ]
  },
  {
   "cell_type": "code",
   "execution_count": 12,
   "metadata": {},
   "outputs": [
    {
     "data": {
      "text/plain": [
       "19320"
      ]
     },
     "execution_count": 12,
     "metadata": {},
     "output_type": "execute_result"
    }
   ],
   "source": [
    "len(per_blogger)"
   ]
  },
  {
   "cell_type": "code",
   "execution_count": 107,
   "metadata": {},
   "outputs": [
    {
     "data": {
      "text/plain": [
       "<matplotlib.axes._subplots.AxesSubplot at 0x1a52c01898>"
      ]
     },
     "execution_count": 107,
     "metadata": {},
     "output_type": "execute_result"
    },
    {
     "data": {
      "image/png": "[encoded data removed]",
      "text/plain": [
       "<Figure size 512x352 with 1 Axes>"
      ]
     },
     "metadata": {},
     "output_type": "display_data"
    }
   ],
   "source": [
    "per_blogger.gender.value_counts().plot(kind=\"pie\")"
   ]
  },
  {
   "cell_type": "code",
   "execution_count": 25,
   "metadata": {},
   "outputs": [
    {
     "data": {
      "text/plain": [
       "male      0.5\n",
       "female    0.5\n",
       "Name: gender, dtype: float64"
      ]
     },
     "execution_count": 25,
     "metadata": {},
     "output_type": "execute_result"
    }
   ],
   "source": [
    "per_blogger.gender.value_counts(normalize=True)"
   ]
  },
  {
   "cell_type": "code",
   "execution_count": 108,
   "metadata": {},
   "outputs": [
    {
     "data": {
      "text/plain": [
       "<matplotlib.axes._subplots.AxesSubplot at 0x1a52c67dd8>"
      ]
     },
     "execution_count": 108,
     "metadata": {},
     "output_type": "execute_result"
    },
    {
     "data": {
      "image/png": "[encoded data removed]",
      "text/plain": [
       "<Figure size 512x352 with 1 Axes>"
      ]
     },
     "metadata": {},
     "output_type": "display_data"
    }
   ],
   "source": [
    "per_blogger.age.value_counts().plot(kind='bar',title='Ages of bloggers')"
   ]
  },
  {
   "cell_type": "code",
   "execution_count": 24,
   "metadata": {},
   "outputs": [
    {
     "data": {
      "text/plain": [
       "count    19320.000000\n",
       "mean        22.833799\n",
       "std          7.975490\n",
       "min         13.000000\n",
       "25%         16.000000\n",
       "50%         23.000000\n",
       "75%         26.000000\n",
       "max         48.000000\n",
       "Name: age, dtype: float64"
      ]
     },
     "execution_count": 24,
     "metadata": {},
     "output_type": "execute_result"
    }
   ],
   "source": [
    "per_blogger.age.describe()"
   ]
  },
  {
   "cell_type": "code",
   "execution_count": 60,
   "metadata": {},
   "outputs": [
    {
     "data": {
      "text/plain": [
       "<seaborn.axisgrid.FacetGrid at 0x1a4b51e128>"
      ]
     },
     "execution_count": 60,
     "metadata": {},
     "output_type": "execute_result"
    },
    {
     "data": {
      "image/png": "[encoded data removed]",
      "text/plain": [
       "<Figure size 216x432 with 2 Axes>"
      ]
     },
     "metadata": {
      "needs_background": "light"
     },
     "output_type": "display_data"
    }
   ],
   "source": [
    "g = sns.FacetGrid(per_blogger, row=\"gender\", margin_titles=True)\n",
    "bins = np.linspace(0, 50, 20)\n",
    "g.map(plt.hist, \"age\", color=\"steelblue\", bins=bins)"
   ]
  },
  {
   "cell_type": "code",
   "execution_count": 106,
   "metadata": {},
   "outputs": [
    {
     "data": {
      "image/png": "[encoded data removed]",
      "text/plain": [
       "<Figure size 1200x400 with 1 Axes>"
      ]
     },
     "metadata": {},
     "output_type": "display_data"
    }
   ],
   "source": [
    "plt.style.use('seaborn-white')\n",
    "industry_by_gender = per_blogger.groupby('industry').gender.value_counts(normalize=True)\n",
    "industry_by_gender.unstack(level=1).plot.bar(figsize=(15,5), stacked=True, title=\"Blogger gender by industry\")\n",
    "plt.legend(loc='center left', bbox_to_anchor=(1, 0.5))\n",
    "plt.show()"
   ]
  },
  {
   "cell_type": "code",
   "execution_count": 1,
   "metadata": {},
   "outputs": [
    {
     "ename": "NameError",
     "evalue": "name 'per_blogger' is not defined",
     "output_type": "error",
     "traceback": [
      "\u001b[0;31m---------------------------------------------------------------------------\u001b[0m",
      "\u001b[0;31mNameError\u001b[0m                                 Traceback (most recent call last)",
      "\u001b[0;32m<ipython-input-1-c016b3648d5a>\u001b[0m in \u001b[0;36m<module>\u001b[0;34m\u001b[0m\n\u001b[0;32m----> 1\u001b[0;31m \u001b[0mage_by_gender\u001b[0m \u001b[0;34m=\u001b[0m \u001b[0mper_blogger\u001b[0m\u001b[0;34m.\u001b[0m\u001b[0mgroupby\u001b[0m\u001b[0;34m(\u001b[0m\u001b[0;34m'age'\u001b[0m\u001b[0;34m)\u001b[0m\u001b[0;34m.\u001b[0m\u001b[0mgender\u001b[0m\u001b[0;34m.\u001b[0m\u001b[0mvalue_counts\u001b[0m\u001b[0;34m(\u001b[0m\u001b[0mnormalize\u001b[0m\u001b[0;34m=\u001b[0m\u001b[0;32mTrue\u001b[0m\u001b[0;34m)\u001b[0m\u001b[0;34m\u001b[0m\u001b[0;34m\u001b[0m\u001b[0m\n\u001b[0m\u001b[1;32m      2\u001b[0m \u001b[0mage_by_gender\u001b[0m\u001b[0;34m.\u001b[0m\u001b[0munstack\u001b[0m\u001b[0;34m(\u001b[0m\u001b[0mlevel\u001b[0m\u001b[0;34m=\u001b[0m\u001b[0;36m1\u001b[0m\u001b[0;34m)\u001b[0m\u001b[0;34m.\u001b[0m\u001b[0mplot\u001b[0m\u001b[0;34m.\u001b[0m\u001b[0mbar\u001b[0m\u001b[0;34m(\u001b[0m\u001b[0mfigsize\u001b[0m\u001b[0;34m=\u001b[0m\u001b[0;34m(\u001b[0m\u001b[0;36m15\u001b[0m\u001b[0;34m,\u001b[0m\u001b[0;36m5\u001b[0m\u001b[0;34m)\u001b[0m\u001b[0;34m,\u001b[0m \u001b[0mstacked\u001b[0m\u001b[0;34m=\u001b[0m\u001b[0;32mTrue\u001b[0m\u001b[0;34m,\u001b[0m \u001b[0mtitle\u001b[0m\u001b[0;34m=\u001b[0m\u001b[0;34m\"Blogger gender by age\"\u001b[0m\u001b[0;34m)\u001b[0m\u001b[0;34m\u001b[0m\u001b[0;34m\u001b[0m\u001b[0m\n\u001b[1;32m      3\u001b[0m \u001b[0mplt\u001b[0m\u001b[0;34m.\u001b[0m\u001b[0mlegend\u001b[0m\u001b[0;34m(\u001b[0m\u001b[0mloc\u001b[0m\u001b[0;34m=\u001b[0m\u001b[0;34m'center left'\u001b[0m\u001b[0;34m,\u001b[0m \u001b[0mbbox_to_anchor\u001b[0m\u001b[0;34m=\u001b[0m\u001b[0;34m(\u001b[0m\u001b[0;36m1\u001b[0m\u001b[0;34m,\u001b[0m \u001b[0;36m0.5\u001b[0m\u001b[0;34m)\u001b[0m\u001b[0;34m)\u001b[0m\u001b[0;34m\u001b[0m\u001b[0;34m\u001b[0m\u001b[0m\n\u001b[1;32m      4\u001b[0m \u001b[0mplt\u001b[0m\u001b[0;34m.\u001b[0m\u001b[0mshow\u001b[0m\u001b[0;34m(\u001b[0m\u001b[0;34m)\u001b[0m\u001b[0;34m\u001b[0m\u001b[0;34m\u001b[0m\u001b[0m\n",
      "\u001b[0;31mNameError\u001b[0m: name 'per_blogger' is not defined"
     ]
    }
   ],
   "source": [
    "age_by_gender = per_blogger.groupby('age').gender.value_counts(normalize=True)\n",
    "age_by_gender.unstack(level=1).plot.bar(figsize=(15,5), stacked=True, title=\"Blogger gender by age\")\n",
    "plt.legend(loc='center left', bbox_to_anchor=(1, 0.5))\n",
    "plt.show()"
   ]
  },
  {
   "cell_type": "code",
   "execution_count": 80,
   "metadata": {},
   "outputs": [
    {
     "name": "stdout",
     "output_type": "stream",
     "text": [
      "['seaborn-dark', 'seaborn-darkgrid', 'seaborn-ticks', 'fivethirtyeight', 'seaborn-whitegrid', 'classic', '_classic_test', 'fast', 'seaborn-talk', 'seaborn-dark-palette', 'seaborn-bright', 'seaborn-pastel', 'grayscale', 'seaborn-notebook', 'ggplot', 'seaborn-colorblind', 'seaborn-muted', 'seaborn', 'Solarize_Light2', 'seaborn-paper', 'bmh', 'tableau-colorblind10', 'seaborn-white', 'dark_background', 'seaborn-poster', 'seaborn-deep']\n"
     ]
    }
   ],
   "source": [
    "print(plt.style.available)"
   ]
  },
  {
   "cell_type": "markdown",
   "metadata": {},
   "source": [
    "# Data analysis\n",
    "### Goals of my analysis\n",
    "There are three things I would like to investigate in this data. \n",
    "1. Word frequencies\n",
    "2. Blog topics\n",
    "3. Blog sentiment\n",
    "\n",
    "In this section, I will begin investigating all three, and hopefully get an idea of analyses to further explore.\n",
    "## Data analysis: Word frequencies\n",
    "### Methods"
   ]
  },
  {
   "cell_type": "markdown",
   "metadata": {},
   "source": [
    "## Data analysis: Topic clustering\n",
    "I would like to look at what topics are discussed in different blogs, and whether those topics vary according to demographic group. I imagine the topics will be have clear differences when grouped by blogger industry, though even within industry blogs may vary widely - just because two people both work in \"Banking\" does not mean they both blog about banking.\n",
    "\n",
    "I did not originally intend to look at blog topics, but I have been reading a lot about topic modelling and it is really interesting to me. I wanted to give it a try using this data.\n",
    "### Methods\n",
    "I have absolutely no interest in going through all or even a portion of the 681,000 blogs in this dataset and hand-labelling them for topics. So, supervised learning is not going to work here. I am going to try my hand at unsupervised learning. Specifically, I am going to try **Latent Dirichlet allocation (LDA)** using scikit-learn. LDA performs topic detection on large, unlabelled document sets. In order to use LDA, I need to convert the texts to vectors. \n",
    "\n",
    "I learned this model from the DataCamp project [\"The Hottest Topics in Machine Learning\"](https://projects.datacamp.com/projects/158). I edited the code in that tutorial to fit my own data.\n",
    "### Preprocessing the data\n",
    "First, I'm going to remove punctuation and lowercase all blog texts. Then, I will convert the blog texts into vectors."
   ]
  },
  {
   "cell_type": "code",
   "execution_count": 6,
   "metadata": {},
   "outputs": [
    {
     "name": "stdout",
     "output_type": "stream",
     "text": [
      "0               Info has been found (+/- 100 pages,...\n",
      "1               These are the team members:   Drewe...\n",
      "2               In het kader van kernfusie op aarde...\n",
      "3                     testing!!!  testing!!!          \n",
      "4                 Thanks to Yahoo!'s Toolbar I can ...\n",
      "Name: text, dtype: object\n"
     ]
    }
   ],
   "source": [
    "print(blogdata['text'].head())"
   ]
  },
  {
   "cell_type": "code",
   "execution_count": 7,
   "metadata": {},
   "outputs": [
    {
     "name": "stdout",
     "output_type": "stream",
     "text": [
      "!\"#$%&'()*+,-./:;<=>?@[\\]^_`{|}~\n"
     ]
    }
   ],
   "source": [
    "from string import punctuation\n",
    "print(punctuation)"
   ]
  },
  {
   "cell_type": "code",
   "execution_count": 8,
   "metadata": {},
   "outputs": [
    {
     "name": "stdout",
     "output_type": "stream",
     "text": [
      "0    info has been found 100 pages and 45 mb of pdf...\n",
      "1    these are the team members drewes van der laag...\n",
      "2    in het kader van kernfusie op aarde maak je ei...\n",
      "3                                      testing testing\n",
      "4    thanks to yahoos toolbar i can now capture the...\n",
      "Name: text_processed, dtype: object\n"
     ]
    }
   ],
   "source": [
    "# Remove punctuation\n",
    "blogdata['text_processed'] = blogdata['text'].map(lambda x: re.sub('[!\"#$%&\\'()*+,-./:;<=>?@[\\]^_`{|}~]', '', x))\n",
    "\n",
    "# Lowercase\n",
    "blogdata['text_processed'] = blogdata['text_processed'].map(lambda x: x.lower())\n",
    "\n",
    "# Remove extra white space. Not sure if it messes with the vectorization process in any way but just to be sure\n",
    "blogdata['text_processed'] = blogdata['text_processed'].map(lambda x: ' '.join(x.split()))\n",
    "\n",
    "print(blogdata['text_processed'].head())"
   ]
  },
  {
   "cell_type": "code",
   "execution_count": 13,
   "metadata": {},
   "outputs": [],
   "source": [
    "# I originally did this with CountVectorizer but it didn't load, leaving this code in just in case\n",
    "\n",
    "# from sklearn.feature_extraction.text import CountVectorizer\n",
    "# Create count vectorizer with English stop words\n",
    "# count_vectorizer = CountVectorizer(max_features=500, stop_words = \"english\")\n",
    "# blog_vec = count_vectorizer.fit_transform(blogdata['text_processed'])"
   ]
  },
  {
   "cell_type": "code",
   "execution_count": 9,
   "metadata": {},
   "outputs": [],
   "source": [
    "from sklearn.feature_extraction.text import TfidfVectorizer\n",
    "tfidf_vectorizer = TfidfVectorizer(max_df=0.5, min_df=2, max_features = 1500, stop_words='english') "
   ]
  },
  {
   "cell_type": "code",
   "execution_count": 10,
   "metadata": {},
   "outputs": [],
   "source": [
    "blog_tfidf = tfidf_vectorizer.fit_transform(blogdata['text_processed'])"
   ]
  },
  {
   "cell_type": "code",
   "execution_count": 11,
   "metadata": {},
   "outputs": [
    {
     "name": "stdout",
     "output_type": "stream",
     "text": [
      "Topics found via LDA:\n"
     ]
    },
    {
     "ename": "NameError",
     "evalue": "name 'count_vectorizer' is not defined",
     "output_type": "error",
     "traceback": [
      "\u001b[0;31m---------------------------------------------------------------------------\u001b[0m",
      "\u001b[0;31mNameError\u001b[0m                                 Traceback (most recent call last)",
      "\u001b[0;32m<ipython-input-11-8779fce35935>\u001b[0m in \u001b[0;36m<module>\u001b[0;34m\u001b[0m\n\u001b[1;32m     16\u001b[0m \u001b[0;34m\u001b[0m\u001b[0m\n\u001b[1;32m     17\u001b[0m \u001b[0mprint\u001b[0m\u001b[0;34m(\u001b[0m\u001b[0;34m\"Topics found via LDA:\"\u001b[0m\u001b[0;34m)\u001b[0m\u001b[0;34m\u001b[0m\u001b[0;34m\u001b[0m\u001b[0m\n\u001b[0;32m---> 18\u001b[0;31m \u001b[0mprint_topics\u001b[0m\u001b[0;34m(\u001b[0m\u001b[0mlda\u001b[0m\u001b[0;34m,\u001b[0m \u001b[0mcount_vectorizer\u001b[0m\u001b[0;34m,\u001b[0m \u001b[0mnumber_words\u001b[0m\u001b[0;34m)\u001b[0m\u001b[0;34m\u001b[0m\u001b[0;34m\u001b[0m\u001b[0m\n\u001b[0m",
      "\u001b[0;31mNameError\u001b[0m: name 'count_vectorizer' is not defined"
     ]
    }
   ],
   "source": [
    "from sklearn.decomposition import LatentDirichletAllocation as LDA\n",
    "\n",
    "def print_topics(model, tfidf_vectorizer, n_top_words):\n",
    "    words = tfidf_vectorizer.get_feature_names()\n",
    "    for topic_idx, topic in enumerate(model.components_):\n",
    "        print(\"\\nTopic #%d:\" % topic_idx)\n",
    "        print(\" \".join([words[i]\n",
    "                        for i in topic.argsort()[:-n_top_words - 1:-1]]))\n",
    "\n",
    "# Picking number of topics and number of words\n",
    "number_topics = 50\n",
    "number_words = 5\n",
    "\n",
    "lda = LDA(n_components=number_topics)\n",
    "lda.fit(blog_tfidf)"
   ]
  },
  {
   "cell_type": "code",
   "execution_count": 12,
   "metadata": {
    "scrolled": true
   },
   "outputs": [
    {
     "name": "stdout",
     "output_type": "stream",
     "text": [
      "Topics found via LDA:\n",
      "\n",
      "Topic #0:\n",
      "na la ko sa da\n",
      "\n",
      "Topic #1:\n",
      "snow exam weather ben cold\n",
      "\n",
      "Topic #2:\n",
      "youre dont like im just\n",
      "\n",
      "Topic #3:\n",
      "urllink google search information art\n",
      "\n",
      "Topic #4:\n",
      "dont im just know want\n",
      "\n",
      "Topic #5:\n",
      "love life know heart just\n",
      "\n",
      "Topic #6:\n",
      "school class im teacher just\n",
      "\n",
      "Topic #7:\n",
      "book read books reading im\n",
      "\n",
      "Topic #8:\n",
      "pm break spring im ah\n",
      "\n",
      "Topic #9:\n",
      "site urllink page web website\n",
      "\n",
      "Topic #10:\n",
      "wedding beach im apartment lake\n",
      "\n",
      "Topic #11:\n",
      "baby women dave child woman\n",
      "\n",
      "Topic #12:\n",
      "god jesus lord life christ\n",
      "\n",
      "Topic #13:\n",
      "birthday happy party day im\n",
      "\n",
      "Topic #14:\n",
      "dun den juz wat tt\n",
      "\n",
      "Topic #15:\n",
      "movie movies film watch urllink\n",
      "\n",
      "Topic #16:\n",
      "test don questions ve question\n",
      "\n",
      "Topic #17:\n",
      "car road bike just driving\n",
      "\n",
      "Topic #18:\n",
      "hair black color red like\n",
      "\n",
      "Topic #19:\n",
      "hello dance kiss fly say\n",
      "\n",
      "Topic #20:\n",
      "im boring nick going really\n",
      "\n",
      "Topic #21:\n",
      "dad mom im paul just\n",
      "\n",
      "Topic #22:\n",
      "bush urllink kerry war president\n",
      "\n",
      "Topic #23:\n",
      "dog photos dogs concert tickets\n",
      "\n",
      "Topic #24:\n",
      "lol im like ur gonna\n",
      "\n",
      "Topic #25:\n",
      "bye welcome jumper991 im vacation\n",
      "\n",
      "Topic #26:\n",
      "nbsp urllink pictures photo picture\n",
      "\n",
      "Topic #27:\n",
      "fucking fuck shit im like\n",
      "\n",
      "Topic #28:\n",
      "game team games win play\n",
      "\n",
      "Topic #29:\n",
      "email hate im just dont\n",
      "\n",
      "Topic #30:\n",
      "eyes like just sun sky\n",
      "\n",
      "Topic #31:\n",
      "went got home like fun\n",
      "\n",
      "Topic #32:\n",
      "said just like got went\n",
      "\n",
      "Topic #33:\n",
      "blog post blogger im comments\n",
      "\n",
      "Topic #34:\n",
      "weekend night saturday friday went\n",
      "\n",
      "Topic #35:\n",
      "music song band songs urllink\n",
      "\n",
      "Topic #36:\n",
      "yay im homework today math\n",
      "\n",
      "Topic #37:\n",
      "im lunch eat today day\n",
      "\n",
      "Topic #38:\n",
      "ha haha hi im oh\n",
      "\n",
      "Topic #39:\n",
      "cheese 12 chocolate cream like\n",
      "\n",
      "Topic #40:\n",
      "urllink people government states world\n",
      "\n",
      "Topic #41:\n",
      "christmas phone hotel cell im\n",
      "\n",
      "Topic #42:\n",
      "pants suck ball im clothes\n",
      "\n",
      "Topic #43:\n",
      "urllink 2004 2003 july june\n",
      "\n",
      "Topic #44:\n",
      "urllink brought link click check\n",
      "\n",
      "Topic #45:\n",
      "job im doctor hospital work\n",
      "\n",
      "Topic #46:\n",
      "im listening mood beer just\n",
      "\n",
      "Topic #47:\n",
      "sleep im bed tired night\n",
      "\n",
      "Topic #48:\n",
      "account card money internet computer\n",
      "\n",
      "Topic #49:\n",
      "church group youth christian anybody\n"
     ]
    }
   ],
   "source": [
    "print(\"Topics found via LDA:\")\n",
    "print_topics(lda, tfidf_vectorizer, number_words)"
   ]
  },
  {
   "cell_type": "markdown",
   "metadata": {},
   "source": [
    "Some topics and my thoughts:\n",
    "\n",
    "+ **Topic #11: baby women dave child woman**\n",
    "  + What. What is this.\n",
    "+ **Topic #12: god jesus lord life christ**\n",
    "  + Found the Christian bloggers.\n",
    "+ **Topic #14: dun den juz wat tt**\n",
    "  + I *think* this might actually be early 2000s textspeak, and I am super excited the model clustered these together.\n",
    "+ **Topic #17: car road bike just driving**\n",
    "  + ... transportation bloggers?\n",
    "+ **Topic #20: im boring nick going really** & also **Topic #21: dad mom im paul just**\n",
    "  + Here's what confuses me: Some of these have NAMES in them. How is that possible? How can the model cluster 682k blogs and have top words include people's names? Maybe I should find some way to exclude names from the data, because they might be clustering blogs that otherwise have nothing to do with each other.\n",
    "+ **Topic #22: bush urllink kerry war president**\n",
    "  + Found the political bloggers.\n",
    "+ **Topic #23: dog photos dogs concert tickets**\n",
    "  + These bloggers live a simple life: they love dogs and concerts. I respect that.\n",
    "+ **Topic #24: lol im like ur gonna**\n",
    "  + More! teen! bloggers! (I think.)\n",
    "+ **Topic #27: fucking fuck shit im like**\n",
    "  + People who curse a lot!\n",
    "+ **Topic #30: eyes like just sun sky**\n",
    "  + Poets?\n",
    "+ **Topic #38: ha haha hi im oh**\n",
    "  + More teens? Adults who use haha too much? \n",
    "+ **Topic #39: cheese 12 chocolate cream like**\n",
    "  + Found the food bloggers.\n",
    "+ **Topic #47: sleep im bed tired night**\n",
    "  + Me currently. Also probably me in 2004.\n",
    "  \n",
    "#### Things I should change\n",
    "\n",
    "I'm going to hold on off on changing the model / preprocessed text, since that took around 35 minutes to load and made my computer approximately twice as hot as the sun. But when I re-do this, I will: remove urllink, since it is not useful; use a better tokenizer, there are way too many tokens of \"im\"; figure out if I can remove non-English text without completely removing multilingual blogs. One cluster seems to be entirely non-English blogs: **Topic #0:\n",
    "na la ko sa da***."
   ]
  },
  {
   "cell_type": "code",
   "execution_count": null,
   "metadata": {},
   "outputs": [],
   "source": []
  }
 ],
 "metadata": {
  "kernelspec": {
   "display_name": "Python 3",
   "language": "python",
   "name": "python3"
  },
  "language_info": {
   "codemirror_mode": {
    "name": "ipython",
    "version": 3
   },
   "file_extension": ".py",
   "mimetype": "text/x-python",
   "name": "python",
   "nbconvert_exporter": "python",
   "pygments_lexer": "ipython3",
   "version": "3.7.1"
  }
 },
 "nbformat": 4,
 "nbformat_minor": 2
}
