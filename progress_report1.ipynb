{
 "cells": [
  {
   "cell_type": "markdown",
   "metadata": {},
   "source": [
    "Progress report 1: Data overview\n",
    "==="
   ]
  },
  {
   "cell_type": "code",
   "execution_count": 1,
   "metadata": {},
   "outputs": [],
   "source": [
    "import pandas as pd\n",
    "import numpy as np\n",
    "import matplotlib as plt\n",
    "import seaborn as sns\n",
    "import nltk"
   ]
  },
  {
   "cell_type": "code",
   "execution_count": 2,
   "metadata": {},
   "outputs": [],
   "source": [
    "dir = '/users/eva/Documents/Data_Science/Blog-Sentiment-Analysis/'"
   ]
  },
  {
   "cell_type": "markdown",
   "metadata": {},
   "source": [
    "Reading the data into a DataFrame\n",
    "---\n",
    "When I first explored the data, I had a really hard time working with the XML encoding. I looked up more information about the data, and discovered another linguist, Dr. Rachael Tatman, turned this data into a .csv file and reuploaded it to the internet with the exact same license -  may be freely used for non-commercial research purposes. And hey... why reinvent the wheel.\n",
    "\n",
    "The CSV version of the data can be found [here](https://www.kaggle.com/rtatman/blog-authorship-corpus/version/2)."
   ]
  },
  {
   "cell_type": "code",
   "execution_count": 3,
   "metadata": {},
   "outputs": [],
   "source": [
    "blogdata = pd.read_csv(dir + 'data/blogtext.csv')"
   ]
  },
  {
   "cell_type": "code",
   "execution_count": 4,
   "metadata": {},
   "outputs": [
    {
     "data": {
      "text/html": [
       "<div>\n",
       "<style scoped>\n",
       "    .dataframe tbody tr th:only-of-type {\n",
       "        vertical-align: middle;\n",
       "    }\n",
       "\n",
       "    .dataframe tbody tr th {\n",
       "        vertical-align: top;\n",
       "    }\n",
       "\n",
       "    .dataframe thead th {\n",
       "        text-align: right;\n",
       "    }\n",
       "</style>\n",
       "<table border=\"1\" class=\"dataframe\">\n",
       "  <thead>\n",
       "    <tr style=\"text-align: right;\">\n",
       "      <th></th>\n",
       "      <th>id</th>\n",
       "      <th>gender</th>\n",
       "      <th>age</th>\n",
       "      <th>topic</th>\n",
       "      <th>sign</th>\n",
       "      <th>date</th>\n",
       "      <th>text</th>\n",
       "    </tr>\n",
       "  </thead>\n",
       "  <tbody>\n",
       "    <tr>\n",
       "      <th>0</th>\n",
       "      <td>2059027</td>\n",
       "      <td>male</td>\n",
       "      <td>15</td>\n",
       "      <td>Student</td>\n",
       "      <td>Leo</td>\n",
       "      <td>14,May,2004</td>\n",
       "      <td>Info has been found (+/- 100 pages,...</td>\n",
       "    </tr>\n",
       "    <tr>\n",
       "      <th>1</th>\n",
       "      <td>2059027</td>\n",
       "      <td>male</td>\n",
       "      <td>15</td>\n",
       "      <td>Student</td>\n",
       "      <td>Leo</td>\n",
       "      <td>13,May,2004</td>\n",
       "      <td>These are the team members:   Drewe...</td>\n",
       "    </tr>\n",
       "    <tr>\n",
       "      <th>2</th>\n",
       "      <td>2059027</td>\n",
       "      <td>male</td>\n",
       "      <td>15</td>\n",
       "      <td>Student</td>\n",
       "      <td>Leo</td>\n",
       "      <td>12,May,2004</td>\n",
       "      <td>In het kader van kernfusie op aarde...</td>\n",
       "    </tr>\n",
       "  </tbody>\n",
       "</table>\n",
       "</div>"
      ],
      "text/plain": [
       "        id gender  age    topic sign         date  \\\n",
       "0  2059027   male   15  Student  Leo  14,May,2004   \n",
       "1  2059027   male   15  Student  Leo  13,May,2004   \n",
       "2  2059027   male   15  Student  Leo  12,May,2004   \n",
       "\n",
       "                                                text  \n",
       "0             Info has been found (+/- 100 pages,...  \n",
       "1             These are the team members:   Drewe...  \n",
       "2             In het kader van kernfusie op aarde...  "
      ]
     },
     "execution_count": 4,
     "metadata": {},
     "output_type": "execute_result"
    }
   ],
   "source": [
    "blogdata.head(3)"
   ]
  },
  {
   "cell_type": "markdown",
   "metadata": {},
   "source": [
    "The industry category has been named \"topic\" here. I am going to change it to industry to clarify that it refers to career."
   ]
  },
  {
   "cell_type": "code",
   "execution_count": 5,
   "metadata": {},
   "outputs": [
    {
     "data": {
      "text/plain": [
       "Index(['id', 'gender', 'age', 'topic', 'sign', 'date', 'text'], dtype='object')"
      ]
     },
     "execution_count": 5,
     "metadata": {},
     "output_type": "execute_result"
    }
   ],
   "source": [
    "blogdata.columns"
   ]
  },
  {
   "cell_type": "code",
   "execution_count": 6,
   "metadata": {},
   "outputs": [
    {
     "data": {
      "text/html": [
       "<div>\n",
       "<style scoped>\n",
       "    .dataframe tbody tr th:only-of-type {\n",
       "        vertical-align: middle;\n",
       "    }\n",
       "\n",
       "    .dataframe tbody tr th {\n",
       "        vertical-align: top;\n",
       "    }\n",
       "\n",
       "    .dataframe thead th {\n",
       "        text-align: right;\n",
       "    }\n",
       "</style>\n",
       "<table border=\"1\" class=\"dataframe\">\n",
       "  <thead>\n",
       "    <tr style=\"text-align: right;\">\n",
       "      <th></th>\n",
       "      <th>id</th>\n",
       "      <th>gender</th>\n",
       "      <th>age</th>\n",
       "      <th>industry</th>\n",
       "      <th>sign</th>\n",
       "      <th>date</th>\n",
       "      <th>text</th>\n",
       "    </tr>\n",
       "  </thead>\n",
       "  <tbody>\n",
       "    <tr>\n",
       "      <th>0</th>\n",
       "      <td>2059027</td>\n",
       "      <td>male</td>\n",
       "      <td>15</td>\n",
       "      <td>Student</td>\n",
       "      <td>Leo</td>\n",
       "      <td>14,May,2004</td>\n",
       "      <td>Info has been found (+/- 100 pages,...</td>\n",
       "    </tr>\n",
       "    <tr>\n",
       "      <th>1</th>\n",
       "      <td>2059027</td>\n",
       "      <td>male</td>\n",
       "      <td>15</td>\n",
       "      <td>Student</td>\n",
       "      <td>Leo</td>\n",
       "      <td>13,May,2004</td>\n",
       "      <td>These are the team members:   Drewe...</td>\n",
       "    </tr>\n",
       "    <tr>\n",
       "      <th>2</th>\n",
       "      <td>2059027</td>\n",
       "      <td>male</td>\n",
       "      <td>15</td>\n",
       "      <td>Student</td>\n",
       "      <td>Leo</td>\n",
       "      <td>12,May,2004</td>\n",
       "      <td>In het kader van kernfusie op aarde...</td>\n",
       "    </tr>\n",
       "  </tbody>\n",
       "</table>\n",
       "</div>"
      ],
      "text/plain": [
       "        id gender  age industry sign         date  \\\n",
       "0  2059027   male   15  Student  Leo  14,May,2004   \n",
       "1  2059027   male   15  Student  Leo  13,May,2004   \n",
       "2  2059027   male   15  Student  Leo  12,May,2004   \n",
       "\n",
       "                                                text  \n",
       "0             Info has been found (+/- 100 pages,...  \n",
       "1             These are the team members:   Drewe...  \n",
       "2             In het kader van kernfusie op aarde...  "
      ]
     },
     "execution_count": 6,
     "metadata": {},
     "output_type": "execute_result"
    }
   ],
   "source": [
    "newcolumns = ['id', 'gender', 'age', 'industry', 'sign', 'date', 'text']\n",
    "blogdata.columns = newcolumns\n",
    "blogdata.head(3)"
   ]
  },
  {
   "cell_type": "markdown",
   "metadata": {},
   "source": [
    "Looks good."
   ]
  },
  {
   "cell_type": "code",
   "execution_count": 7,
   "metadata": {},
   "outputs": [
    {
     "name": "stdout",
     "output_type": "stream",
     "text": [
      "<class 'pandas.core.frame.DataFrame'>\n",
      "RangeIndex: 681284 entries, 0 to 681283\n",
      "Data columns (total 7 columns):\n",
      "id          681284 non-null int64\n",
      "gender      681284 non-null object\n",
      "age         681284 non-null int64\n",
      "industry    681284 non-null object\n",
      "sign        681284 non-null object\n",
      "date        681284 non-null object\n",
      "text        681284 non-null object\n",
      "dtypes: int64(2), object(5)\n",
      "memory usage: 36.4+ MB\n"
     ]
    }
   ],
   "source": [
    "blogdata.info()"
   ]
  },
  {
   "cell_type": "markdown",
   "metadata": {},
   "source": [
    "I assume that Dr. Tatman already cleaned up the data, so it looks pretty good. No null objects in any category. The original corpus website states that there are [681,288 blogs](http://u.cs.biu.ac.il/~koppel/BlogCorpus.htm), and our DataFrame has 681,284 objects, which means 4 blogs were removed."
   ]
  },
  {
   "cell_type": "markdown",
   "metadata": {},
   "source": [
    "Basic Stats\n",
    "---"
   ]
  },
  {
   "cell_type": "markdown",
   "metadata": {},
   "source": [
    "The category id identifies each blogger. Using the id, I can determine how many blog posts were written by each author."
   ]
  },
  {
   "cell_type": "code",
   "execution_count": 8,
   "metadata": {},
   "outputs": [
    {
     "data": {
      "text/plain": [
       "449628     4221\n",
       "734562     2301\n",
       "589736     2294\n",
       "1975546    2261\n",
       "958176     2244\n",
       "1107146    2237\n",
       "303162     2114\n",
       "942828     2068\n",
       "1270648    1951\n",
       "1784456    1843\n",
       "Name: id, dtype: int64"
      ]
     },
     "execution_count": 8,
     "metadata": {},
     "output_type": "execute_result"
    }
   ],
   "source": [
    "blogdata.id.value_counts()[:10]"
   ]
  },
  {
   "cell_type": "markdown",
   "metadata": {},
   "source": [
    "4000 blogs by one person? Can this be true?"
   ]
  },
  {
   "cell_type": "code",
   "execution_count": 9,
   "metadata": {},
   "outputs": [
    {
     "data": {
      "text/html": [
       "<div>\n",
       "<style scoped>\n",
       "    .dataframe tbody tr th:only-of-type {\n",
       "        vertical-align: middle;\n",
       "    }\n",
       "\n",
       "    .dataframe tbody tr th {\n",
       "        vertical-align: top;\n",
       "    }\n",
       "\n",
       "    .dataframe thead th {\n",
       "        text-align: right;\n",
       "    }\n",
       "</style>\n",
       "<table border=\"1\" class=\"dataframe\">\n",
       "  <thead>\n",
       "    <tr style=\"text-align: right;\">\n",
       "      <th></th>\n",
       "      <th>id</th>\n",
       "      <th>gender</th>\n",
       "      <th>age</th>\n",
       "      <th>industry</th>\n",
       "      <th>sign</th>\n",
       "      <th>date</th>\n",
       "      <th>text</th>\n",
       "    </tr>\n",
       "  </thead>\n",
       "  <tbody>\n",
       "    <tr>\n",
       "      <th>238573</th>\n",
       "      <td>449628</td>\n",
       "      <td>male</td>\n",
       "      <td>34</td>\n",
       "      <td>indUnk</td>\n",
       "      <td>Aries</td>\n",
       "      <td>13,May,2002</td>\n",
       "      <td>Peer-to-Peer Review Project - co...</td>\n",
       "    </tr>\n",
       "    <tr>\n",
       "      <th>237999</th>\n",
       "      <td>449628</td>\n",
       "      <td>male</td>\n",
       "      <td>34</td>\n",
       "      <td>indUnk</td>\n",
       "      <td>Aries</td>\n",
       "      <td>08,November,2003</td>\n",
       "      <td>'Peace goes into the making of a p...</td>\n",
       "    </tr>\n",
       "    <tr>\n",
       "      <th>237104</th>\n",
       "      <td>449628</td>\n",
       "      <td>male</td>\n",
       "      <td>34</td>\n",
       "      <td>indUnk</td>\n",
       "      <td>Aries</td>\n",
       "      <td>28,January,2003</td>\n",
       "      <td>'Every accomplishment large and sm...</td>\n",
       "    </tr>\n",
       "    <tr>\n",
       "      <th>236261</th>\n",
       "      <td>449628</td>\n",
       "      <td>male</td>\n",
       "      <td>34</td>\n",
       "      <td>indUnk</td>\n",
       "      <td>Aries</td>\n",
       "      <td>20,October,2003</td>\n",
       "      <td>urlLink Can an 'inside' job candidate...</td>\n",
       "    </tr>\n",
       "    <tr>\n",
       "      <th>235943</th>\n",
       "      <td>449628</td>\n",
       "      <td>male</td>\n",
       "      <td>34</td>\n",
       "      <td>indUnk</td>\n",
       "      <td>Aries</td>\n",
       "      <td>21,January,2003</td>\n",
       "      <td>urlLink MSN Careers - Call Your Refer...</td>\n",
       "    </tr>\n",
       "    <tr>\n",
       "      <th>238490</th>\n",
       "      <td>449628</td>\n",
       "      <td>male</td>\n",
       "      <td>34</td>\n",
       "      <td>indUnk</td>\n",
       "      <td>Aries</td>\n",
       "      <td>24,April,2002</td>\n",
       "      <td>Propitious  - courtesy of  urlLi...</td>\n",
       "    </tr>\n",
       "    <tr>\n",
       "      <th>238769</th>\n",
       "      <td>449628</td>\n",
       "      <td>male</td>\n",
       "      <td>34</td>\n",
       "      <td>indUnk</td>\n",
       "      <td>Aries</td>\n",
       "      <td>06,August,2002</td>\n",
       "      <td>Degrees of Blog Separation    ur...</td>\n",
       "    </tr>\n",
       "    <tr>\n",
       "      <th>237316</th>\n",
       "      <td>449628</td>\n",
       "      <td>male</td>\n",
       "      <td>34</td>\n",
       "      <td>indUnk</td>\n",
       "      <td>Aries</td>\n",
       "      <td>27,March,2003</td>\n",
       "      <td>Criticism |  'The trouble with most...</td>\n",
       "    </tr>\n",
       "    <tr>\n",
       "      <th>235807</th>\n",
       "      <td>449628</td>\n",
       "      <td>male</td>\n",
       "      <td>34</td>\n",
       "      <td>indUnk</td>\n",
       "      <td>Aries</td>\n",
       "      <td>20,August,2002</td>\n",
       "      <td>Is There Something We Should Know?   T...</td>\n",
       "    </tr>\n",
       "    <tr>\n",
       "      <th>238931</th>\n",
       "      <td>449628</td>\n",
       "      <td>male</td>\n",
       "      <td>34</td>\n",
       "      <td>indUnk</td>\n",
       "      <td>Aries</td>\n",
       "      <td>18,December,2002</td>\n",
       "      <td>More Trent Lott Stuff   When I f...</td>\n",
       "    </tr>\n",
       "  </tbody>\n",
       "</table>\n",
       "</div>"
      ],
      "text/plain": [
       "            id gender  age industry   sign              date  \\\n",
       "238573  449628   male   34   indUnk  Aries       13,May,2002   \n",
       "237999  449628   male   34   indUnk  Aries  08,November,2003   \n",
       "237104  449628   male   34   indUnk  Aries   28,January,2003   \n",
       "236261  449628   male   34   indUnk  Aries   20,October,2003   \n",
       "235943  449628   male   34   indUnk  Aries   21,January,2003   \n",
       "238490  449628   male   34   indUnk  Aries     24,April,2002   \n",
       "238769  449628   male   34   indUnk  Aries    06,August,2002   \n",
       "237316  449628   male   34   indUnk  Aries     27,March,2003   \n",
       "235807  449628   male   34   indUnk  Aries    20,August,2002   \n",
       "238931  449628   male   34   indUnk  Aries  18,December,2002   \n",
       "\n",
       "                                                     text  \n",
       "238573                Peer-to-Peer Review Project - co...  \n",
       "237999              'Peace goes into the making of a p...  \n",
       "237104              'Every accomplishment large and sm...  \n",
       "236261           urlLink Can an 'inside' job candidate...  \n",
       "235943           urlLink MSN Careers - Call Your Refer...  \n",
       "238490                Propitious  - courtesy of  urlLi...  \n",
       "238769                Degrees of Blog Separation    ur...  \n",
       "237316             Criticism |  'The trouble with most...  \n",
       "235807          Is There Something We Should Know?   T...  \n",
       "238931                More Trent Lott Stuff   When I f...  "
      ]
     },
     "execution_count": 9,
     "metadata": {},
     "output_type": "execute_result"
    }
   ],
   "source": [
    "blogdata[blogdata.id==449628].sample(10)"
   ]
  },
  {
   "cell_type": "code",
   "execution_count": 10,
   "metadata": {},
   "outputs": [
    {
     "data": {
      "text/plain": [
       "'              Meet other Bloggers in your Area!   Go to  urlLink blog.meetup.com  and sign up to meet other bloggers!         '"
      ]
     },
     "execution_count": 10,
     "metadata": {},
     "output_type": "execute_result"
    }
   ],
   "source": [
    "blogdata.text[238699]"
   ]
  },
  {
   "cell_type": "markdown",
   "metadata": {},
   "source": [
    "I guess it is true. Now, I will look at the distributions of the bloggers' self-identified gender, age, career, and sign.\n",
    "\n",
    "\n",
    "__Gender:__"
   ]
  },
  {
   "cell_type": "code",
   "execution_count": 11,
   "metadata": {},
   "outputs": [
    {
     "data": {
      "text/plain": [
       "male      345193\n",
       "female    336091\n",
       "Name: gender, dtype: int64"
      ]
     },
     "execution_count": 11,
     "metadata": {},
     "output_type": "execute_result"
    }
   ],
   "source": [
    "blogdata.gender.value_counts()"
   ]
  },
  {
   "cell_type": "code",
   "execution_count": 12,
   "metadata": {},
   "outputs": [
    {
     "data": {
      "text/plain": [
       "<matplotlib.axes._subplots.AxesSubplot at 0x1a24fa8240>"
      ]
     },
     "execution_count": 12,
     "metadata": {},
     "output_type": "execute_result"
    },
    {
     "data": {
      "image/png": "[encoded data removed]",
      "text/plain": [
       "<Figure size 432x288 with 1 Axes>"
      ]
     },
     "metadata": {},
     "output_type": "display_data"
    }
   ],
   "source": [
    "blogdata.gender.value_counts().plot(kind=\"pie\")"
   ]
  },
  {
   "cell_type": "markdown",
   "metadata": {},
   "source": [
    "Slightly more men than women."
   ]
  },
  {
   "cell_type": "markdown",
   "metadata": {},
   "source": [
    "__Age:__"
   ]
  },
  {
   "cell_type": "code",
   "execution_count": 13,
   "metadata": {},
   "outputs": [
    {
     "data": {
      "text/plain": [
       "17    80859\n",
       "24    80071\n",
       "23    72889\n",
       "16    72708\n",
       "25    67051\n",
       "26    55312\n",
       "27    46124\n",
       "15    41767\n",
       "14    27400\n",
       "34    21347\n",
       "33    17584\n",
       "35    17462\n",
       "36    14229\n",
       "13    13133\n",
       "37     9317\n",
       "38     7545\n",
       "39     5556\n",
       "40     5016\n",
       "45     4482\n",
       "43     4230\n",
       "41     3738\n",
       "48     3572\n",
       "42     2908\n",
       "46     2733\n",
       "47     2207\n",
       "44     2044\n",
       "Name: age, dtype: int64"
      ]
     },
     "execution_count": 13,
     "metadata": {},
     "output_type": "execute_result"
    }
   ],
   "source": [
    "blogdata['age'].value_counts()"
   ]
  },
  {
   "cell_type": "markdown",
   "metadata": {},
   "source": [
    "It appears that bloggers tend to be younger, but `.value_counts()` sorts by value so... it's a little hard to tell."
   ]
  },
  {
   "cell_type": "code",
   "execution_count": 14,
   "metadata": {},
   "outputs": [
    {
     "data": {
      "text/plain": [
       "count    681284.000000\n",
       "mean         23.932326\n",
       "std           7.786009\n",
       "min          13.000000\n",
       "25%          17.000000\n",
       "50%          24.000000\n",
       "75%          26.000000\n",
       "max          48.000000\n",
       "Name: age, dtype: float64"
      ]
     },
     "execution_count": 14,
     "metadata": {},
     "output_type": "execute_result"
    }
   ],
   "source": [
    "blogdata.age.describe()"
   ]
  },
  {
   "cell_type": "code",
   "execution_count": 15,
   "metadata": {},
   "outputs": [
    {
     "data": {
      "text/plain": [
       "<matplotlib.axes._subplots.AxesSubplot at 0x1a276db550>"
      ]
     },
     "execution_count": 15,
     "metadata": {},
     "output_type": "execute_result"
    },
    {
     "data": {
      "image/png": "[encoded data removed]",
      "text/plain": [
       "<Figure size 432x288 with 1 Axes>"
      ]
     },
     "metadata": {
      "needs_background": "light"
     },
     "output_type": "display_data"
    }
   ],
   "source": [
    "blogdata.age.plot.hist(bins=20)"
   ]
  },
  {
   "cell_type": "markdown",
   "metadata": {},
   "source": [
    "Considering the mean age (23.9) and the histogram of ages, it looks like the bloggers tend to be younger, but there is definitely not a normal distribution."
   ]
  },
  {
   "cell_type": "markdown",
   "metadata": {},
   "source": [
    "__Gender and age:__"
   ]
  },
  {
   "cell_type": "code",
   "execution_count": 16,
   "metadata": {},
   "outputs": [
    {
     "data": {
      "text/plain": [
       "<seaborn.axisgrid.FacetGrid at 0x1a3ed87550>"
      ]
     },
     "execution_count": 16,
     "metadata": {},
     "output_type": "execute_result"
    },
    {
     "data": {
      "image/png": "[encoded data removed]",
      "text/plain": [
       "<Figure size 360x360 with 1 Axes>"
      ]
     },
     "metadata": {
      "needs_background": "light"
     },
     "output_type": "display_data"
    }
   ],
   "source": [
    "sns.catplot(x='gender', y='age', kind='box', data=blogdata)"
   ]
  },
  {
   "cell_type": "markdown",
   "metadata": {},
   "source": [
    "By gender, the ages do not seem to differ substantially."
   ]
  },
  {
   "cell_type": "markdown",
   "metadata": {},
   "source": [
    "__Industry:__"
   ]
  },
  {
   "cell_type": "code",
   "execution_count": 17,
   "metadata": {},
   "outputs": [
    {
     "data": {
      "text/plain": [
       "indUnk                     251015\n",
       "Student                    153903\n",
       "Technology                  42055\n",
       "Arts                        32449\n",
       "Education                   29633\n",
       "Communications-Media        20140\n",
       "Internet                    16006\n",
       "Non-Profit                  14700\n",
       "Engineering                 11653\n",
       "Law                          9040\n",
       "Publishing                   7753\n",
       "Science                      7269\n",
       "Government                   6907\n",
       "Consulting                   5862\n",
       "Religion                     5235\n",
       "Fashion                      4851\n",
       "Marketing                    4769\n",
       "Advertising                  4676\n",
       "BusinessServices             4500\n",
       "Banking                      4049\n",
       "Chemicals                    3928\n",
       "Telecommunications           3891\n",
       "Accounting                   3832\n",
       "Military                     3128\n",
       "Museums-Libraries            3096\n",
       "Sports-Recreation            3038\n",
       "HumanResources               3010\n",
       "RealEstate                   2870\n",
       "Transportation               2326\n",
       "Manufacturing                2272\n",
       "Biotech                      2234\n",
       "Tourism                      1942\n",
       "LawEnforcement-Security      1878\n",
       "Architecture                 1638\n",
       "InvestmentBanking            1292\n",
       "Automotive                   1244\n",
       "Agriculture                  1235\n",
       "Construction                 1093\n",
       "Environment                   592\n",
       "Maritime                      280\n",
       "Name: industry, dtype: int64"
      ]
     },
     "execution_count": 17,
     "metadata": {},
     "output_type": "execute_result"
    }
   ],
   "source": [
    "blogdata.industry.value_counts()"
   ]
  },
  {
   "cell_type": "markdown",
   "metadata": {},
   "source": [
    "The following graph is the 2nd through 11th most common careers, because I wanted to exclude \"unknown\"."
   ]
  },
  {
   "cell_type": "code",
   "execution_count": 19,
   "metadata": {},
   "outputs": [
    {
     "data": {
      "text/plain": [
       "<matplotlib.axes._subplots.AxesSubplot at 0x1a25df64a8>"
      ]
     },
     "execution_count": 19,
     "metadata": {},
     "output_type": "execute_result"
    },
    {
     "data": {
      "image/png": "[encoded data removed]",
      "text/plain": [
       "<Figure size 432x288 with 1 Axes>"
      ]
     },
     "metadata": {
      "needs_background": "light"
     },
     "output_type": "display_data"
    }
   ],
   "source": [
    "blogdata.industry.value_counts()[1:11].plot(kind=\"bar\")"
   ]
  },
  {
   "cell_type": "code",
   "execution_count": 20,
   "metadata": {},
   "outputs": [
    {
     "data": {
      "text/plain": [
       "<matplotlib.axes._subplots.AxesSubplot at 0x1a277c9f28>"
      ]
     },
     "execution_count": 20,
     "metadata": {},
     "output_type": "execute_result"
    },
    {
     "data": {
      "image/png": "[encoded data removed]",
      "text/plain": [
       "<Figure size 432x288 with 1 Axes>"
      ]
     },
     "metadata": {
      "needs_background": "light"
     },
     "output_type": "display_data"
    }
   ],
   "source": [
    "blogdata.industry.value_counts()[-10:].plot(kind=\"bar\")"
   ]
  },
  {
   "cell_type": "markdown",
   "metadata": {},
   "source": [
    "Excluding unknown, the most common career is student. The least common is maritime."
   ]
  },
  {
   "cell_type": "code",
   "execution_count": 21,
   "metadata": {},
   "outputs": [
    {
     "data": {
      "text/plain": [
       "Cancer         65048\n",
       "Aries          64979\n",
       "Taurus         62561\n",
       "Libra          62363\n",
       "Virgo          60399\n",
       "Scorpio        57161\n",
       "Pisces         54053\n",
       "Leo            53811\n",
       "Gemini         51985\n",
       "Sagittarius    50036\n",
       "Aquarius       49687\n",
       "Capricorn      49201\n",
       "Name: sign, dtype: int64"
      ]
     },
     "execution_count": 21,
     "metadata": {},
     "output_type": "execute_result"
    }
   ],
   "source": [
    "blogdata.sign.value_counts()"
   ]
  },
  {
   "cell_type": "code",
   "execution_count": 22,
   "metadata": {},
   "outputs": [
    {
     "data": {
      "text/plain": [
       "<matplotlib.axes._subplots.AxesSubplot at 0x1a2771e438>"
      ]
     },
     "execution_count": 22,
     "metadata": {},
     "output_type": "execute_result"
    },
    {
     "data": {
      "image/png": "[encoded data removed]",
      "text/plain": [
       "<Figure size 432x288 with 1 Axes>"
      ]
     },
     "metadata": {
      "needs_background": "light"
     },
     "output_type": "display_data"
    }
   ],
   "source": [
    "blogdata.sign.value_counts().plot(kind=\"bar\")"
   ]
  },
  {
   "cell_type": "markdown",
   "metadata": {},
   "source": [
    "No substantial difference between groups by astrological sign. I don't think I will use this aspect of the data that much.\n",
    "\n",
    "__Summary:__\n",
    "\n",
    "Overall, number of blogs do not seem to differ much by gender. With an age range of 13-48, bloggers tend to be younger, with an average age of 23.9. Out of bloggers who list their industry, the largest group is students. Blog count does not seem to vary much by astrological sign, which makes sense."
   ]
  },
  {
   "cell_type": "markdown",
   "metadata": {},
   "source": [
    "Looking at the text\n",
    "---\n",
    "I want to do some preliminary exploration of the blog texts: looking at token frequencies and average blog length."
   ]
  },
  {
   "cell_type": "code",
   "execution_count": 23,
   "metadata": {},
   "outputs": [
    {
     "data": {
      "text/plain": [
       "\"       I've had a terrific day. It's been wonderfully productive. The football team was checked in with little incident, I cleaned my apartment, read, wrote, watched the Olympics, and now I just finished watching  The Hours .  Gymnasts are amazing!! I have a new found respect for male gymnists. All that they can do and all the strength it takes and all the flexibility it requires...well, it's just incredible to watch. I can't believe that they can twist and twirl like that on the pummel horse and hold themselves perfectly still on the uneven bars. It's amazing to watch!   The Hours ...what a movie!! This is about the third time I've seen it all the way through. I just love it. If you haven't seen it, rent it :) Even the third time the movie still touches me in a way that is unspeakable.  I'm listening to The Flaming Lips...  Quote of the evening...“Each has his past shut in him like leaves of a book known to him by his heart, and his friends can only read the title.” Virginia Woolf       \""
      ]
     },
     "execution_count": 23,
     "metadata": {},
     "output_type": "execute_result"
    }
   ],
   "source": [
    "blogdata.text[60000]"
   ]
  },
  {
   "cell_type": "markdown",
   "metadata": {},
   "source": [
    "__Token count:__\n",
    "\n",
    "\n",
    "First I will create a tokens column in blogdata:"
   ]
  },
  {
   "cell_type": "code",
   "execution_count": 24,
   "metadata": {},
   "outputs": [],
   "source": [
    "tokens = blogdata.text.map(nltk.word_tokenize)"
   ]
  },
  {
   "cell_type": "code",
   "execution_count": 26,
   "metadata": {},
   "outputs": [
    {
     "data": {
      "text/plain": [
       "0    [Info, has, been, found, (, +/-, 100, pages, ,...\n",
       "1    [These, are, the, team, members, :, Drewes, va...\n",
       "2    [In, het, kader, van, kernfusie, op, aarde, :,...\n",
       "3                 [testing, !, !, !, testing, !, !, !]\n",
       "4    [Thanks, to, Yahoo, !, 's, Toolbar, I, can, no...\n",
       "Name: text, dtype: object"
      ]
     },
     "execution_count": 26,
     "metadata": {},
     "output_type": "execute_result"
    }
   ],
   "source": [
    "tokens.head()"
   ]
  },
  {
   "cell_type": "code",
   "execution_count": 27,
   "metadata": {},
   "outputs": [],
   "source": [
    "blogdata['tokens'] = tokens"
   ]
  },
  {
   "cell_type": "markdown",
   "metadata": {},
   "source": [
    "And then I will create a token count column."
   ]
  },
  {
   "cell_type": "code",
   "execution_count": 29,
   "metadata": {},
   "outputs": [],
   "source": [
    "blogdata['token_count'] = blogdata.tokens.map(len)"
   ]
  },
  {
   "cell_type": "code",
   "execution_count": 32,
   "metadata": {},
   "outputs": [
    {
     "data": {
      "text/html": [
       "<div>\n",
       "<style scoped>\n",
       "    .dataframe tbody tr th:only-of-type {\n",
       "        vertical-align: middle;\n",
       "    }\n",
       "\n",
       "    .dataframe tbody tr th {\n",
       "        vertical-align: top;\n",
       "    }\n",
       "\n",
       "    .dataframe thead th {\n",
       "        text-align: right;\n",
       "    }\n",
       "</style>\n",
       "<table border=\"1\" class=\"dataframe\">\n",
       "  <thead>\n",
       "    <tr style=\"text-align: right;\">\n",
       "      <th></th>\n",
       "      <th>id</th>\n",
       "      <th>gender</th>\n",
       "      <th>age</th>\n",
       "      <th>industry</th>\n",
       "      <th>sign</th>\n",
       "      <th>date</th>\n",
       "      <th>text</th>\n",
       "      <th>tokens</th>\n",
       "      <th>token_count</th>\n",
       "    </tr>\n",
       "  </thead>\n",
       "  <tbody>\n",
       "    <tr>\n",
       "      <th>0</th>\n",
       "      <td>2059027</td>\n",
       "      <td>male</td>\n",
       "      <td>15</td>\n",
       "      <td>Student</td>\n",
       "      <td>Leo</td>\n",
       "      <td>14,May,2004</td>\n",
       "      <td>Info has been found (+/- 100 pages,...</td>\n",
       "      <td>[Info, has, been, found, (, +/-, 100, pages, ,...</td>\n",
       "      <td>32</td>\n",
       "    </tr>\n",
       "    <tr>\n",
       "      <th>1</th>\n",
       "      <td>2059027</td>\n",
       "      <td>male</td>\n",
       "      <td>15</td>\n",
       "      <td>Student</td>\n",
       "      <td>Leo</td>\n",
       "      <td>13,May,2004</td>\n",
       "      <td>These are the team members:   Drewe...</td>\n",
       "      <td>[These, are, the, team, members, :, Drewes, va...</td>\n",
       "      <td>23</td>\n",
       "    </tr>\n",
       "    <tr>\n",
       "      <th>2</th>\n",
       "      <td>2059027</td>\n",
       "      <td>male</td>\n",
       "      <td>15</td>\n",
       "      <td>Student</td>\n",
       "      <td>Leo</td>\n",
       "      <td>12,May,2004</td>\n",
       "      <td>In het kader van kernfusie op aarde...</td>\n",
       "      <td>[In, het, kader, van, kernfusie, op, aarde, :,...</td>\n",
       "      <td>5017</td>\n",
       "    </tr>\n",
       "  </tbody>\n",
       "</table>\n",
       "</div>"
      ],
      "text/plain": [
       "        id gender  age industry sign         date  \\\n",
       "0  2059027   male   15  Student  Leo  14,May,2004   \n",
       "1  2059027   male   15  Student  Leo  13,May,2004   \n",
       "2  2059027   male   15  Student  Leo  12,May,2004   \n",
       "\n",
       "                                                text  \\\n",
       "0             Info has been found (+/- 100 pages,...   \n",
       "1             These are the team members:   Drewe...   \n",
       "2             In het kader van kernfusie op aarde...   \n",
       "\n",
       "                                              tokens  token_count  \n",
       "0  [Info, has, been, found, (, +/-, 100, pages, ,...           32  \n",
       "1  [These, are, the, team, members, :, Drewes, va...           23  \n",
       "2  [In, het, kader, van, kernfusie, op, aarde, :,...         5017  "
      ]
     },
     "execution_count": 32,
     "metadata": {},
     "output_type": "execute_result"
    }
   ],
   "source": [
    "blogdata.head(3)"
   ]
  },
  {
   "cell_type": "code",
   "execution_count": 33,
   "metadata": {},
   "outputs": [
    {
     "data": {
      "text/plain": [
       "count    681284.000000\n",
       "mean        239.308917\n",
       "std         495.058606\n",
       "min           0.000000\n",
       "25%          46.000000\n",
       "50%         135.000000\n",
       "75%         303.000000\n",
       "max      150855.000000\n",
       "Name: token_count, dtype: float64"
      ]
     },
     "execution_count": 33,
     "metadata": {},
     "output_type": "execute_result"
    }
   ],
   "source": [
    "blogdata.token_count.describe()"
   ]
  },
  {
   "cell_type": "markdown",
   "metadata": {},
   "source": [
    "Mean blog length is 239 words, but the standard deviation is 495 words! That's huge."
   ]
  },
  {
   "cell_type": "code",
   "execution_count": 31,
   "metadata": {},
   "outputs": [
    {
     "data": {
      "text/plain": [
       "gender\n",
       "female    247.194456\n",
       "male      231.631302\n",
       "Name: token_count, dtype: float64"
      ]
     },
     "execution_count": 31,
     "metadata": {},
     "output_type": "execute_result"
    }
   ],
   "source": [
    "blogdata.groupby('gender')['token_count'].mean()"
   ]
  },
  {
   "cell_type": "markdown",
   "metadata": {},
   "source": [
    "Women's blogs are slightly longer."
   ]
  },
  {
   "cell_type": "code",
   "execution_count": 36,
   "metadata": {},
   "outputs": [
    {
     "data": {
      "text/plain": [
       "<matplotlib.axes._subplots.AxesSubplot at 0x1c05c04278>"
      ]
     },
     "execution_count": 36,
     "metadata": {},
     "output_type": "execute_result"
    },
    {
     "data": {
      "image/png": "[encoded data removed]",
      "text/plain": [
       "<Figure size 432x288 with 1 Axes>"
      ]
     },
     "metadata": {
      "needs_background": "light"
     },
     "output_type": "display_data"
    }
   ],
   "source": [
    "blogdata.groupby('age')['token_count'].mean().plot(kind=\"bar\")"
   ]
  },
  {
   "cell_type": "markdown",
   "metadata": {},
   "source": [
    "This is probably hugely effected by number of blogs in each age group, but just from graphing, 47 year olds seem to have very long blogs.\n",
    "\n",
    "__Token frequency:__\n",
    "\n",
    "Now let's look at token frequency."
   ]
  },
  {
   "cell_type": "code",
   "execution_count": 37,
   "metadata": {},
   "outputs": [],
   "source": [
    "all_fd = blogdata.tokens.map(nltk.FreqDist)"
   ]
  },
  {
   "cell_type": "code",
   "execution_count": 38,
   "metadata": {},
   "outputs": [],
   "source": [
    "blogdata['freq_dist'] = all_fd"
   ]
  },
  {
   "cell_type": "markdown",
   "metadata": {},
   "source": [
    "There's not much point in finding the word frequencies for very short blogs. I am going to create a subset of the data with blogs longer than 1000 words. "
   ]
  },
  {
   "cell_type": "code",
   "execution_count": 41,
   "metadata": {},
   "outputs": [],
   "source": [
    "longblogs = blogdata[blogdata.token_count > 1000]"
   ]
  },
  {
   "cell_type": "code",
   "execution_count": 42,
   "metadata": {},
   "outputs": [
    {
     "name": "stdout",
     "output_type": "stream",
     "text": [
      "<class 'pandas.core.frame.DataFrame'>\n",
      "Int64Index: 19398 entries, 2 to 681025\n",
      "Data columns (total 10 columns):\n",
      "id             19398 non-null int64\n",
      "gender         19398 non-null object\n",
      "age            19398 non-null int64\n",
      "industry       19398 non-null object\n",
      "sign           19398 non-null object\n",
      "date           19398 non-null object\n",
      "text           19398 non-null object\n",
      "tokens         19398 non-null object\n",
      "token_count    19398 non-null int64\n",
      "freq_dist      19398 non-null object\n",
      "dtypes: int64(3), object(7)\n",
      "memory usage: 1.6+ MB\n"
     ]
    }
   ],
   "source": [
    "longblogs.info()"
   ]
  },
  {
   "cell_type": "code",
   "execution_count": 43,
   "metadata": {},
   "outputs": [
    {
     "data": {
      "text/html": [
       "<div>\n",
       "<style scoped>\n",
       "    .dataframe tbody tr th:only-of-type {\n",
       "        vertical-align: middle;\n",
       "    }\n",
       "\n",
       "    .dataframe tbody tr th {\n",
       "        vertical-align: top;\n",
       "    }\n",
       "\n",
       "    .dataframe thead th {\n",
       "        text-align: right;\n",
       "    }\n",
       "</style>\n",
       "<table border=\"1\" class=\"dataframe\">\n",
       "  <thead>\n",
       "    <tr style=\"text-align: right;\">\n",
       "      <th></th>\n",
       "      <th>id</th>\n",
       "      <th>gender</th>\n",
       "      <th>age</th>\n",
       "      <th>industry</th>\n",
       "      <th>sign</th>\n",
       "      <th>date</th>\n",
       "      <th>text</th>\n",
       "      <th>tokens</th>\n",
       "      <th>token_count</th>\n",
       "      <th>freq_dist</th>\n",
       "    </tr>\n",
       "  </thead>\n",
       "  <tbody>\n",
       "    <tr>\n",
       "      <th>2</th>\n",
       "      <td>2059027</td>\n",
       "      <td>male</td>\n",
       "      <td>15</td>\n",
       "      <td>Student</td>\n",
       "      <td>Leo</td>\n",
       "      <td>12,May,2004</td>\n",
       "      <td>In het kader van kernfusie op aarde...</td>\n",
       "      <td>[In, het, kader, van, kernfusie, op, aarde, :,...</td>\n",
       "      <td>5017</td>\n",
       "      <td>{'In': 5, 'het': 1, 'kader': 1, 'van': 1, 'ker...</td>\n",
       "    </tr>\n",
       "    <tr>\n",
       "      <th>19</th>\n",
       "      <td>3581210</td>\n",
       "      <td>male</td>\n",
       "      <td>33</td>\n",
       "      <td>InvestmentBanking</td>\n",
       "      <td>Aquarius</td>\n",
       "      <td>16,June,2004</td>\n",
       "      <td>So I've been in Vancouver a few d...</td>\n",
       "      <td>[So, I, 've, been, in, Vancouver, a, few, days...</td>\n",
       "      <td>1002</td>\n",
       "      <td>{'So': 2, 'I': 20, ''ve': 2, 'been': 2, 'in': ...</td>\n",
       "    </tr>\n",
       "    <tr>\n",
       "      <th>27</th>\n",
       "      <td>3581210</td>\n",
       "      <td>male</td>\n",
       "      <td>33</td>\n",
       "      <td>InvestmentBanking</td>\n",
       "      <td>Aquarius</td>\n",
       "      <td>01,July,2004</td>\n",
       "      <td>This may be a long blog...got a l...</td>\n",
       "      <td>[This, may, be, a, long, blog, ..., got, a, lo...</td>\n",
       "      <td>1093</td>\n",
       "      <td>{'This': 3, 'may': 1, 'be': 2, 'a': 25, 'long'...</td>\n",
       "    </tr>\n",
       "    <tr>\n",
       "      <th>48</th>\n",
       "      <td>3581210</td>\n",
       "      <td>male</td>\n",
       "      <td>33</td>\n",
       "      <td>InvestmentBanking</td>\n",
       "      <td>Aquarius</td>\n",
       "      <td>23,July,2004</td>\n",
       "      <td>Just so you know, this blog isn'...</td>\n",
       "      <td>[Just, so, you, know, ,, this, blog, is, n't, ...</td>\n",
       "      <td>2397</td>\n",
       "      <td>{'Just': 1, 'so': 11, 'you': 15, 'know': 7, ',...</td>\n",
       "    </tr>\n",
       "    <tr>\n",
       "      <th>55</th>\n",
       "      <td>3581210</td>\n",
       "      <td>male</td>\n",
       "      <td>33</td>\n",
       "      <td>InvestmentBanking</td>\n",
       "      <td>Aquarius</td>\n",
       "      <td>29,July,2004</td>\n",
       "      <td>Ok, you're probably looking at th...</td>\n",
       "      <td>[Ok, ,, you, 're, probably, looking, at, that,...</td>\n",
       "      <td>1027</td>\n",
       "      <td>{'Ok': 2, ',': 45, 'you': 8, ''re': 1, 'probab...</td>\n",
       "    </tr>\n",
       "  </tbody>\n",
       "</table>\n",
       "</div>"
      ],
      "text/plain": [
       "         id gender  age           industry      sign          date  \\\n",
       "2   2059027   male   15            Student       Leo   12,May,2004   \n",
       "19  3581210   male   33  InvestmentBanking  Aquarius  16,June,2004   \n",
       "27  3581210   male   33  InvestmentBanking  Aquarius  01,July,2004   \n",
       "48  3581210   male   33  InvestmentBanking  Aquarius  23,July,2004   \n",
       "55  3581210   male   33  InvestmentBanking  Aquarius  29,July,2004   \n",
       "\n",
       "                                                 text  \\\n",
       "2              In het kader van kernfusie op aarde...   \n",
       "19               So I've been in Vancouver a few d...   \n",
       "27               This may be a long blog...got a l...   \n",
       "48                Just so you know, this blog isn'...   \n",
       "55               Ok, you're probably looking at th...   \n",
       "\n",
       "                                               tokens  token_count  \\\n",
       "2   [In, het, kader, van, kernfusie, op, aarde, :,...         5017   \n",
       "19  [So, I, 've, been, in, Vancouver, a, few, days...         1002   \n",
       "27  [This, may, be, a, long, blog, ..., got, a, lo...         1093   \n",
       "48  [Just, so, you, know, ,, this, blog, is, n't, ...         2397   \n",
       "55  [Ok, ,, you, 're, probably, looking, at, that,...         1027   \n",
       "\n",
       "                                            freq_dist  \n",
       "2   {'In': 5, 'het': 1, 'kader': 1, 'van': 1, 'ker...  \n",
       "19  {'So': 2, 'I': 20, ''ve': 2, 'been': 2, 'in': ...  \n",
       "27  {'This': 3, 'may': 1, 'be': 2, 'a': 25, 'long'...  \n",
       "48  {'Just': 1, 'so': 11, 'you': 15, 'know': 7, ',...  \n",
       "55  {'Ok': 2, ',': 45, 'you': 8, ''re': 1, 'probab...  "
      ]
     },
     "execution_count": 43,
     "metadata": {},
     "output_type": "execute_result"
    }
   ],
   "source": [
    "longblogs.head()"
   ]
  },
  {
   "cell_type": "code",
   "execution_count": 44,
   "metadata": {},
   "outputs": [
    {
     "data": {
      "text/plain": [
       "5375"
      ]
     },
     "execution_count": 44,
     "metadata": {},
     "output_type": "execute_result"
    }
   ],
   "source": [
    "longblogs.id.unique().size"
   ]
  },
  {
   "cell_type": "markdown",
   "metadata": {},
   "source": [
    "My subset has ~19000 blogs and ~5000 bloggers... let's cut it down a little further by dropping the duplicates."
   ]
  },
  {
   "cell_type": "code",
   "execution_count": 45,
   "metadata": {},
   "outputs": [
    {
     "data": {
      "text/plain": [
       "5375"
      ]
     },
     "execution_count": 45,
     "metadata": {},
     "output_type": "execute_result"
    }
   ],
   "source": [
    "longblogs = longblogs.drop_duplicates(\"id\")\n",
    "len(longblogs)"
   ]
  },
  {
   "cell_type": "markdown",
   "metadata": {},
   "source": [
    "Looks good! Now let's explore the frequency distributions for some random blogs."
   ]
  },
  {
   "cell_type": "code",
   "execution_count": 51,
   "metadata": {},
   "outputs": [
    {
     "data": {
      "text/plain": [
       "373665    {'call': 1, 'me': 3, '...': 6, 'Tami': 1, '--'...\n",
       "54239     {'Good': 1, 'Afternoon': 1, '!': 7, 'Lots': 1,...\n",
       "535536    {'I': 26, 'have': 6, 'a': 30, 'feeling': 1, 't...\n",
       "291447    {'hey': 2, 'guys': 1, ',': 43, 'or': 1, 'who':...\n",
       "294981    {'Let': 1, ''s': 13, 'take': 1, 'a': 36, 'few'...\n",
       "572055    {'This': 1, 'test': 2, 'does': 1, 'not': 1, 'm...\n",
       "504300    {'I': 29, 'have': 10, 'potential': 4, '.': 74,...\n",
       "493508    {'From': 3, 'the': 55, 'Sublime': 1, 'to': 17,...\n",
       "327343    {'Eternal': 1, 'Bullshit': 1, 'of': 26, 'the':...\n",
       "478796    {'&': 212, 'nbsp': 212, ';': 214, 'So': 2, 'we...\n",
       "Name: freq_dist, dtype: object"
      ]
     },
     "execution_count": 51,
     "metadata": {},
     "output_type": "execute_result"
    }
   ],
   "source": [
    "longblogs.freq_dist.sample(10)"
   ]
  },
  {
   "cell_type": "code",
   "execution_count": 52,
   "metadata": {},
   "outputs": [
    {
     "data": {
      "text/plain": [
       "[('.', 86),\n",
       " ('I', 84),\n",
       " ('the', 49),\n",
       " ('to', 40),\n",
       " ('that', 29),\n",
       " ('and', 29),\n",
       " ('my', 23),\n",
       " (',', 22),\n",
       " ('in', 20),\n",
       " ('of', 20)]"
      ]
     },
     "execution_count": 52,
     "metadata": {},
     "output_type": "execute_result"
    }
   ],
   "source": [
    "longblogs.freq_dist[312531].most_common(10)"
   ]
  },
  {
   "cell_type": "code",
   "execution_count": 53,
   "metadata": {},
   "outputs": [
    {
     "data": {
      "text/plain": [
       "[('I', 45),\n",
       " ('...', 41),\n",
       " ('.', 41),\n",
       " ('to', 27),\n",
       " ('and', 22),\n",
       " ('my', 20),\n",
       " ('the', 20),\n",
       " ('that', 16),\n",
       " ('a', 15),\n",
       " ('in', 14)]"
      ]
     },
     "execution_count": 53,
     "metadata": {},
     "output_type": "execute_result"
    }
   ],
   "source": [
    "longblogs.freq_dist[54239].most_common(10)"
   ]
  },
  {
   "cell_type": "code",
   "execution_count": 54,
   "metadata": {},
   "outputs": [
    {
     "data": {
      "text/plain": [
       "[(',', 77),\n",
       " ('.', 49),\n",
       " ('the', 39),\n",
       " ('I', 38),\n",
       " ('and', 37),\n",
       " ('a', 35),\n",
       " ('to', 27),\n",
       " ('of', 26),\n",
       " (\"'s\", 13),\n",
       " ('on', 13)]"
      ]
     },
     "execution_count": 54,
     "metadata": {},
     "output_type": "execute_result"
    }
   ],
   "source": [
    "longblogs.freq_dist[327343].most_common(10)"
   ]
  },
  {
   "cell_type": "markdown",
   "metadata": {},
   "source": [
    "Top 10 most common words look very similar.... they all seem to be function words. (And punctuation.)"
   ]
  },
  {
   "cell_type": "markdown",
   "metadata": {},
   "source": [
    "Creating data samples\n",
    "---\n",
    "Since my dataset is 681,284 blog posts, I am going to create a much smaller subset and save it in the `data_samples` folder of my project repo. I will use `.sample` to get a random sample of the data."
   ]
  },
  {
   "cell_type": "code",
   "execution_count": 63,
   "metadata": {},
   "outputs": [],
   "source": [
    "mini_data = blogdata.sample(100)"
   ]
  },
  {
   "cell_type": "code",
   "execution_count": 64,
   "metadata": {},
   "outputs": [
    {
     "data": {
      "text/html": [
       "<div>\n",
       "<style scoped>\n",
       "    .dataframe tbody tr th:only-of-type {\n",
       "        vertical-align: middle;\n",
       "    }\n",
       "\n",
       "    .dataframe tbody tr th {\n",
       "        vertical-align: top;\n",
       "    }\n",
       "\n",
       "    .dataframe thead th {\n",
       "        text-align: right;\n",
       "    }\n",
       "</style>\n",
       "<table border=\"1\" class=\"dataframe\">\n",
       "  <thead>\n",
       "    <tr style=\"text-align: right;\">\n",
       "      <th></th>\n",
       "      <th>id</th>\n",
       "      <th>gender</th>\n",
       "      <th>age</th>\n",
       "      <th>industry</th>\n",
       "      <th>sign</th>\n",
       "      <th>date</th>\n",
       "      <th>text</th>\n",
       "      <th>tokens</th>\n",
       "      <th>token_count</th>\n",
       "      <th>freq_dist</th>\n",
       "    </tr>\n",
       "  </thead>\n",
       "  <tbody>\n",
       "    <tr>\n",
       "      <th>502618</th>\n",
       "      <td>4101898</td>\n",
       "      <td>female</td>\n",
       "      <td>23</td>\n",
       "      <td>Agriculture</td>\n",
       "      <td>Leo</td>\n",
       "      <td>08,August,2004</td>\n",
       "      <td>I just realized I had my blog...</td>\n",
       "      <td>[I, just, realized, I, had, my, blog, set, up,...</td>\n",
       "      <td>36</td>\n",
       "      <td>{'I': 2, 'just': 1, 'realized': 1, 'had': 1, '...</td>\n",
       "    </tr>\n",
       "    <tr>\n",
       "      <th>194583</th>\n",
       "      <td>95161</td>\n",
       "      <td>male</td>\n",
       "      <td>39</td>\n",
       "      <td>indUnk</td>\n",
       "      <td>Capricorn</td>\n",
       "      <td>29,July,2004</td>\n",
       "      <td>urlLink A Blogger Manifesto ...</td>\n",
       "      <td>[urlLink, A, Blogger, Manifesto, Why, online, ...</td>\n",
       "      <td>34</td>\n",
       "      <td>{'urlLink': 1, 'A': 1, 'Blogger': 1, 'Manifest...</td>\n",
       "    </tr>\n",
       "    <tr>\n",
       "      <th>238623</th>\n",
       "      <td>449628</td>\n",
       "      <td>male</td>\n",
       "      <td>34</td>\n",
       "      <td>indUnk</td>\n",
       "      <td>Aries</td>\n",
       "      <td>26,June,2002</td>\n",
       "      <td>Time Management - The Pickle Jar...</td>\n",
       "      <td>[Time, Management, -, The, Pickle, Jar, Theory...</td>\n",
       "      <td>124</td>\n",
       "      <td>{'Time': 2, 'Management': 2, '-': 2, 'The': 2,...</td>\n",
       "    </tr>\n",
       "  </tbody>\n",
       "</table>\n",
       "</div>"
      ],
      "text/plain": [
       "             id  gender  age     industry       sign            date  \\\n",
       "502618  4101898  female   23  Agriculture        Leo  08,August,2004   \n",
       "194583    95161    male   39       indUnk  Capricorn    29,July,2004   \n",
       "238623   449628    male   34       indUnk      Aries    26,June,2002   \n",
       "\n",
       "                                                     text  \\\n",
       "502618                   I just realized I had my blog...   \n",
       "194583                    urlLink A Blogger Manifesto ...   \n",
       "238623                Time Management - The Pickle Jar...   \n",
       "\n",
       "                                                   tokens  token_count  \\\n",
       "502618  [I, just, realized, I, had, my, blog, set, up,...           36   \n",
       "194583  [urlLink, A, Blogger, Manifesto, Why, online, ...           34   \n",
       "238623  [Time, Management, -, The, Pickle, Jar, Theory...          124   \n",
       "\n",
       "                                                freq_dist  \n",
       "502618  {'I': 2, 'just': 1, 'realized': 1, 'had': 1, '...  \n",
       "194583  {'urlLink': 1, 'A': 1, 'Blogger': 1, 'Manifest...  \n",
       "238623  {'Time': 2, 'Management': 2, '-': 2, 'The': 2,...  "
      ]
     },
     "execution_count": 64,
     "metadata": {},
     "output_type": "execute_result"
    }
   ],
   "source": [
    "mini_data.head(3)"
   ]
  },
  {
   "cell_type": "code",
   "execution_count": 65,
   "metadata": {},
   "outputs": [
    {
     "name": "stdout",
     "output_type": "stream",
     "text": [
      "<class 'pandas.core.frame.DataFrame'>\n",
      "Int64Index: 100 entries, 502618 to 320160\n",
      "Data columns (total 10 columns):\n",
      "id             100 non-null int64\n",
      "gender         100 non-null object\n",
      "age            100 non-null int64\n",
      "industry       100 non-null object\n",
      "sign           100 non-null object\n",
      "date           100 non-null object\n",
      "text           100 non-null object\n",
      "tokens         100 non-null object\n",
      "token_count    100 non-null int64\n",
      "freq_dist      100 non-null object\n",
      "dtypes: int64(3), object(7)\n",
      "memory usage: 8.6+ KB\n"
     ]
    }
   ],
   "source": [
    "mini_data.info()"
   ]
  },
  {
   "cell_type": "code",
   "execution_count": 66,
   "metadata": {},
   "outputs": [],
   "source": [
    "mini_data.to_csv(dir + 'data_samples/mini_data.csv', index=False)"
   ]
  },
  {
   "cell_type": "markdown",
   "metadata": {},
   "source": [
    "Now there is a much smaller, easier to save version of blogdata! Let's look at some basic stats for mini_data:"
   ]
  },
  {
   "cell_type": "code",
   "execution_count": 68,
   "metadata": {},
   "outputs": [
    {
     "data": {
      "text/plain": [
       "449628     2\n",
       "1093691    2\n",
       "316316     2\n",
       "1016738    1\n",
       "3374243    1\n",
       "1407268    1\n",
       "4231077    1\n",
       "2221350    1\n",
       "826407     1\n",
       "114645     1\n",
       "Name: id, dtype: int64"
      ]
     },
     "execution_count": 68,
     "metadata": {},
     "output_type": "execute_result"
    }
   ],
   "source": [
    "mini_data.id.value_counts()[:10]"
   ]
  },
  {
   "cell_type": "code",
   "execution_count": 69,
   "metadata": {},
   "outputs": [
    {
     "data": {
      "text/plain": [
       "male      53\n",
       "female    47\n",
       "Name: gender, dtype: int64"
      ]
     },
     "execution_count": 69,
     "metadata": {},
     "output_type": "execute_result"
    }
   ],
   "source": [
    "mini_data.gender.value_counts()"
   ]
  },
  {
   "cell_type": "code",
   "execution_count": 71,
   "metadata": {},
   "outputs": [
    {
     "data": {
      "text/plain": [
       "count    100.000000\n",
       "mean      23.110000\n",
       "std        7.304205\n",
       "min       13.000000\n",
       "25%       17.000000\n",
       "50%       23.000000\n",
       "75%       26.000000\n",
       "max       43.000000\n",
       "Name: age, dtype: float64"
      ]
     },
     "execution_count": 71,
     "metadata": {},
     "output_type": "execute_result"
    }
   ],
   "source": [
    "mini_data.age.describe()"
   ]
  },
  {
   "cell_type": "code",
   "execution_count": 72,
   "metadata": {},
   "outputs": [
    {
     "data": {
      "text/plain": [
       "indUnk                  35\n",
       "Student                 22\n",
       "Arts                     7\n",
       "Education                6\n",
       "Non-Profit               6\n",
       "Technology               5\n",
       "Law                      5\n",
       "Publishing               4\n",
       "Engineering              2\n",
       "Religion                 2\n",
       "HumanResources           1\n",
       "Museums-Libraries        1\n",
       "Science                  1\n",
       "Communications-Media     1\n",
       "Chemicals                1\n",
       "Agriculture              1\n",
       "Name: industry, dtype: int64"
      ]
     },
     "execution_count": 72,
     "metadata": {},
     "output_type": "execute_result"
    }
   ],
   "source": [
    "mini_data.industry.value_counts()"
   ]
  },
  {
   "cell_type": "code",
   "execution_count": 73,
   "metadata": {},
   "outputs": [
    {
     "data": {
      "text/plain": [
       "'                  urlLink A Blogger Manifesto  Why online weblogs are one future for journalism. This is a clearly written argument for blogging by professional writers, but there is still room for us amateurs.             '"
      ]
     },
     "execution_count": 73,
     "metadata": {},
     "output_type": "execute_result"
    }
   ],
   "source": [
    "mini_data.text[194583]"
   ]
  },
  {
   "cell_type": "markdown",
   "metadata": {},
   "source": [
    "__Summary:__\n",
    "    \n",
    "There are only 3 repeat bloggers, slightly more men than women, an average age of 23 with a range of 13-43, and the majority of bloggers do not list their industry or are students."
   ]
  },
  {
   "cell_type": "code",
   "execution_count": null,
   "metadata": {},
   "outputs": [],
   "source": []
  }
 ],
 "metadata": {
  "kernelspec": {
   "display_name": "Python 3",
   "language": "python",
   "name": "python3"
  },
  "language_info": {
   "codemirror_mode": {
    "name": "ipython",
    "version": 3
   },
   "file_extension": ".py",
   "mimetype": "text/x-python",
   "name": "python",
   "nbconvert_exporter": "python",
   "pygments_lexer": "ipython3",
   "version": "3.7.1"
  }
 },
 "nbformat": 4,
 "nbformat_minor": 2
}
